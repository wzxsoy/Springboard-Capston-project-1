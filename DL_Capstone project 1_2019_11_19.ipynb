{
 "cells": [
  {
   "cell_type": "code",
   "execution_count": 4,
   "metadata": {},
   "outputs": [],
   "source": [
    "# main modules needed\n",
    "import pandas as pd\n",
    "import numpy as np\n",
    "import seaborn as sns\n",
    "from sklearn import linear_model\n",
    "from sklearn.model_selection import train_test_split\n",
    "from matplotlib import pyplot as plt\n",
    "from scipy import stats\n",
    "from sklearn.decomposition import PCA\n",
    "from sklearn.preprocessing import StandardScaler\n",
    "from sklearn.preprocessing import scale\n"
   ]
  },
  {
   "cell_type": "code",
   "execution_count": 6,
   "metadata": {},
   "outputs": [
    {
     "name": "stderr",
     "output_type": "stream",
     "text": [
      "C:\\ProgramData\\Anaconda3\\lib\\site-packages\\IPython\\core\\interactiveshell.py:3058: DtypeWarning: Columns (0) have mixed types. Specify dtype option on import or set low_memory=False.\n",
      "  interactivity=interactivity, compiler=compiler, result=result)\n"
     ]
    }
   ],
   "source": [
    "df=pd.read_csv('012format_last.csv')"
   ]
  },
  {
   "cell_type": "code",
   "execution_count": 7,
   "metadata": {},
   "outputs": [
    {
     "data": {
      "text/html": [
       "<div>\n",
       "<style scoped>\n",
       "    .dataframe tbody tr th:only-of-type {\n",
       "        vertical-align: middle;\n",
       "    }\n",
       "\n",
       "    .dataframe tbody tr th {\n",
       "        vertical-align: top;\n",
       "    }\n",
       "\n",
       "    .dataframe thead th {\n",
       "        text-align: right;\n",
       "    }\n",
       "</style>\n",
       "<table border=\"1\" class=\"dataframe\">\n",
       "  <thead>\n",
       "    <tr style=\"text-align: right;\">\n",
       "      <th></th>\n",
       "      <th>Unnamed: 0</th>\n",
       "      <th>Unnamed: 0.1</th>\n",
       "      <th>2</th>\n",
       "      <th>3</th>\n",
       "      <th>4</th>\n",
       "      <th>5</th>\n",
       "      <th>6</th>\n",
       "      <th>7</th>\n",
       "      <th>8</th>\n",
       "      <th>9</th>\n",
       "      <th>...</th>\n",
       "      <th>35210</th>\n",
       "      <th>35211</th>\n",
       "      <th>35212</th>\n",
       "      <th>35213</th>\n",
       "      <th>35214</th>\n",
       "      <th>35215</th>\n",
       "      <th>35216</th>\n",
       "      <th>35217</th>\n",
       "      <th>35218</th>\n",
       "      <th>35219</th>\n",
       "    </tr>\n",
       "  </thead>\n",
       "  <tbody>\n",
       "    <tr>\n",
       "      <th>0</th>\n",
       "      <td>PI253651A</td>\n",
       "      <td>1</td>\n",
       "      <td>0</td>\n",
       "      <td>0</td>\n",
       "      <td>0</td>\n",
       "      <td>0</td>\n",
       "      <td>0</td>\n",
       "      <td>0</td>\n",
       "      <td>0</td>\n",
       "      <td>0</td>\n",
       "      <td>...</td>\n",
       "      <td>0</td>\n",
       "      <td>0</td>\n",
       "      <td>0</td>\n",
       "      <td>0</td>\n",
       "      <td>0</td>\n",
       "      <td>0</td>\n",
       "      <td>0</td>\n",
       "      <td>0</td>\n",
       "      <td>0</td>\n",
       "      <td>0</td>\n",
       "    </tr>\n",
       "    <tr>\n",
       "      <th>1</th>\n",
       "      <td>PI347550A</td>\n",
       "      <td>2</td>\n",
       "      <td>0</td>\n",
       "      <td>0</td>\n",
       "      <td>0</td>\n",
       "      <td>0</td>\n",
       "      <td>0</td>\n",
       "      <td>0</td>\n",
       "      <td>0</td>\n",
       "      <td>0</td>\n",
       "      <td>...</td>\n",
       "      <td>0</td>\n",
       "      <td>0</td>\n",
       "      <td>0</td>\n",
       "      <td>0</td>\n",
       "      <td>0</td>\n",
       "      <td>0</td>\n",
       "      <td>0</td>\n",
       "      <td>2</td>\n",
       "      <td>0</td>\n",
       "      <td>2</td>\n",
       "    </tr>\n",
       "    <tr>\n",
       "      <th>2</th>\n",
       "      <td>PI408055A</td>\n",
       "      <td>3</td>\n",
       "      <td>0</td>\n",
       "      <td>0</td>\n",
       "      <td>0</td>\n",
       "      <td>0</td>\n",
       "      <td>0</td>\n",
       "      <td>0</td>\n",
       "      <td>0</td>\n",
       "      <td>0</td>\n",
       "      <td>...</td>\n",
       "      <td>0</td>\n",
       "      <td>0</td>\n",
       "      <td>0</td>\n",
       "      <td>0</td>\n",
       "      <td>0</td>\n",
       "      <td>0</td>\n",
       "      <td>0</td>\n",
       "      <td>0</td>\n",
       "      <td>0</td>\n",
       "      <td>0</td>\n",
       "    </tr>\n",
       "    <tr>\n",
       "      <th>3</th>\n",
       "      <td>PI408069</td>\n",
       "      <td>4</td>\n",
       "      <td>0</td>\n",
       "      <td>0</td>\n",
       "      <td>0</td>\n",
       "      <td>0</td>\n",
       "      <td>0</td>\n",
       "      <td>0</td>\n",
       "      <td>0</td>\n",
       "      <td>0</td>\n",
       "      <td>...</td>\n",
       "      <td>0</td>\n",
       "      <td>0</td>\n",
       "      <td>0</td>\n",
       "      <td>0</td>\n",
       "      <td>0</td>\n",
       "      <td>0</td>\n",
       "      <td>0</td>\n",
       "      <td>0</td>\n",
       "      <td>0</td>\n",
       "      <td>0</td>\n",
       "    </tr>\n",
       "    <tr>\n",
       "      <th>4</th>\n",
       "      <td>PI408169A</td>\n",
       "      <td>5</td>\n",
       "      <td>2</td>\n",
       "      <td>2</td>\n",
       "      <td>2</td>\n",
       "      <td>0</td>\n",
       "      <td>2</td>\n",
       "      <td>0</td>\n",
       "      <td>2</td>\n",
       "      <td>2</td>\n",
       "      <td>...</td>\n",
       "      <td>0</td>\n",
       "      <td>0</td>\n",
       "      <td>0</td>\n",
       "      <td>0</td>\n",
       "      <td>0</td>\n",
       "      <td>0</td>\n",
       "      <td>0</td>\n",
       "      <td>0</td>\n",
       "      <td>0</td>\n",
       "      <td>0</td>\n",
       "    </tr>\n",
       "  </tbody>\n",
       "</table>\n",
       "<p>5 rows × 35220 columns</p>\n",
       "</div>"
      ],
      "text/plain": [
       "  Unnamed: 0  Unnamed: 0.1  2  3  4  5  6  7  8  9  ...  35210  35211  35212  \\\n",
       "0  PI253651A             1  0  0  0  0  0  0  0  0  ...      0      0      0   \n",
       "1  PI347550A             2  0  0  0  0  0  0  0  0  ...      0      0      0   \n",
       "2  PI408055A             3  0  0  0  0  0  0  0  0  ...      0      0      0   \n",
       "3   PI408069             4  0  0  0  0  0  0  0  0  ...      0      0      0   \n",
       "4  PI408169A             5  2  2  2  0  2  0  2  2  ...      0      0      0   \n",
       "\n",
       "   35213  35214  35215  35216  35217  35218  35219  \n",
       "0      0      0      0      0      0      0      0  \n",
       "1      0      0      0      0      2      0      2  \n",
       "2      0      0      0      0      0      0      0  \n",
       "3      0      0      0      0      0      0      0  \n",
       "4      0      0      0      0      0      0      0  \n",
       "\n",
       "[5 rows x 35220 columns]"
      ]
     },
     "execution_count": 7,
     "metadata": {},
     "output_type": "execute_result"
    }
   ],
   "source": [
    "df.head()"
   ]
  },
  {
   "cell_type": "code",
   "execution_count": 8,
   "metadata": {},
   "outputs": [],
   "source": [
    "df.rename(columns={\"Unnamed: 0\": \"id\"},inplace=True)"
   ]
  },
  {
   "cell_type": "code",
   "execution_count": 9,
   "metadata": {},
   "outputs": [
    {
     "data": {
      "text/html": [
       "<div>\n",
       "<style scoped>\n",
       "    .dataframe tbody tr th:only-of-type {\n",
       "        vertical-align: middle;\n",
       "    }\n",
       "\n",
       "    .dataframe tbody tr th {\n",
       "        vertical-align: top;\n",
       "    }\n",
       "\n",
       "    .dataframe thead th {\n",
       "        text-align: right;\n",
       "    }\n",
       "</style>\n",
       "<table border=\"1\" class=\"dataframe\">\n",
       "  <thead>\n",
       "    <tr style=\"text-align: right;\">\n",
       "      <th></th>\n",
       "      <th>id</th>\n",
       "      <th>Unnamed: 0.1</th>\n",
       "      <th>2</th>\n",
       "      <th>3</th>\n",
       "      <th>4</th>\n",
       "      <th>5</th>\n",
       "      <th>6</th>\n",
       "      <th>7</th>\n",
       "      <th>8</th>\n",
       "      <th>9</th>\n",
       "      <th>...</th>\n",
       "      <th>35210</th>\n",
       "      <th>35211</th>\n",
       "      <th>35212</th>\n",
       "      <th>35213</th>\n",
       "      <th>35214</th>\n",
       "      <th>35215</th>\n",
       "      <th>35216</th>\n",
       "      <th>35217</th>\n",
       "      <th>35218</th>\n",
       "      <th>35219</th>\n",
       "    </tr>\n",
       "  </thead>\n",
       "  <tbody>\n",
       "    <tr>\n",
       "      <th>0</th>\n",
       "      <td>PI253651A</td>\n",
       "      <td>1</td>\n",
       "      <td>0</td>\n",
       "      <td>0</td>\n",
       "      <td>0</td>\n",
       "      <td>0</td>\n",
       "      <td>0</td>\n",
       "      <td>0</td>\n",
       "      <td>0</td>\n",
       "      <td>0</td>\n",
       "      <td>...</td>\n",
       "      <td>0</td>\n",
       "      <td>0</td>\n",
       "      <td>0</td>\n",
       "      <td>0</td>\n",
       "      <td>0</td>\n",
       "      <td>0</td>\n",
       "      <td>0</td>\n",
       "      <td>0</td>\n",
       "      <td>0</td>\n",
       "      <td>0</td>\n",
       "    </tr>\n",
       "    <tr>\n",
       "      <th>1</th>\n",
       "      <td>PI347550A</td>\n",
       "      <td>2</td>\n",
       "      <td>0</td>\n",
       "      <td>0</td>\n",
       "      <td>0</td>\n",
       "      <td>0</td>\n",
       "      <td>0</td>\n",
       "      <td>0</td>\n",
       "      <td>0</td>\n",
       "      <td>0</td>\n",
       "      <td>...</td>\n",
       "      <td>0</td>\n",
       "      <td>0</td>\n",
       "      <td>0</td>\n",
       "      <td>0</td>\n",
       "      <td>0</td>\n",
       "      <td>0</td>\n",
       "      <td>0</td>\n",
       "      <td>2</td>\n",
       "      <td>0</td>\n",
       "      <td>2</td>\n",
       "    </tr>\n",
       "    <tr>\n",
       "      <th>2</th>\n",
       "      <td>PI408055A</td>\n",
       "      <td>3</td>\n",
       "      <td>0</td>\n",
       "      <td>0</td>\n",
       "      <td>0</td>\n",
       "      <td>0</td>\n",
       "      <td>0</td>\n",
       "      <td>0</td>\n",
       "      <td>0</td>\n",
       "      <td>0</td>\n",
       "      <td>...</td>\n",
       "      <td>0</td>\n",
       "      <td>0</td>\n",
       "      <td>0</td>\n",
       "      <td>0</td>\n",
       "      <td>0</td>\n",
       "      <td>0</td>\n",
       "      <td>0</td>\n",
       "      <td>0</td>\n",
       "      <td>0</td>\n",
       "      <td>0</td>\n",
       "    </tr>\n",
       "    <tr>\n",
       "      <th>3</th>\n",
       "      <td>PI408069</td>\n",
       "      <td>4</td>\n",
       "      <td>0</td>\n",
       "      <td>0</td>\n",
       "      <td>0</td>\n",
       "      <td>0</td>\n",
       "      <td>0</td>\n",
       "      <td>0</td>\n",
       "      <td>0</td>\n",
       "      <td>0</td>\n",
       "      <td>...</td>\n",
       "      <td>0</td>\n",
       "      <td>0</td>\n",
       "      <td>0</td>\n",
       "      <td>0</td>\n",
       "      <td>0</td>\n",
       "      <td>0</td>\n",
       "      <td>0</td>\n",
       "      <td>0</td>\n",
       "      <td>0</td>\n",
       "      <td>0</td>\n",
       "    </tr>\n",
       "    <tr>\n",
       "      <th>4</th>\n",
       "      <td>PI408169A</td>\n",
       "      <td>5</td>\n",
       "      <td>2</td>\n",
       "      <td>2</td>\n",
       "      <td>2</td>\n",
       "      <td>0</td>\n",
       "      <td>2</td>\n",
       "      <td>0</td>\n",
       "      <td>2</td>\n",
       "      <td>2</td>\n",
       "      <td>...</td>\n",
       "      <td>0</td>\n",
       "      <td>0</td>\n",
       "      <td>0</td>\n",
       "      <td>0</td>\n",
       "      <td>0</td>\n",
       "      <td>0</td>\n",
       "      <td>0</td>\n",
       "      <td>0</td>\n",
       "      <td>0</td>\n",
       "      <td>0</td>\n",
       "    </tr>\n",
       "  </tbody>\n",
       "</table>\n",
       "<p>5 rows × 35220 columns</p>\n",
       "</div>"
      ],
      "text/plain": [
       "          id  Unnamed: 0.1  2  3  4  5  6  7  8  9  ...  35210  35211  35212  \\\n",
       "0  PI253651A             1  0  0  0  0  0  0  0  0  ...      0      0      0   \n",
       "1  PI347550A             2  0  0  0  0  0  0  0  0  ...      0      0      0   \n",
       "2  PI408055A             3  0  0  0  0  0  0  0  0  ...      0      0      0   \n",
       "3   PI408069             4  0  0  0  0  0  0  0  0  ...      0      0      0   \n",
       "4  PI408169A             5  2  2  2  0  2  0  2  2  ...      0      0      0   \n",
       "\n",
       "   35213  35214  35215  35216  35217  35218  35219  \n",
       "0      0      0      0      0      0      0      0  \n",
       "1      0      0      0      0      2      0      2  \n",
       "2      0      0      0      0      0      0      0  \n",
       "3      0      0      0      0      0      0      0  \n",
       "4      0      0      0      0      0      0      0  \n",
       "\n",
       "[5 rows x 35220 columns]"
      ]
     },
     "execution_count": 9,
     "metadata": {},
     "output_type": "execute_result"
    }
   ],
   "source": [
    "df.head()"
   ]
  },
  {
   "cell_type": "code",
   "execution_count": 10,
   "metadata": {},
   "outputs": [],
   "source": [
    "cleaned_t = pd.read_csv('combined_ypo.csv')"
   ]
  },
  {
   "cell_type": "code",
   "execution_count": 11,
   "metadata": {},
   "outputs": [
    {
     "data": {
      "text/plain": [
       "(9821, 4)"
      ]
     },
     "execution_count": 11,
     "metadata": {},
     "output_type": "execute_result"
    }
   ],
   "source": [
    "cleaned_t.shape"
   ]
  },
  {
   "cell_type": "code",
   "execution_count": 12,
   "metadata": {},
   "outputs": [],
   "source": [
    "g_plus_p=pd.merge(df,cleaned_t, left_on=df.id, right_on=cleaned_t.id, how='inner')"
   ]
  },
  {
   "cell_type": "code",
   "execution_count": 13,
   "metadata": {},
   "outputs": [
    {
     "data": {
      "text/plain": [
       "(8917, 35225)"
      ]
     },
     "execution_count": 13,
     "metadata": {},
     "output_type": "execute_result"
    }
   ],
   "source": [
    "g_plus_p.shape"
   ]
  },
  {
   "cell_type": "code",
   "execution_count": 14,
   "metadata": {
    "scrolled": true
   },
   "outputs": [
    {
     "data": {
      "text/html": [
       "<div>\n",
       "<style scoped>\n",
       "    .dataframe tbody tr th:only-of-type {\n",
       "        vertical-align: middle;\n",
       "    }\n",
       "\n",
       "    .dataframe tbody tr th {\n",
       "        vertical-align: top;\n",
       "    }\n",
       "\n",
       "    .dataframe thead th {\n",
       "        text-align: right;\n",
       "    }\n",
       "</style>\n",
       "<table border=\"1\" class=\"dataframe\">\n",
       "  <thead>\n",
       "    <tr style=\"text-align: right;\">\n",
       "      <th></th>\n",
       "      <th>key_0</th>\n",
       "      <th>id_x</th>\n",
       "      <th>Unnamed: 0.1</th>\n",
       "      <th>2</th>\n",
       "      <th>3</th>\n",
       "      <th>4</th>\n",
       "      <th>5</th>\n",
       "      <th>6</th>\n",
       "      <th>7</th>\n",
       "      <th>8</th>\n",
       "      <th>...</th>\n",
       "      <th>35214</th>\n",
       "      <th>35215</th>\n",
       "      <th>35216</th>\n",
       "      <th>35217</th>\n",
       "      <th>35218</th>\n",
       "      <th>35219</th>\n",
       "      <th>id_y</th>\n",
       "      <th>yield</th>\n",
       "      <th>protein</th>\n",
       "      <th>oil</th>\n",
       "    </tr>\n",
       "  </thead>\n",
       "  <tbody>\n",
       "    <tr>\n",
       "      <th>0</th>\n",
       "      <td>PI253651A</td>\n",
       "      <td>PI253651A</td>\n",
       "      <td>1</td>\n",
       "      <td>0</td>\n",
       "      <td>0</td>\n",
       "      <td>0</td>\n",
       "      <td>0</td>\n",
       "      <td>0</td>\n",
       "      <td>0</td>\n",
       "      <td>0</td>\n",
       "      <td>...</td>\n",
       "      <td>0</td>\n",
       "      <td>0</td>\n",
       "      <td>0</td>\n",
       "      <td>0</td>\n",
       "      <td>0</td>\n",
       "      <td>0</td>\n",
       "      <td>PI253651A</td>\n",
       "      <td>2.43</td>\n",
       "      <td>42.6</td>\n",
       "      <td>18.5</td>\n",
       "    </tr>\n",
       "    <tr>\n",
       "      <th>1</th>\n",
       "      <td>PI347550A</td>\n",
       "      <td>PI347550A</td>\n",
       "      <td>2</td>\n",
       "      <td>0</td>\n",
       "      <td>0</td>\n",
       "      <td>0</td>\n",
       "      <td>0</td>\n",
       "      <td>0</td>\n",
       "      <td>0</td>\n",
       "      <td>0</td>\n",
       "      <td>...</td>\n",
       "      <td>0</td>\n",
       "      <td>0</td>\n",
       "      <td>0</td>\n",
       "      <td>2</td>\n",
       "      <td>0</td>\n",
       "      <td>2</td>\n",
       "      <td>PI347550A</td>\n",
       "      <td>3.29</td>\n",
       "      <td>44.7</td>\n",
       "      <td>19.8</td>\n",
       "    </tr>\n",
       "    <tr>\n",
       "      <th>2</th>\n",
       "      <td>PI408055A</td>\n",
       "      <td>PI408055A</td>\n",
       "      <td>3</td>\n",
       "      <td>0</td>\n",
       "      <td>0</td>\n",
       "      <td>0</td>\n",
       "      <td>0</td>\n",
       "      <td>0</td>\n",
       "      <td>0</td>\n",
       "      <td>0</td>\n",
       "      <td>...</td>\n",
       "      <td>0</td>\n",
       "      <td>0</td>\n",
       "      <td>0</td>\n",
       "      <td>0</td>\n",
       "      <td>0</td>\n",
       "      <td>0</td>\n",
       "      <td>PI408055A</td>\n",
       "      <td>2.41</td>\n",
       "      <td>46.7</td>\n",
       "      <td>18.0</td>\n",
       "    </tr>\n",
       "    <tr>\n",
       "      <th>3</th>\n",
       "      <td>PI408069</td>\n",
       "      <td>PI408069</td>\n",
       "      <td>4</td>\n",
       "      <td>0</td>\n",
       "      <td>0</td>\n",
       "      <td>0</td>\n",
       "      <td>0</td>\n",
       "      <td>0</td>\n",
       "      <td>0</td>\n",
       "      <td>0</td>\n",
       "      <td>...</td>\n",
       "      <td>0</td>\n",
       "      <td>0</td>\n",
       "      <td>0</td>\n",
       "      <td>0</td>\n",
       "      <td>0</td>\n",
       "      <td>0</td>\n",
       "      <td>PI408069</td>\n",
       "      <td>NaN</td>\n",
       "      <td>43.2</td>\n",
       "      <td>20.6</td>\n",
       "    </tr>\n",
       "    <tr>\n",
       "      <th>4</th>\n",
       "      <td>PI408169A</td>\n",
       "      <td>PI408169A</td>\n",
       "      <td>5</td>\n",
       "      <td>2</td>\n",
       "      <td>2</td>\n",
       "      <td>2</td>\n",
       "      <td>0</td>\n",
       "      <td>2</td>\n",
       "      <td>0</td>\n",
       "      <td>2</td>\n",
       "      <td>...</td>\n",
       "      <td>0</td>\n",
       "      <td>0</td>\n",
       "      <td>0</td>\n",
       "      <td>0</td>\n",
       "      <td>0</td>\n",
       "      <td>0</td>\n",
       "      <td>PI408169A</td>\n",
       "      <td>1.93</td>\n",
       "      <td>45.8</td>\n",
       "      <td>16.4</td>\n",
       "    </tr>\n",
       "  </tbody>\n",
       "</table>\n",
       "<p>5 rows × 35225 columns</p>\n",
       "</div>"
      ],
      "text/plain": [
       "       key_0       id_x  Unnamed: 0.1  2  3  4  5  6  7  8  ...  35214  35215  \\\n",
       "0  PI253651A  PI253651A             1  0  0  0  0  0  0  0  ...      0      0   \n",
       "1  PI347550A  PI347550A             2  0  0  0  0  0  0  0  ...      0      0   \n",
       "2  PI408055A  PI408055A             3  0  0  0  0  0  0  0  ...      0      0   \n",
       "3   PI408069   PI408069             4  0  0  0  0  0  0  0  ...      0      0   \n",
       "4  PI408169A  PI408169A             5  2  2  2  0  2  0  2  ...      0      0   \n",
       "\n",
       "   35216  35217  35218  35219       id_y  yield  protein   oil  \n",
       "0      0      0      0      0  PI253651A   2.43     42.6  18.5  \n",
       "1      0      2      0      2  PI347550A   3.29     44.7  19.8  \n",
       "2      0      0      0      0  PI408055A   2.41     46.7  18.0  \n",
       "3      0      0      0      0   PI408069    NaN     43.2  20.6  \n",
       "4      0      0      0      0  PI408169A   1.93     45.8  16.4  \n",
       "\n",
       "[5 rows x 35225 columns]"
      ]
     },
     "execution_count": 14,
     "metadata": {},
     "output_type": "execute_result"
    }
   ],
   "source": [
    "g_plus_p.head()"
   ]
  },
  {
   "cell_type": "markdown",
   "metadata": {},
   "source": [
    "### Mathine Learning for Protein Content"
   ]
  },
  {
   "cell_type": "code",
   "execution_count": 33,
   "metadata": {
    "scrolled": true
   },
   "outputs": [],
   "source": [
    "X=g_plus_p.iloc[:,3:35220]"
   ]
  },
  {
   "cell_type": "code",
   "execution_count": 34,
   "metadata": {},
   "outputs": [],
   "source": [
    "Y=g_plus_p['protein'].fillna(np.mean(g_plus_p['protein']))"
   ]
  },
  {
   "cell_type": "code",
   "execution_count": 35,
   "metadata": {},
   "outputs": [
    {
     "name": "stdout",
     "output_type": "stream",
     "text": [
      "(7133, 35217) (7133,)\n",
      "(1784, 35217) (1784,)\n"
     ]
    }
   ],
   "source": [
    " # first trait analyzed\n",
    "X_train, X_test, y_train, y_test = train_test_split(X, Y, test_size=0.2)\n",
    "print(X_train.shape, y_train.shape)\n",
    "print(X_test.shape, y_test.shape)"
   ]
  },
  {
   "cell_type": "code",
   "execution_count": 36,
   "metadata": {},
   "outputs": [
    {
     "name": "stdout",
     "output_type": "stream",
     "text": [
      "       min max mean sd\n",
      "Train: 37.3 51.2 44.44895672437694 2.494817178587468\n",
      "Test: 37.9 51.1 44.40351069156212 2.4383150943318808\n"
     ]
    }
   ],
   "source": [
    "print('       min max mean sd')\n",
    "print('Train:', y_train.min(), y_train.max(), y_train.mean(), np.sqrt(y_train.var()))\n",
    "print('Test:', y_test.min(), y_test.max(), y_test.mean(), np.sqrt(y_test.var()))"
   ]
  },
  {
   "cell_type": "code",
   "execution_count": 37,
   "metadata": {
    "scrolled": false
   },
   "outputs": [
    {
     "data": {
      "image/png": "[encoded data removed]",
      "text/plain": [
       "<Figure size 432x288 with 1 Axes>"
      ]
     },
     "metadata": {
      "needs_background": "light"
     },
     "output_type": "display_data"
    },
    {
     "data": {
      "image/png": "[encoded data removed]",
      "text/plain": [
       "<Figure size 432x288 with 1 Axes>"
      ]
     },
     "metadata": {
      "needs_background": "light"
     },
     "output_type": "display_data"
    }
   ],
   "source": [
    "plt.title('Train / test data')\n",
    "plt.hist(y_train, label='Train')\n",
    "plt.hist(y_test, label='Test')\n",
    "plt.legend(loc='best')\n",
    "plt.show()\n",
    "\n",
    "# marker PCA, use whole X with diff color for train and test\n",
    "X = np.concatenate((X_train, X_test))\n",
    "pca = PCA(n_components=2)\n",
    "p = pca.fit(X).fit_transform(X)\n",
    "Ntrain=X_train.shape[0]\n",
    "plt.title('PCA decomposition')\n",
    "plt.scatter(p[0:Ntrain,0], p[0:Ntrain,1], label='Train')\n",
    "plt.scatter(p[Ntrain:,0], p[Ntrain:,1], label='Test', color='orange')\n",
    "plt.legend(loc='best')\n",
    "plt.show()"
   ]
  },
  {
   "cell_type": "code",
   "execution_count": 38,
   "metadata": {},
   "outputs": [
    {
     "name": "stdout",
     "output_type": "stream",
     "text": [
      "35216\n"
     ]
    }
   ],
   "source": [
    "#  SNP preselection according to a simple GWAS\n",
    "pvals = []\n",
    "for i in range(X_train.shape[1]-1):\n",
    "    b, intercept, r_value, p_value, std_err = stats.linregress(np.asarray(X_train.iloc[:,i]), np.asarray(y_train))\n",
    "    pvals.append(-np.log10(p_value))\n",
    "pvals = np.array(pvals)\n",
    "print(len(pvals))\n"
   ]
  },
  {
   "cell_type": "code",
   "execution_count": 39,
   "metadata": {},
   "outputs": [
    {
     "data": {
      "image/png": "[encoded data removed]",
      "text/plain": [
       "<Figure size 432x288 with 1 Axes>"
      ]
     },
     "metadata": {
      "needs_background": "light"
     },
     "output_type": "display_data"
    }
   ],
   "source": [
    "# plot GWAS\n",
    "plt.ylabel('-log10 P-value')\n",
    "plt.xlabel('SNP')\n",
    "plt.plot(pvals, marker='o')\n",
    "plt.show()\n",
    "\n",
    "# or select by min_P_value\n",
    "min_P_value = 3 # P = 0.001\n",
    "snp_list = np.nonzero(pvals>min_P_value)\n",
    "\n",
    "# finally slice X\n",
    "X_train = X_train[X_train.columns[snp_list]] \n",
    "X_test = X_test[X_test.columns[snp_list]]"
   ]
  },
  {
   "cell_type": "code",
   "execution_count": 31,
   "metadata": {},
   "outputs": [
    {
     "data": {
      "text/plain": [
       "(array([    0,     1,     2, ..., 28000, 28001, 28002], dtype=int64),)"
      ]
     },
     "execution_count": 31,
     "metadata": {},
     "output_type": "execute_result"
    }
   ],
   "source": [
    "snp_list"
   ]
  },
  {
   "cell_type": "code",
   "execution_count": 19,
   "metadata": {},
   "outputs": [
    {
     "name": "stdout",
     "output_type": "stream",
     "text": [
      "\n",
      "MSE in prediction = tf.Tensor(3.5916293, shape=(), dtype=float32)\n",
      "\n",
      "Corr obs vs pred = 0.6351502470652748\n"
     ]
    },
    {
     "data": {
      "image/png": "[encoded data removed]",
      "text/plain": [
       "<Figure size 432x288 with 1 Axes>"
      ]
     },
     "metadata": {
      "needs_background": "light"
     },
     "output_type": "display_data"
    }
   ],
   "source": [
    "# alpha is the regularization parameter\n",
    "lasso = linear_model.Lasso(alpha=0.01)\n",
    "lasso.fit(X_train, y_train)\n",
    "y_hat = lasso.predict(X_test)\n",
    "\n",
    "# mean squared error\n",
    "mse = mean_squared_error(y_test, y_hat)\n",
    "print('\\nMSE in prediction =',mse)\n",
    "\n",
    "# correlation btw predicted and observed\n",
    "corr = np.corrcoef(y_test,y_hat)[0,1]\n",
    "print('\\nCorr obs vs pred =',corr)\n",
    "\n",
    "# plot observed vs. predicted targets\n",
    "plt.title('Lasso: Observed vs Predicted Y')\n",
    "plt.ylabel('Predicted')\n",
    "plt.xlabel('Observed')\n",
    "plt.scatter(y_test, y_hat, marker='o')\n",
    "plt.show()\n"
   ]
  },
  {
   "cell_type": "markdown",
   "metadata": {},
   "source": [
    "### Mathine Learning for Oil Content"
   ]
  },
  {
   "cell_type": "code",
   "execution_count": 1,
   "metadata": {},
   "outputs": [
    {
     "ename": "NameError",
     "evalue": "name 'g_plus_p' is not defined",
     "output_type": "error",
     "traceback": [
      "\u001b[1;31m---------------------------------------------------------------------------\u001b[0m",
      "\u001b[1;31mNameError\u001b[0m                                 Traceback (most recent call last)",
      "\u001b[1;32m<ipython-input-1-0d00f185bce6>\u001b[0m in \u001b[0;36m<module>\u001b[1;34m\u001b[0m\n\u001b[1;32m----> 1\u001b[1;33m \u001b[0mX\u001b[0m\u001b[1;33m=\u001b[0m\u001b[0mg_plus_p\u001b[0m\u001b[1;33m.\u001b[0m\u001b[0miloc\u001b[0m\u001b[1;33m[\u001b[0m\u001b[1;33m:\u001b[0m\u001b[1;33m,\u001b[0m\u001b[1;36m3\u001b[0m\u001b[1;33m:\u001b[0m\u001b[1;36m35220\u001b[0m\u001b[1;33m]\u001b[0m\u001b[1;33m\u001b[0m\u001b[1;33m\u001b[0m\u001b[0m\n\u001b[0m",
      "\u001b[1;31mNameError\u001b[0m: name 'g_plus_p' is not defined"
     ]
    }
   ],
   "source": [
    "X=g_plus_p.iloc[:,3:35220]"
   ]
  },
  {
   "cell_type": "code",
   "execution_count": 2,
   "metadata": {},
   "outputs": [
    {
     "ename": "NameError",
     "evalue": "name 'g_plus_p' is not defined",
     "output_type": "error",
     "traceback": [
      "\u001b[1;31m---------------------------------------------------------------------------\u001b[0m",
      "\u001b[1;31mNameError\u001b[0m                                 Traceback (most recent call last)",
      "\u001b[1;32m<ipython-input-2-cd205b375663>\u001b[0m in \u001b[0;36m<module>\u001b[1;34m\u001b[0m\n\u001b[1;32m----> 1\u001b[1;33m \u001b[0mY\u001b[0m\u001b[1;33m=\u001b[0m\u001b[0mg_plus_p\u001b[0m\u001b[1;33m[\u001b[0m\u001b[1;34m'oil'\u001b[0m\u001b[1;33m]\u001b[0m\u001b[1;33m.\u001b[0m\u001b[0mfillna\u001b[0m\u001b[1;33m(\u001b[0m\u001b[0mnp\u001b[0m\u001b[1;33m.\u001b[0m\u001b[0mmean\u001b[0m\u001b[1;33m(\u001b[0m\u001b[0mg_plus_p\u001b[0m\u001b[1;33m[\u001b[0m\u001b[1;34m'oil'\u001b[0m\u001b[1;33m]\u001b[0m\u001b[1;33m)\u001b[0m\u001b[1;33m)\u001b[0m\u001b[1;33m\u001b[0m\u001b[1;33m\u001b[0m\u001b[0m\n\u001b[0m",
      "\u001b[1;31mNameError\u001b[0m: name 'g_plus_p' is not defined"
     ]
    }
   ],
   "source": [
    "Y=g_plus_p['oil'].fillna(np.mean(g_plus_p['oil']))"
   ]
  },
  {
   "cell_type": "code",
   "execution_count": 14,
   "metadata": {},
   "outputs": [
    {
     "name": "stdout",
     "output_type": "stream",
     "text": [
      "(7133, 35217) (7133,)\n",
      "(1784, 35217) (1784,)\n"
     ]
    }
   ],
   "source": [
    " # first trait analyzed\n",
    "X_train, X_test, y_train, y_test = train_test_split(X, Y, test_size=0.2)\n",
    "print(X_train.shape, y_train.shape)\n",
    "print(X_test.shape, y_test.shape)"
   ]
  },
  {
   "cell_type": "code",
   "execution_count": 15,
   "metadata": {},
   "outputs": [
    {
     "name": "stdout",
     "output_type": "stream",
     "text": [
      "       min max mean sd\n",
      "Train: 37.3 51.2 44.41775795684131 2.4966141875093064\n",
      "Test: 38.0 51.2 44.52825329740871 2.4292762175812346\n"
     ]
    }
   ],
   "source": [
    "print('       min max mean sd')\n",
    "print('Train:', y_train.min(), y_train.max(), y_train.mean(), np.sqrt(y_train.var()))\n",
    "print('Test:', y_test.min(), y_test.max(), y_test.mean(), np.sqrt(y_test.var()))"
   ]
  },
  {
   "cell_type": "code",
   "execution_count": 16,
   "metadata": {
    "scrolled": false
   },
   "outputs": [
    {
     "data": {
      "image/png": "[encoded data removed]",
      "text/plain": [
       "<Figure size 432x288 with 1 Axes>"
      ]
     },
     "metadata": {
      "needs_background": "light"
     },
     "output_type": "display_data"
    },
    {
     "data": {
      "image/png": "[encoded data removed]",
      "text/plain": [
       "<Figure size 432x288 with 1 Axes>"
      ]
     },
     "metadata": {
      "needs_background": "light"
     },
     "output_type": "display_data"
    }
   ],
   "source": [
    "plt.title('Train / test data')\n",
    "plt.hist(y_train, label='Train')\n",
    "plt.hist(y_test, label='Test')\n",
    "plt.legend(loc='best')\n",
    "plt.show()\n",
    "\n",
    "# marker PCA, use whole X with diff color for train and test\n",
    "X = np.concatenate((X_train, X_test))\n",
    "pca = PCA(n_components=2)\n",
    "p = pca.fit(X).fit_transform(X)\n",
    "Ntrain=X_train.shape[0]\n",
    "plt.title('PCA decomposition')\n",
    "plt.scatter(p[0:Ntrain,0], p[0:Ntrain,1], label='Train')\n",
    "plt.scatter(p[Ntrain:,0], p[Ntrain:,1], label='Test', color='orange')\n",
    "plt.legend(loc='best')\n",
    "plt.show()"
   ]
  },
  {
   "cell_type": "code",
   "execution_count": 17,
   "metadata": {},
   "outputs": [],
   "source": [
    "#  SNP preselection according to a simple GWAS\n",
    "pvals = []\n",
    "for i in range(X_train.shape[1]-1):\n",
    "    b, intercept, r_value, p_value, std_err = stats.linregress(np.asarray(X_train.iloc[:,i]), np.asarray(y_train))\n",
    "    pvals.append(-np.log10(p_value))\n",
    "pvals = np.array(pvals)"
   ]
  },
  {
   "cell_type": "code",
   "execution_count": 25,
   "metadata": {},
   "outputs": [
    {
     "data": {
      "image/png": "[encoded data removed]",
      "text/plain": [
       "<Figure size 432x288 with 1 Axes>"
      ]
     },
     "metadata": {
      "needs_background": "light"
     },
     "output_type": "display_data"
    },
    {
     "ename": "IndexError",
     "evalue": "index 28004 is out of bounds for axis 0 with size 28004",
     "output_type": "error",
     "traceback": [
      "\u001b[1;31m---------------------------------------------------------------------------\u001b[0m",
      "\u001b[1;31mIndexError\u001b[0m                                Traceback (most recent call last)",
      "\u001b[1;32m<ipython-input-25-3d3c9c7b9bb9>\u001b[0m in \u001b[0;36m<module>\u001b[1;34m\u001b[0m\n\u001b[0;32m     15\u001b[0m \u001b[1;33m\u001b[0m\u001b[0m\n\u001b[0;32m     16\u001b[0m \u001b[1;31m# finally slice X\u001b[0m\u001b[1;33m\u001b[0m\u001b[1;33m\u001b[0m\u001b[1;33m\u001b[0m\u001b[0m\n\u001b[1;32m---> 17\u001b[1;33m \u001b[0mX_train\u001b[0m \u001b[1;33m=\u001b[0m \u001b[0mX_train\u001b[0m\u001b[1;33m[\u001b[0m\u001b[0mX_train\u001b[0m\u001b[1;33m.\u001b[0m\u001b[0mcolumns\u001b[0m\u001b[1;33m[\u001b[0m\u001b[0msnp_list\u001b[0m\u001b[1;33m]\u001b[0m\u001b[1;33m]\u001b[0m\u001b[1;33m\u001b[0m\u001b[1;33m\u001b[0m\u001b[0m\n\u001b[0m\u001b[0;32m     18\u001b[0m \u001b[0mX_test\u001b[0m \u001b[1;33m=\u001b[0m \u001b[0mX_test\u001b[0m\u001b[1;33m[\u001b[0m\u001b[0mX_test\u001b[0m\u001b[1;33m.\u001b[0m\u001b[0mcolumns\u001b[0m\u001b[1;33m[\u001b[0m\u001b[0msnp_list\u001b[0m\u001b[1;33m]\u001b[0m\u001b[1;33m]\u001b[0m\u001b[1;33m\u001b[0m\u001b[1;33m\u001b[0m\u001b[0m\n",
      "\u001b[1;32m~\\Anaconda3\\lib\\site-packages\\pandas\\core\\indexes\\base.py\u001b[0m in \u001b[0;36m__getitem__\u001b[1;34m(self, key)\u001b[0m\n\u001b[0;32m   3967\u001b[0m \u001b[1;33m\u001b[0m\u001b[0m\n\u001b[0;32m   3968\u001b[0m         \u001b[0mkey\u001b[0m \u001b[1;33m=\u001b[0m \u001b[0mcom\u001b[0m\u001b[1;33m.\u001b[0m\u001b[0mvalues_from_object\u001b[0m\u001b[1;33m(\u001b[0m\u001b[0mkey\u001b[0m\u001b[1;33m)\u001b[0m\u001b[1;33m\u001b[0m\u001b[1;33m\u001b[0m\u001b[0m\n\u001b[1;32m-> 3969\u001b[1;33m         \u001b[0mresult\u001b[0m \u001b[1;33m=\u001b[0m \u001b[0mgetitem\u001b[0m\u001b[1;33m(\u001b[0m\u001b[0mkey\u001b[0m\u001b[1;33m)\u001b[0m\u001b[1;33m\u001b[0m\u001b[1;33m\u001b[0m\u001b[0m\n\u001b[0m\u001b[0;32m   3970\u001b[0m         \u001b[1;32mif\u001b[0m \u001b[1;32mnot\u001b[0m \u001b[0mis_scalar\u001b[0m\u001b[1;33m(\u001b[0m\u001b[0mresult\u001b[0m\u001b[1;33m)\u001b[0m\u001b[1;33m:\u001b[0m\u001b[1;33m\u001b[0m\u001b[1;33m\u001b[0m\u001b[0m\n\u001b[0;32m   3971\u001b[0m             \u001b[1;32mreturn\u001b[0m \u001b[0mpromote\u001b[0m\u001b[1;33m(\u001b[0m\u001b[0mresult\u001b[0m\u001b[1;33m)\u001b[0m\u001b[1;33m\u001b[0m\u001b[1;33m\u001b[0m\u001b[0m\n",
      "\u001b[1;31mIndexError\u001b[0m: index 28004 is out of bounds for axis 0 with size 28004"
     ]
    }
   ],
   "source": [
    "# plot GWAS\n",
    "plt.ylabel('-log10 P-value')\n",
    "plt.xlabel('SNP')\n",
    "plt.plot(pvals, marker='o')\n",
    "plt.show()\n",
    "\n",
    "# select N_best most associated SNPs\n",
    "#N_best = X_train.shape[1] #all SNPs\n",
    "N_best = 10\n",
    "snp_list = pvals.argsort()[-N_best:]\n",
    "\n",
    "# or select by min_P_value\n",
    "min_P_value = 2 # P = 0.01\n",
    "snp_list = np.nonzero(pvals>min_P_value)\n",
    "\n",
    "# finally slice X\n",
    "X_train = X_train[X_train.columns[snp_list]] \n",
    "X_test = X_test[X_test.columns[snp_list]]"
   ]
  },
  {
   "cell_type": "code",
   "execution_count": 19,
   "metadata": {},
   "outputs": [
    {
     "name": "stdout",
     "output_type": "stream",
     "text": [
      "\n",
      "MSE in prediction = tf.Tensor(3.5916293, shape=(), dtype=float32)\n",
      "\n",
      "Corr obs vs pred = 0.6351502470652748\n"
     ]
    },
    {
     "data": {
      "image/png": "[encoded data removed]",
      "text/plain": [
       "<Figure size 432x288 with 1 Axes>"
      ]
     },
     "metadata": {
      "needs_background": "light"
     },
     "output_type": "display_data"
    }
   ],
   "source": [
    "# alpha is the regularization parameter\n",
    "lasso = linear_model.Lasso(alpha=0.01)\n",
    "lasso.fit(X_train, y_train)\n",
    "y_hat = lasso.predict(X_test)\n",
    "\n",
    "# mean squared error\n",
    "mse = mean_squared_error(y_test, y_hat)\n",
    "print('\\nMSE in prediction =',mse)\n",
    "\n",
    "# correlation btw predicted and observed\n",
    "corr = np.corrcoef(y_test,y_hat)[0,1]\n",
    "print('\\nCorr obs vs pred =',corr)\n",
    "\n",
    "# plot observed vs. predicted targets\n",
    "plt.title('Lasso: Observed vs Predicted Y')\n",
    "plt.ylabel('Predicted')\n",
    "plt.xlabel('Observed')\n",
    "plt.scatter(y_test, y_hat, marker='o')\n",
    "plt.show()\n"
   ]
  },
  {
   "cell_type": "code",
   "execution_count": 191,
   "metadata": {},
   "outputs": [
    {
     "name": "stdout",
     "output_type": "stream",
     "text": [
      "Model: \"sequential_1\"\n",
      "_________________________________________________________________\n",
      "Layer (type)                 Output Shape              Param #   \n",
      "=================================================================\n",
      "dense_1 (Dense)              (None, 64)                51520     \n",
      "_________________________________________________________________\n",
      "activation_1 (Activation)    (None, 64)                0         \n",
      "_________________________________________________________________\n",
      "dense_2 (Dense)              (None, 32)                2080      \n",
      "_________________________________________________________________\n",
      "activation_2 (Activation)    (None, 32)                0         \n",
      "_________________________________________________________________\n",
      "dense_3 (Dense)              (None, 1)                 33        \n",
      "=================================================================\n",
      "Total params: 53,633\n",
      "Trainable params: 53,633\n",
      "Non-trainable params: 0\n",
      "_________________________________________________________________\n",
      "Epoch 1/100\n",
      "7132/7132 [==============================] - 1s 179us/step - loss: 0.4605\n",
      "Epoch 2/100\n",
      "7132/7132 [==============================] - 0s 38us/step - loss: 0.3478\n",
      "Epoch 3/100\n",
      "7132/7132 [==============================] - 0s 40us/step - loss: 0.3253\n",
      "Epoch 4/100\n",
      "7132/7132 [==============================] - 0s 47us/step - loss: 0.3109\n",
      "Epoch 5/100\n",
      "7132/7132 [==============================] - 0s 42us/step - loss: 0.2971\n",
      "Epoch 6/100\n",
      "7132/7132 [==============================] - 0s 41us/step - loss: 0.2871\n",
      "Epoch 7/100\n",
      "7132/7132 [==============================] - 0s 40us/step - loss: 0.2755\n",
      "Epoch 8/100\n",
      "7132/7132 [==============================] - 0s 45us/step - loss: 0.2684\n",
      "Epoch 9/100\n",
      "7132/7132 [==============================] - 0s 44us/step - loss: 0.2608\n",
      "Epoch 10/100\n",
      "7132/7132 [==============================] - 0s 41us/step - loss: 0.2529\n",
      "Epoch 11/100\n",
      "7132/7132 [==============================] - 0s 39us/step - loss: 0.2449\n",
      "Epoch 12/100\n",
      "7132/7132 [==============================] - 0s 43us/step - loss: 0.2402\n",
      "Epoch 13/100\n",
      "7132/7132 [==============================] - 0s 38us/step - loss: 0.2338\n",
      "Epoch 14/100\n",
      "7132/7132 [==============================] - 0s 40us/step - loss: 0.2280\n",
      "Epoch 15/100\n",
      "7132/7132 [==============================] - 0s 42us/step - loss: 0.2250\n",
      "Epoch 16/100\n",
      "7132/7132 [==============================] - 0s 42us/step - loss: 0.2188\n",
      "Epoch 17/100\n",
      "7132/7132 [==============================] - 0s 39us/step - loss: 0.2172\n",
      "Epoch 18/100\n",
      "7132/7132 [==============================] - 0s 40us/step - loss: 0.2080\n",
      "Epoch 19/100\n",
      "7132/7132 [==============================] - 0s 40us/step - loss: 0.2055\n",
      "Epoch 20/100\n",
      "7132/7132 [==============================] - 0s 39us/step - loss: 0.2021\n",
      "Epoch 21/100\n",
      "7132/7132 [==============================] - 0s 52us/step - loss: 0.1969\n",
      "Epoch 22/100\n",
      "7132/7132 [==============================] - 0s 44us/step - loss: 0.1932\n",
      "Epoch 23/100\n",
      "7132/7132 [==============================] - 0s 41us/step - loss: 0.1883\n",
      "Epoch 24/100\n",
      "7132/7132 [==============================] - 0s 41us/step - loss: 0.1846\n",
      "Epoch 25/100\n",
      "7132/7132 [==============================] - 0s 49us/step - loss: 0.1823\n",
      "Epoch 26/100\n",
      "7132/7132 [==============================] - 0s 39us/step - loss: 0.1777\n",
      "Epoch 27/100\n",
      "7132/7132 [==============================] - 0s 39us/step - loss: 0.1753\n",
      "Epoch 28/100\n",
      "7132/7132 [==============================] - 0s 39us/step - loss: 0.1719\n",
      "Epoch 29/100\n",
      "7132/7132 [==============================] - 0s 40us/step - loss: 0.1684\n",
      "Epoch 30/100\n",
      "7132/7132 [==============================] - 0s 41us/step - loss: 0.1666\n",
      "Epoch 31/100\n",
      "7132/7132 [==============================] - 0s 38us/step - loss: 0.1638\n",
      "Epoch 32/100\n",
      "7132/7132 [==============================] - 0s 40us/step - loss: 0.1591\n",
      "Epoch 33/100\n",
      "7132/7132 [==============================] - 0s 41us/step - loss: 0.1553\n",
      "Epoch 34/100\n",
      "7132/7132 [==============================] - 0s 43us/step - loss: 0.1517\n",
      "Epoch 35/100\n",
      "7132/7132 [==============================] - 0s 38us/step - loss: 0.1528\n",
      "Epoch 36/100\n",
      "7132/7132 [==============================] - 0s 45us/step - loss: 0.1484\n",
      "Epoch 37/100\n",
      "7132/7132 [==============================] - 0s 42us/step - loss: 0.1458\n",
      "Epoch 38/100\n",
      "7132/7132 [==============================] - 0s 41us/step - loss: 0.1434\n",
      "Epoch 39/100\n",
      "7132/7132 [==============================] - 0s 47us/step - loss: 0.1413\n",
      "Epoch 40/100\n",
      "7132/7132 [==============================] - 0s 45us/step - loss: 0.1387\n",
      "Epoch 41/100\n",
      "7132/7132 [==============================] - 0s 52us/step - loss: 0.1372\n",
      "Epoch 42/100\n",
      "7132/7132 [==============================] - 0s 49us/step - loss: 0.1347\n",
      "Epoch 43/100\n",
      "7132/7132 [==============================] - 0s 48us/step - loss: 0.1344\n",
      "Epoch 44/100\n",
      "7132/7132 [==============================] - 0s 49us/step - loss: 0.1327\n",
      "Epoch 45/100\n",
      "7132/7132 [==============================] - 0s 47us/step - loss: 0.1306\n",
      "Epoch 46/100\n",
      "7132/7132 [==============================] - 0s 47us/step - loss: 0.1278\n",
      "Epoch 47/100\n",
      "7132/7132 [==============================] - 0s 49us/step - loss: 0.1265\n",
      "Epoch 48/100\n",
      "7132/7132 [==============================] - 0s 47us/step - loss: 0.1239\n",
      "Epoch 49/100\n",
      "7132/7132 [==============================] - 0s 48us/step - loss: 0.1212\n",
      "Epoch 50/100\n",
      "7132/7132 [==============================] - 0s 49us/step - loss: 0.1208\n",
      "Epoch 51/100\n",
      "7132/7132 [==============================] - 0s 41us/step - loss: 0.1189\n",
      "Epoch 52/100\n",
      "7132/7132 [==============================] - 0s 38us/step - loss: 0.1161\n",
      "Epoch 53/100\n",
      "7132/7132 [==============================] - 0s 41us/step - loss: 0.1152\n",
      "Epoch 54/100\n",
      "7132/7132 [==============================] - 0s 37us/step - loss: 0.1163\n",
      "Epoch 55/100\n",
      "7132/7132 [==============================] - 0s 42us/step - loss: 0.1130\n",
      "Epoch 56/100\n",
      "7132/7132 [==============================] - 0s 41us/step - loss: 0.1116\n",
      "Epoch 57/100\n",
      "7132/7132 [==============================] - 0s 40us/step - loss: 0.1083\n",
      "Epoch 58/100\n",
      "7132/7132 [==============================] - 0s 39us/step - loss: 0.1096\n",
      "Epoch 59/100\n",
      "7132/7132 [==============================] - 0s 38us/step - loss: 0.1092\n",
      "Epoch 60/100\n",
      "7132/7132 [==============================] - 0s 41us/step - loss: 0.1074\n",
      "Epoch 61/100\n",
      "7132/7132 [==============================] - 0s 46us/step - loss: 0.1030\n",
      "Epoch 62/100\n",
      "7132/7132 [==============================] - 0s 42us/step - loss: 0.1048\n",
      "Epoch 63/100\n",
      "7132/7132 [==============================] - 0s 52us/step - loss: 0.1018\n",
      "Epoch 64/100\n",
      "7132/7132 [==============================] - 0s 47us/step - loss: 0.0992\n",
      "Epoch 65/100\n",
      "7132/7132 [==============================] - 0s 41us/step - loss: 0.0984\n",
      "Epoch 66/100\n",
      "7132/7132 [==============================] - 0s 40us/step - loss: 0.0981\n",
      "Epoch 67/100\n",
      "7132/7132 [==============================] - 0s 38us/step - loss: 0.0961\n",
      "Epoch 68/100\n",
      "7132/7132 [==============================] - 0s 42us/step - loss: 0.0971\n",
      "Epoch 69/100\n",
      "7132/7132 [==============================] - 0s 41us/step - loss: 0.0950\n",
      "Epoch 70/100\n",
      "7132/7132 [==============================] - 0s 39us/step - loss: 0.0962\n",
      "Epoch 71/100\n",
      "7132/7132 [==============================] - 0s 39us/step - loss: 0.0945\n",
      "Epoch 72/100\n",
      "7132/7132 [==============================] - 0s 39us/step - loss: 0.0920\n",
      "Epoch 73/100\n",
      "7132/7132 [==============================] - 0s 39us/step - loss: 0.0926\n",
      "Epoch 74/100\n",
      "7132/7132 [==============================] - 0s 41us/step - loss: 0.0925\n",
      "Epoch 75/100\n",
      "7132/7132 [==============================] - 0s 41us/step - loss: 0.0912\n",
      "Epoch 76/100\n",
      "7132/7132 [==============================] - 0s 39us/step - loss: 0.0913\n",
      "Epoch 77/100\n",
      "7132/7132 [==============================] - 0s 41us/step - loss: 0.0907\n",
      "Epoch 78/100\n",
      "7132/7132 [==============================] - 0s 40us/step - loss: 0.0873\n",
      "Epoch 79/100\n",
      "7132/7132 [==============================] - 0s 42us/step - loss: 0.0870\n",
      "Epoch 80/100\n",
      "7132/7132 [==============================] - 0s 39us/step - loss: 0.0854\n",
      "Epoch 81/100\n",
      "7132/7132 [==============================] - 0s 43us/step - loss: 0.0843\n",
      "Epoch 82/100\n",
      "7132/7132 [==============================] - 0s 41us/step - loss: 0.0857\n",
      "Epoch 83/100\n",
      "7132/7132 [==============================] - 0s 42us/step - loss: 0.0851\n",
      "Epoch 84/100\n",
      "7132/7132 [==============================] - 0s 42us/step - loss: 0.0821\n",
      "Epoch 85/100\n",
      "7132/7132 [==============================] - 0s 40us/step - loss: 0.0825\n",
      "Epoch 86/100\n",
      "7132/7132 [==============================] - 0s 40us/step - loss: 0.0805\n",
      "Epoch 87/100\n",
      "7132/7132 [==============================] - 0s 39us/step - loss: 0.0833\n",
      "Epoch 88/100\n",
      "7132/7132 [==============================] - 0s 40us/step - loss: 0.0815\n",
      "Epoch 89/100\n",
      "7132/7132 [==============================] - 0s 40us/step - loss: 0.0811\n",
      "Epoch 90/100\n",
      "7132/7132 [==============================] - 0s 41us/step - loss: 0.0770\n",
      "Epoch 91/100\n",
      "7132/7132 [==============================] - 0s 37us/step - loss: 0.0766\n",
      "Epoch 92/100\n",
      "7132/7132 [==============================] - 0s 41us/step - loss: 0.0767\n",
      "Epoch 93/100\n",
      "7132/7132 [==============================] - 0s 38us/step - loss: 0.0783\n",
      "Epoch 94/100\n",
      "7132/7132 [==============================] - 0s 48us/step - loss: 0.0748\n",
      "Epoch 95/100\n",
      "7132/7132 [==============================] - 0s 53us/step - loss: 0.0755\n",
      "Epoch 96/100\n",
      "7132/7132 [==============================] - 0s 50us/step - loss: 0.0755\n",
      "Epoch 97/100\n",
      "7132/7132 [==============================] - 0s 40us/step - loss: 0.0771\n",
      "Epoch 98/100\n",
      "7132/7132 [==============================] - 0s 42us/step - loss: 0.0758\n",
      "Epoch 99/100\n",
      "7132/7132 [==============================] - 0s 40us/step - loss: 0.0751\n",
      "Epoch 100/100\n",
      "7132/7132 [==============================] - 0s 41us/step - loss: 0.0727\n",
      "1783/1783 [==============================] - 0s 40us/step\n",
      "\n",
      "MSE in prediction = 0.3986746431466775\n",
      "\n",
      "Corr obs vs pred = 0.529239328951678\n"
     ]
    },
    {
     "data": {
      "image/png": "[encoded data removed]",
      "text/plain": [
       "<Figure size 432x288 with 1 Axes>"
      ]
     },
     "metadata": {
      "needs_background": "light"
     },
     "output_type": "display_data"
    }
   ],
   "source": [
    "# Implements a standard fully connected network (MLP) for a quantitative target\n",
    "\n",
    "# no. of SNPs in data\n",
    "nSNP=X_train.shape[1] \n",
    "\n",
    "# Instantiate\n",
    "model = Sequential()\n",
    "\n",
    "# Add first layer\n",
    "model.add(Dense(64, input_dim=nSNP))\n",
    "model.add(Activation('relu'))\n",
    "# Add second layer\n",
    "model.add(Dense(32))\n",
    "model.add(Activation('softplus'))\n",
    "# Last, output layer\n",
    "model.add(Dense(1))\n",
    "\n",
    "# Model Compiling (https://keras.io/models/sequential/) \n",
    "# compile(optimizer, loss=None, metrics=None, loss_weights=None, sample_weight_mode=None, weighted_metrics=None, target_tensors=None)\n",
    "# Stochastic Gradient Descent (‘sgd’) as optimization algorithm\n",
    "# Mean Squared Error as loss, ie, quantitative variable, regression\n",
    "model.compile(loss='mean_squared_error', optimizer='sgd')\n",
    "\n",
    "# list some properties\n",
    "model.summary()\n",
    "\n",
    "# training\n",
    "# fit(x=None, y=None, batch_size=None, epochs=1, verbose=1, callbacks=None, validation_split=0.0, validation_data=None, shuffle=True, class_weight=None, sample_weight=None, initial_epoch=0, steps_per_epoch=None, validation_steps=None, validation_freq=1)\n",
    "model.fit(X_train, y_train, epochs=100)\n",
    "\n",
    "# cross-validation: get predicted target values\n",
    "y_hat = model.predict(X_test, batch_size=128)\n",
    "\n",
    "mse_prediction = model.evaluate(X_test, y_test, batch_size=128)\n",
    "print('\\nMSE in prediction =',mse_prediction)\n",
    "\n",
    "# correlation btw predicted and observed\n",
    "corr = np.corrcoef(y_test,y_hat[:,0])[0,1]\n",
    "print('\\nCorr obs vs pred =',corr)\n",
    "\n",
    "# plot observed vs. predicted targets\n",
    "plt.title('MLP: Observed vs Predicted Y')\n",
    "plt.ylabel('Predicted')\n",
    "plt.xlabel('Observed')\n",
    "plt.scatter(y_test, y_hat, marker='o')\n",
    "plt.show()"
   ]
  },
  {
   "cell_type": "code",
   "execution_count": 192,
   "metadata": {
    "scrolled": true
   },
   "outputs": [
    {
     "name": "stdout",
     "output_type": "stream",
     "text": [
      "Train on 6418 samples, validate on 714 samples\n",
      "Epoch 1/100\n",
      "6418/6418 [==============================] - 1s 123us/step - loss: 10.2551 - val_loss: 6.5183\n",
      "Epoch 2/100\n",
      "6418/6418 [==============================] - 0s 52us/step - loss: 8.3253 - val_loss: 5.4534\n",
      "Epoch 3/100\n",
      "6418/6418 [==============================] - 0s 49us/step - loss: 8.5064 - val_loss: 5.1641\n",
      "Epoch 4/100\n",
      "6418/6418 [==============================] - 0s 52us/step - loss: 8.6367 - val_loss: 4.9410\n",
      "Epoch 5/100\n",
      "6418/6418 [==============================] - 0s 50us/step - loss: 8.6692 - val_loss: 4.7708\n",
      "Epoch 6/100\n",
      "6418/6418 [==============================] - 0s 64us/step - loss: 8.6144 - val_loss: 4.4881\n",
      "Epoch 7/100\n",
      "6418/6418 [==============================] - 0s 50us/step - loss: 8.6789 - val_loss: 4.5801\n",
      "Epoch 8/100\n",
      "6418/6418 [==============================] - 0s 66us/step - loss: 8.6322 - val_loss: 4.5289\n",
      "Epoch 9/100\n",
      "6418/6418 [==============================] - 0s 57us/step - loss: 8.6671 - val_loss: 4.0425\n",
      "Epoch 10/100\n",
      "6418/6418 [==============================] - 0s 60us/step - loss: 8.6888 - val_loss: 4.5255\n",
      "Epoch 11/100\n",
      "6418/6418 [==============================] - 0s 62us/step - loss: 8.5521 - val_loss: 4.1936\n",
      "Epoch 12/100\n",
      "6418/6418 [==============================] - 0s 59us/step - loss: 8.6761 - val_loss: 4.5409\n",
      "Epoch 13/100\n",
      "6418/6418 [==============================] - 0s 60us/step - loss: 8.4998 - val_loss: 4.4260\n",
      "Epoch 14/100\n",
      "6418/6418 [==============================] - 0s 58us/step - loss: 8.5776 - val_loss: 4.2107\n",
      "Epoch 15/100\n",
      "6418/6418 [==============================] - 0s 57us/step - loss: 8.5637 - val_loss: 4.0168\n",
      "Epoch 16/100\n",
      "6418/6418 [==============================] - 0s 57us/step - loss: 8.3963 - val_loss: 3.7541\n",
      "Epoch 17/100\n",
      "6418/6418 [==============================] - 0s 49us/step - loss: 8.5475 - val_loss: 4.1718\n",
      "Epoch 18/100\n",
      "6418/6418 [==============================] - 0s 52us/step - loss: 8.4323 - val_loss: 3.6650\n",
      "Epoch 19/100\n",
      "6418/6418 [==============================] - 0s 52us/step - loss: 8.6218 - val_loss: 4.1324\n",
      "Epoch 20/100\n",
      "6418/6418 [==============================] - 0s 49us/step - loss: 8.4374 - val_loss: 3.5612\n",
      "Epoch 21/100\n",
      "6418/6418 [==============================] - 0s 48us/step - loss: 8.4067 - val_loss: 3.6655\n",
      "Epoch 22/100\n",
      "6418/6418 [==============================] - 0s 49us/step - loss: 8.4798 - val_loss: 4.1218\n",
      "Epoch 23/100\n",
      "6418/6418 [==============================] - 0s 57us/step - loss: 8.4712 - val_loss: 3.4016\n",
      "Epoch 24/100\n",
      "6418/6418 [==============================] - 0s 50us/step - loss: 8.3494 - val_loss: 3.9427\n",
      "Epoch 25/100\n",
      "6418/6418 [==============================] - 0s 46us/step - loss: 8.4159 - val_loss: 3.8056\n",
      "Epoch 26/100\n",
      "6418/6418 [==============================] - 0s 46us/step - loss: 8.3845 - val_loss: 3.5980\n",
      "Epoch 27/100\n",
      "6418/6418 [==============================] - 0s 48us/step - loss: 8.3844 - val_loss: 3.8941\n",
      "Epoch 28/100\n",
      "6418/6418 [==============================] - 0s 49us/step - loss: 8.5184 - val_loss: 3.2809\n",
      "Epoch 29/100\n",
      "6418/6418 [==============================] - 0s 47us/step - loss: 8.3403 - val_loss: 3.9829\n",
      "Epoch 30/100\n",
      "6418/6418 [==============================] - 0s 47us/step - loss: 8.4241 - val_loss: 3.9836\n",
      "Epoch 31/100\n",
      "6418/6418 [==============================] - 0s 60us/step - loss: 8.2400 - val_loss: 3.6998\n",
      "Epoch 32/100\n",
      "6418/6418 [==============================] - 0s 55us/step - loss: 8.3658 - val_loss: 3.6348\n",
      "Epoch 33/100\n",
      "6418/6418 [==============================] - 0s 51us/step - loss: 8.3537 - val_loss: 3.8271\n",
      "Epoch 34/100\n",
      "6418/6418 [==============================] - 0s 53us/step - loss: 8.4068 - val_loss: 3.3890\n",
      "Epoch 35/100\n",
      "6418/6418 [==============================] - 0s 56us/step - loss: 8.3185 - val_loss: 3.4887\n",
      "Epoch 36/100\n",
      "6418/6418 [==============================] - 0s 58us/step - loss: 8.5092 - val_loss: 4.8054\n",
      "Epoch 37/100\n",
      "6418/6418 [==============================] - 0s 62us/step - loss: 8.2768 - val_loss: 4.2012\n",
      "Epoch 38/100\n",
      "6418/6418 [==============================] - 0s 53us/step - loss: 8.4321 - val_loss: 4.0433\n",
      "1783/1783 [==============================] - 0s 15us/step\n",
      "\n",
      "MSE in prediction = 14.848528864138995\n"
     ]
    }
   ],
   "source": [
    "# Controlling overfit: regularization, dropout and early stopping\n",
    "\n",
    "# deletes current model\n",
    "\n",
    "del model\n",
    "\n",
    "model = Sequential()\n",
    "\n",
    "# Add l1 & l2 regularization in first layer\n",
    "model.add(Dense(64, input_dim=nSNP,\n",
    "                kernel_regularizer=regularizers.l2(0.01),\n",
    "                activity_regularizer=regularizers.l1(0.01)))\n",
    "model.add(Activation('relu'))\n",
    "# Add second layer\n",
    "model.add(Dense(32))\n",
    "model.add(Activation('softplus'))\n",
    "## Adding dropout to second layer\n",
    "model.add(Dropout(0.2))\n",
    "# Last, output layer\n",
    "model.add(Dense(1))\n",
    "\n",
    "# Model Compiling (https://keras.io/models/sequential/) \n",
    "model.compile(loss='mean_squared_error', optimizer='sgd')\n",
    "\n",
    "# Split the train set into proper train & validation\n",
    "X_train0, X_val, y_train0, y_val = train_test_split(X_train, y_train, test_size=0.1)\n",
    "nEpochs=100\n",
    "\n",
    "# Early stopping\n",
    "early_stopper = EarlyStopping(monitor='val_loss', patience=10, min_delta=0.01)\n",
    "model.fit(X_train0, y_train0, epochs=nEpochs, verbose=1, validation_data=(X_val, y_val), callbacks=[early_stopper])\n",
    "\n",
    "# cross-validation\n",
    "mse_prediction = model.evaluate(X_test, y_test, batch_size=128)\n",
    "print('\\nMSE in prediction =',mse_prediction)\n"
   ]
  },
  {
   "cell_type": "code",
   "execution_count": 193,
   "metadata": {},
   "outputs": [],
   "source": [
    "# Defining pearson correlation as custom metric to model optimization in talos! \n",
    "# warning! you have to use acc in the metric name!\n",
    "\n",
    "from keras import backend as K\n",
    "\n",
    "def acc_pearson_r(y_true, y_pred):\n",
    "    x = y_true\n",
    "    y = y_pred\n",
    "    mx = K.mean(x, axis=0)\n",
    "    my = K.mean(y, axis=0)\n",
    "    xm, ym = x - mx, y - my\n",
    "    r_num = K.sum(xm * ym)\n",
    "    x_square_sum = K.sum(xm * xm)\n",
    "    y_square_sum = K.sum(ym * ym)\n",
    "    r_den = K.sqrt(x_square_sum * y_square_sum)\n",
    "    r = r_num / r_den\n",
    "    return K.mean(r)"
   ]
  },
  {
   "cell_type": "code",
   "execution_count": 194,
   "metadata": {},
   "outputs": [],
   "source": [
    "# https://autonomio.github.io/docs_talos/\n",
    "# 1. Hyperparameter ranges and Model definition\n",
    "\n",
    "# model definition\n",
    "def baby_model(x, y, x_val, y_val, params):    \n",
    "    # replace the hyperparameter inputs with references to params dictionary \n",
    "    model = Sequential()\n",
    "    model.add(Dense(params['first_neuron'], input_dim=x.shape[1],\n",
    "                activation=params['activation']))\n",
    "    #last neuron\n",
    "    model.add(Dense(1, activation=None))\n",
    "    model.compile(loss=mean_squared_error, optimizer='sgd', metrics=[acc_pearson_r])\n",
    "    \n",
    "    # make sure history object is returned by model.fit()\n",
    "    out = model.fit(x, y,\n",
    "                    epochs=50,\n",
    "                    validation_data=[x_val, y_val],\n",
    "                    batch_size=params['batch_size'],\n",
    "                    verbose=0)\n",
    "    \n",
    "    # modify the output model\n",
    "    return out, model\n",
    "\n",
    "# dictionary with hyperparameters and range values allowed\n",
    "p = {\n",
    "    'first_neuron': [12, 48],\n",
    "    'activation': [relu, elu],\n",
    "    'batch_size': [10, 30]\n",
    "}"
   ]
  },
  {
   "cell_type": "code",
   "execution_count": 195,
   "metadata": {},
   "outputs": [
    {
     "name": "stderr",
     "output_type": "stream",
     "text": [
      "\r",
      "  0%|                                                                                            | 0/8 [00:00<?, ?it/s]"
     ]
    },
    {
     "name": "stdout",
     "output_type": "stream",
     "text": [
      "{'activation': <function relu at 0x00000238F02DD2F0>, 'batch_size': 10, 'first_neuron': 12}\n"
     ]
    },
    {
     "name": "stderr",
     "output_type": "stream",
     "text": [
      "\r",
      " 12%|██████████▌                                                                         | 1/8 [00:23<02:43, 23.32s/it]"
     ]
    },
    {
     "name": "stdout",
     "output_type": "stream",
     "text": [
      "{'activation': <function relu at 0x00000238F02DD2F0>, 'batch_size': 10, 'first_neuron': 48}\n"
     ]
    },
    {
     "name": "stderr",
     "output_type": "stream",
     "text": [
      "\r",
      " 25%|█████████████████████                                                               | 2/8 [00:48<02:23, 23.87s/it]"
     ]
    },
    {
     "name": "stdout",
     "output_type": "stream",
     "text": [
      "{'activation': <function relu at 0x00000238F02DD2F0>, 'batch_size': 30, 'first_neuron': 12}\n"
     ]
    },
    {
     "name": "stderr",
     "output_type": "stream",
     "text": [
      "\r",
      " 38%|███████████████████████████████▌                                                    | 3/8 [00:59<01:40, 20.10s/it]"
     ]
    },
    {
     "name": "stdout",
     "output_type": "stream",
     "text": [
      "{'activation': <function relu at 0x00000238F02DD2F0>, 'batch_size': 30, 'first_neuron': 48}\n"
     ]
    },
    {
     "name": "stderr",
     "output_type": "stream",
     "text": [
      "\r",
      " 50%|██████████████████████████████████████████                                          | 4/8 [01:12<01:11, 17.85s/it]"
     ]
    },
    {
     "name": "stdout",
     "output_type": "stream",
     "text": [
      "{'activation': <function elu at 0x00000238F02CFEA0>, 'batch_size': 10, 'first_neuron': 12}\n"
     ]
    },
    {
     "name": "stderr",
     "output_type": "stream",
     "text": [
      "\r",
      " 62%|████████████████████████████████████████████████████▌                               | 5/8 [01:36<00:58, 19.66s/it]"
     ]
    },
    {
     "name": "stdout",
     "output_type": "stream",
     "text": [
      "{'activation': <function elu at 0x00000238F02CFEA0>, 'batch_size': 10, 'first_neuron': 48}\n"
     ]
    },
    {
     "name": "stderr",
     "output_type": "stream",
     "text": [
      "\r",
      " 75%|███████████████████████████████████████████████████████████████                     | 6/8 [02:01<00:42, 21.44s/it]"
     ]
    },
    {
     "name": "stdout",
     "output_type": "stream",
     "text": [
      "{'activation': <function elu at 0x00000238F02CFEA0>, 'batch_size': 30, 'first_neuron': 12}\n"
     ]
    },
    {
     "name": "stderr",
     "output_type": "stream",
     "text": [
      "\r",
      " 88%|█████████████████████████████████████████████████████████████████████████▌          | 7/8 [02:13<00:18, 18.40s/it]"
     ]
    },
    {
     "name": "stdout",
     "output_type": "stream",
     "text": [
      "{'activation': <function elu at 0x00000238F02CFEA0>, 'batch_size': 30, 'first_neuron': 48}\n"
     ]
    },
    {
     "name": "stderr",
     "output_type": "stream",
     "text": [
      "100%|████████████████████████████████████████████████████████████████████████████████████| 8/8 [02:25<00:00, 16.64s/it]\n"
     ]
    }
   ],
   "source": [
    "# HYPERPARAMETER OPTIMIZATION USING TALOS: Simple example\n",
    "# 2. Search, run this grid should take between 1-2 minutes\n",
    "\n",
    "# Split the train set into proper train & validation\n",
    "X_train0, X_val, y_train0, y_val = train_test_split(X_train, y_train, test_size=0.1)\n",
    "X_train0=np.asarray(X_train0)\n",
    "X_val=np.asarray(X_val)\n",
    "y_train0=np.asarray(y_train0)\n",
    "y_val=np.asarray(y_val)\n",
    "\n",
    "# COOL! this shows real time plots\n",
    "t_Init = ta.Scan(x=X_train0,\n",
    "                 y=y_train0,\n",
    "                 x_val=X_val,\n",
    "                 y_val=y_val,\n",
    "                 model=baby_model, \n",
    "                 params=p, \n",
    "                 experiment_name=\"Baby\",\n",
    "                 print_params=True)"
   ]
  },
  {
   "cell_type": "code",
   "execution_count": 197,
   "metadata": {},
   "outputs": [
    {
     "name": "stdout",
     "output_type": "stream",
     "text": [
      "   round_epochs  val_loss  val_acc_pearson_r      loss  acc_pearson_r  \\\n",
      "0            50  0.337123           0.592495  0.201840       0.732179   \n",
      "1            50  0.408362           0.541443  0.118021       0.845422   \n",
      "2            50  0.342401           0.611849  0.220178       0.728081   \n",
      "3            50  0.351572           0.588999  0.122998       0.861811   \n",
      "4            50  0.369841           0.606163  0.210649       0.708790   \n",
      "5            50  0.396936           0.569952  0.154584       0.807719   \n",
      "6            50  0.318599           0.627416  0.215227       0.735338   \n",
      "7            50  0.320599           0.632496  0.174804       0.793961   \n",
      "\n",
      "                              activation  batch_size  first_neuron  \n",
      "0  <function relu at 0x00000238F02DD2F0>          10            12  \n",
      "1  <function relu at 0x00000238F02DD2F0>          10            48  \n",
      "2  <function relu at 0x00000238F02DD2F0>          30            12  \n",
      "3  <function relu at 0x00000238F02DD2F0>          30            48  \n",
      "4   <function elu at 0x00000238F02CFEA0>          10            12  \n",
      "5   <function elu at 0x00000238F02CFEA0>          10            48  \n",
      "6   <function elu at 0x00000238F02CFEA0>          30            12  \n",
      "7   <function elu at 0x00000238F02CFEA0>          30            48  \n",
      "\n",
      "Best prediction combination:\n",
      "   round_epochs  val_loss  val_acc_pearson_r      loss  acc_pearson_r  \\\n",
      "7            50  0.320599           0.632496  0.174804       0.793961   \n",
      "\n",
      "                             activation  batch_size  first_neuron  \n",
      "7  <function elu at 0x00000238F02CFEA0>          30            48   \n",
      "\n"
     ]
    },
    {
     "data": {
      "image/png": "[encoded data removed]",
      "text/plain": [
       "<Figure size 432x288 with 1 Axes>"
      ]
     },
     "metadata": {
      "needs_background": "light"
     },
     "output_type": "display_data"
    }
   ],
   "source": [
    "# HYPERPARAMETER OPTIMIZATION USING TALOS: Simple example\n",
    "# 3. Inspect results\n",
    "Data=pd.DataFrame(t_Init.data)\n",
    "Data[\"loss\"] = pd.to_numeric(Data[\"loss\"])\n",
    "Data[\"val_acc_pearson_r\"] = pd.to_numeric(Data[\"val_acc_pearson_r\"])\n",
    "print(Data)\n",
    "\n",
    "# Minimum loss set\n",
    "i=Data['val_acc_pearson_r'].argmax()\n",
    "print('\\nBest prediction combination:')\n",
    "print(Data[i:(i+1)],'\\n')\n",
    "\n",
    "# Visualize some parameters combinations \n",
    "x = sns.boxplot(y=\"val_acc_pearson_r\",x=\"first_neuron\",hue=\"activation\",data=Data).set_title('First neuron x activation')"
   ]
  },
  {
   "cell_type": "code",
   "execution_count": 198,
   "metadata": {},
   "outputs": [
    {
     "name": "stderr",
     "output_type": "stream",
     "text": [
      "100%|██████████████████████████████████████████████████████████████████████████████████| 23/23 [11:47<00:00, 29.73s/it]\n"
     ]
    }
   ],
   "source": [
    "# HYPERPARAMETER OPTIMIZATION USING TALOS: more complex example\n",
    "# We do a random search here (by downsampling among all possible grid values)\n",
    "\n",
    "# model definition\n",
    "def grown_model(x, y, x_val, y_val, params):\n",
    "    # next we can build the model exactly like we would normally do it\n",
    "    model = Sequential()\n",
    "    model.add(Dense(params['first_neuron'], input_dim=x.shape[1],\n",
    "                    activation=params['activation'],\n",
    "                    kernel_initializer=params['kernel_initializer']))\n",
    "    \n",
    "    model.add(Dropout(params['dropout']))\n",
    "    \n",
    "    # if we want to also test for number of layers and shapes, that's possible\n",
    "    hidden_layers(model, params, 1)\n",
    "\n",
    "    # then we finish again with completely standard Keras way\n",
    "    model.add(Dense(1, activation=params['last_activation'],\n",
    "                    kernel_initializer='normal'))\n",
    "    \n",
    "    model.compile(loss=params['losses'],\n",
    "        optimizer=params['optimizer'](lr=lr_normalizer(params['lr'],params['optimizer'])),\n",
    "            metrics=[acc_pearson_r])\n",
    "                  \n",
    "   \n",
    "    out = model.fit(x, y, validation_data=[x_val, y_val], verbose=0,batch_size=params['batch_size'],\n",
    "                        epochs=params['epochs'])\n",
    "\n",
    "    # finally we have to make sure that history object and model are returned\n",
    "    return out, model\n",
    "\n",
    "# hyperparameters\n",
    "p = {'first_neuron':[32,64],\n",
    "     'lr':[0.2,0.5],\n",
    "     'batch_size': [30,50],\n",
    "     'hidden_layers':[1,2,3,4],\n",
    "     'epochs': [100],\n",
    "     'dropout': [0, 0.01, 0.1, 0.5],\n",
    "     'optimizer': [adam,sgd,Nadam],\n",
    "     'losses': [mean_squared_error],\n",
    "     'activation':[relu, elu,linear],\n",
    "     'last_activation': [None],\n",
    "       'shapes': ['brick'],   \n",
    "     'kernel_initializer':[\"uniform\",\"normal\"]}\n",
    "\n",
    "# Split the train set into proper train & validation\n",
    "X_train0, X_val, y_train0, y_val = train_test_split(X_train, y_train, test_size=0.1)\n",
    "X_train0=np.asarray(X_train0)\n",
    "X_val=np.asarray(X_val)\n",
    "y_train0=np.asarray(y_train0)\n",
    "y_val=np.asarray(y_val)\n",
    "\n",
    "# Example with multiclass target\n",
    "# grid_downsample number of combinations to be checked 10% in this example\n",
    "tcomp = ta.Scan(x=X_train0,\n",
    "                y=y_train0,\n",
    "                x_val=X_val,\n",
    "                y_val=y_val,\n",
    "                model=grown_model, \n",
    "                params=p, \n",
    "              \n",
    "                experiment_name='exte_model',\n",
    "               fraction_limit=0.01)"
   ]
  },
  {
   "cell_type": "code",
   "execution_count": 199,
   "metadata": {},
   "outputs": [],
   "source": [
    "# Some plotting\n",
    "Data=pd.DataFrame(tcomp.data)\n",
    "Data[\"val_loss\"] = pd.to_numeric(Data[\"val_loss\"])\n",
    "Data[\"acc_pearson_r\"] = pd.to_numeric(Data[\"acc_pearson_r\"])\n",
    "Data[\"val_acc_pearson_r\"] = pd.to_numeric(Data[\"val_acc_pearson_r\"])\n",
    "#print Data\n",
    "#print(Data)\n",
    "#write Data\n",
    "Data.to_csv(\"mlp_real_world.csv\",index=False)"
   ]
  },
  {
   "cell_type": "code",
   "execution_count": 200,
   "metadata": {},
   "outputs": [
    {
     "name": "stdout",
     "output_type": "stream",
     "text": [
      "\n",
      "Best loss combination:\n",
      "    round_epochs  val_loss  val_acc_pearson_r      loss  acc_pearson_r  \\\n",
      "18           100  0.284062           0.605211  0.243936       0.704584   \n",
      "\n",
      "                              activation  batch_size  dropout  epochs  \\\n",
      "18  <function elu at 0x00000238F02CFEA0>          30      0.5     100   \n",
      "\n",
      "    first_neuron  hidden_layers kernel_initializer last_activation  \\\n",
      "18            32              2             normal            None   \n",
      "\n",
      "                                               losses   lr  \\\n",
      "18  <function mean_squared_error at 0x00000238F025...  0.5   \n",
      "\n",
      "                           optimizer shapes  \n",
      "18  <class 'keras.optimizers.Nadam'>  brick   \n",
      "\n"
     ]
    },
    {
     "data": {
      "image/png": "[encoded data removed]",
      "text/plain": [
       "<Figure size 720x475.2 with 1 Axes>"
      ]
     },
     "metadata": {
      "needs_background": "light"
     },
     "output_type": "display_data"
    }
   ],
   "source": [
    "# Maximum correlation\n",
    "i=Data['val_acc_pearson_r'].argmax()\n",
    "print('\\nBest loss combination:')\n",
    "print(Data[i:(i+1)],'\\n')\n",
    "# talos have a function called reporting, which has implemented some plots \n",
    "# reporting to see the best model, draw an histogram\n",
    "r = ta.Reporting('mlp_real_world.csv')\n",
    "r.plot_hist('val_acc_pearson_r')"
   ]
  },
  {
   "cell_type": "code",
   "execution_count": 201,
   "metadata": {},
   "outputs": [
    {
     "name": "stdout",
     "output_type": "stream",
     "text": [
      "0.6052106022834778\n"
     ]
    },
    {
     "data": {
      "image/png": "[encoded data removed]",
      "text/plain": [
       "<Figure size 720x475.2 with 1 Axes>"
      ]
     },
     "metadata": {},
     "output_type": "display_data"
    }
   ],
   "source": [
    "print(r.high('val_acc_pearson_r'))\n",
    "# we can see the distribution of the val_acc parameter chosen \n",
    "r.plot_kde('val_acc_pearson_r')"
   ]
  },
  {
   "cell_type": "code",
   "execution_count": 202,
   "metadata": {},
   "outputs": [
    {
     "data": {
      "image/png": "[encoded data removed]",
      "text/plain": [
       "<Figure size 1152x576 with 8 Axes>"
      ]
     },
     "metadata": {},
     "output_type": "display_data"
    }
   ],
   "source": [
    "import seaborn as sns\n",
    "# You also can use seaborn to check other combination of parameters\n",
    "sns.set_context(\"paper\", rc={\"font.size\":15,\"axes.titlesize\":15,\"axes.labelsize\":15})   \n",
    "g = sns.FacetGrid(tcomp.data, col=\"hidden_layers\",row=\"first_neuron\", margin_titles=True,height=4)\n",
    "g.map(sns.boxplot,\"lr\",\"val_acc_pearson_r\", palette=sns.cubehelix_palette(8),saturation=.5);"
   ]
  },
  {
   "cell_type": "code",
   "execution_count": null,
   "metadata": {},
   "outputs": [],
   "source": []
  }
 ],
 "metadata": {
  "kernelspec": {
   "display_name": "Python 3",
   "language": "python",
   "name": "python3"
  },
  "language_info": {
   "codemirror_mode": {
    "name": "ipython",
    "version": 3
   },
   "file_extension": ".py",
   "mimetype": "text/x-python",
   "name": "python",
   "nbconvert_exporter": "python",
   "pygments_lexer": "ipython3",
   "version": "3.7.3"
  }
 },
 "nbformat": 4,
 "nbformat_minor": 2
}
