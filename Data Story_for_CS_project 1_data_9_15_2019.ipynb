{
 "cells": [
  {
   "cell_type": "markdown",
   "metadata": {},
   "source": [
    "# Data Story_for_CS_project 1_data"
   ]
  },
  {
   "cell_type": "markdown",
   "metadata": {},
   "source": [
    "## The questions I asked:\n",
    "For phenotypic data:\n",
    "1.what is min, max ,median, std value for each of the three traits?\n",
    "2.Are the trait data are normal?\n",
    "3.what is relationship between the traits (compare pairwise related quantities)?\n",
    "4.Is there a difference between my own data and data obtained from database?\n",
    "\n",
    "For genotypic data:\n",
    "1: Are the SNPs cover the whole genome of soybean? \n",
    "2: which chromosome has largest number of marker? \n",
    "3. How was the distribution of marker distance across genome?\n",
    "4. Is there any relationship between features (SNPs markers)?"
   ]
  },
  {
   "cell_type": "markdown",
   "metadata": {},
   "source": [
    "# # Python code used to answer the questions I asked"
   ]
  },
  {
   "cell_type": "code",
   "execution_count": 26,
   "metadata": {},
   "outputs": [],
   "source": [
    "import pandas as pd\n",
    "import numpy as np\n",
    "import seaborn as sns\n",
    "import matplotlib.pyplot as plt\n",
    "from functools import reduce\n",
    "import scipy.stats as stats"
   ]
  },
  {
   "cell_type": "code",
   "execution_count": 3,
   "metadata": {},
   "outputs": [
    {
     "name": "stdout",
     "output_type": "stream",
     "text": [
      "<class 'pandas.core.frame.DataFrame'>\n",
      "Int64Index: 9821 entries, 0 to 9820\n",
      "Data columns (total 7 columns):\n",
      "Unnamed: 0_x    9815 non-null float64\n",
      "id              9821 non-null object\n",
      "yield           7093 non-null float64\n",
      "Unnamed: 0_y    9709 non-null float64\n",
      "protein         9642 non-null float64\n",
      "Unnamed: 0      9680 non-null float64\n",
      "oil             9613 non-null float64\n",
      "dtypes: float64(6), object(1)\n",
      "memory usage: 613.8+ KB\n",
      "None\n"
     ]
    }
   ],
   "source": [
    "## combine cleaned data together: Option1 using pd.merge\n",
    "cleaned_y = pd.read_csv('Yield.csv')\n",
    "cleaned_p = pd.read_csv('protein.csv')\n",
    "cleaned_o= pd.read_csv('oil.csv')\n",
    "combined_yp = pd.merge(cleaned_y,cleaned_p,on='id',how='outer')\n",
    "combined_ypo=pd.merge(combined_yp,cleaned_o,on='id',how='outer')\n",
    "print(combined_ypo.info())"
   ]
  },
  {
   "cell_type": "code",
   "execution_count": 4,
   "metadata": {},
   "outputs": [
    {
     "data": {
      "text/html": [
       "<div>\n",
       "<style scoped>\n",
       "    .dataframe tbody tr th:only-of-type {\n",
       "        vertical-align: middle;\n",
       "    }\n",
       "\n",
       "    .dataframe tbody tr th {\n",
       "        vertical-align: top;\n",
       "    }\n",
       "\n",
       "    .dataframe thead th {\n",
       "        text-align: right;\n",
       "    }\n",
       "</style>\n",
       "<table border=\"1\" class=\"dataframe\">\n",
       "  <thead>\n",
       "    <tr style=\"text-align: right;\">\n",
       "      <th></th>\n",
       "      <th>Unnamed: 0_x</th>\n",
       "      <th>id</th>\n",
       "      <th>yield</th>\n",
       "      <th>Unnamed: 0_y</th>\n",
       "      <th>protein</th>\n",
       "      <th>Unnamed: 0</th>\n",
       "      <th>oil</th>\n",
       "    </tr>\n",
       "  </thead>\n",
       "  <tbody>\n",
       "    <tr>\n",
       "      <th>0</th>\n",
       "      <td>0.0</td>\n",
       "      <td>PI103414</td>\n",
       "      <td>2.28</td>\n",
       "      <td>0.0</td>\n",
       "      <td>37.7</td>\n",
       "      <td>0.0</td>\n",
       "      <td>21.6</td>\n",
       "    </tr>\n",
       "    <tr>\n",
       "      <th>1</th>\n",
       "      <td>1.0</td>\n",
       "      <td>PI132215</td>\n",
       "      <td>1.84</td>\n",
       "      <td>1.0</td>\n",
       "      <td>39.7</td>\n",
       "      <td>1.0</td>\n",
       "      <td>20.4</td>\n",
       "    </tr>\n",
       "    <tr>\n",
       "      <th>2</th>\n",
       "      <td>5.0</td>\n",
       "      <td>PI153214</td>\n",
       "      <td>1.82</td>\n",
       "      <td>5.0</td>\n",
       "      <td>41.1</td>\n",
       "      <td>5.0</td>\n",
       "      <td>18.2</td>\n",
       "    </tr>\n",
       "    <tr>\n",
       "      <th>3</th>\n",
       "      <td>6.0</td>\n",
       "      <td>PI153229</td>\n",
       "      <td>1.74</td>\n",
       "      <td>6.0</td>\n",
       "      <td>38.3</td>\n",
       "      <td>6.0</td>\n",
       "      <td>19.5</td>\n",
       "    </tr>\n",
       "    <tr>\n",
       "      <th>4</th>\n",
       "      <td>7.0</td>\n",
       "      <td>PI153236</td>\n",
       "      <td>2.07</td>\n",
       "      <td>7.0</td>\n",
       "      <td>39.0</td>\n",
       "      <td>7.0</td>\n",
       "      <td>20.4</td>\n",
       "    </tr>\n",
       "  </tbody>\n",
       "</table>\n",
       "</div>"
      ],
      "text/plain": [
       "   Unnamed: 0_x        id  yield  Unnamed: 0_y  protein  Unnamed: 0   oil\n",
       "0           0.0  PI103414   2.28           0.0     37.7         0.0  21.6\n",
       "1           1.0  PI132215   1.84           1.0     39.7         1.0  20.4\n",
       "2           5.0  PI153214   1.82           5.0     41.1         5.0  18.2\n",
       "3           6.0  PI153229   1.74           6.0     38.3         6.0  19.5\n",
       "4           7.0  PI153236   2.07           7.0     39.0         7.0  20.4"
      ]
     },
     "execution_count": 4,
     "metadata": {},
     "output_type": "execute_result"
    }
   ],
   "source": [
    "combined_ypo.head()"
   ]
  },
  {
   "cell_type": "code",
   "execution_count": 5,
   "metadata": {},
   "outputs": [],
   "source": [
    "combined_ypo.to_csv('combined_ypo.csv')"
   ]
  },
  {
   "cell_type": "code",
   "execution_count": 6,
   "metadata": {},
   "outputs": [],
   "source": [
    "## combine cleaned data together: Option 2 using reduce\n",
    "dfs = [cleaned_y,cleaned_p,cleaned_o]\n",
    "df_final = reduce(lambda left,right: pd.merge(left,right,on='id',how='outer'), dfs)"
   ]
  },
  {
   "cell_type": "code",
   "execution_count": 7,
   "metadata": {},
   "outputs": [
    {
     "name": "stdout",
     "output_type": "stream",
     "text": [
      "<class 'pandas.core.frame.DataFrame'>\n",
      "Int64Index: 9821 entries, 0 to 9820\n",
      "Data columns (total 7 columns):\n",
      "Unnamed: 0_x    9815 non-null float64\n",
      "id              9821 non-null object\n",
      "yield           7093 non-null float64\n",
      "Unnamed: 0_y    9709 non-null float64\n",
      "protein         9642 non-null float64\n",
      "Unnamed: 0      9680 non-null float64\n",
      "oil             9613 non-null float64\n",
      "dtypes: float64(6), object(1)\n",
      "memory usage: 613.8+ KB\n",
      "None\n"
     ]
    }
   ],
   "source": [
    "print(df_final.info())"
   ]
  },
  {
   "cell_type": "markdown",
   "metadata": {},
   "source": [
    "#### two methods got same results"
   ]
  },
  {
   "cell_type": "code",
   "execution_count": 9,
   "metadata": {},
   "outputs": [
    {
     "data": {
      "text/html": [
       "<div>\n",
       "<style scoped>\n",
       "    .dataframe tbody tr th:only-of-type {\n",
       "        vertical-align: middle;\n",
       "    }\n",
       "\n",
       "    .dataframe tbody tr th {\n",
       "        vertical-align: top;\n",
       "    }\n",
       "\n",
       "    .dataframe thead th {\n",
       "        text-align: right;\n",
       "    }\n",
       "</style>\n",
       "<table border=\"1\" class=\"dataframe\">\n",
       "  <thead>\n",
       "    <tr style=\"text-align: right;\">\n",
       "      <th></th>\n",
       "      <th>Unnamed: 0_x</th>\n",
       "      <th>id</th>\n",
       "      <th>yield</th>\n",
       "      <th>Unnamed: 0_y</th>\n",
       "      <th>protein</th>\n",
       "      <th>Unnamed: 0</th>\n",
       "      <th>oil</th>\n",
       "    </tr>\n",
       "  </thead>\n",
       "  <tbody>\n",
       "    <tr>\n",
       "      <th>0</th>\n",
       "      <td>0.0</td>\n",
       "      <td>PI103414</td>\n",
       "      <td>2.28</td>\n",
       "      <td>0.0</td>\n",
       "      <td>37.7</td>\n",
       "      <td>0.0</td>\n",
       "      <td>21.6</td>\n",
       "    </tr>\n",
       "    <tr>\n",
       "      <th>1</th>\n",
       "      <td>1.0</td>\n",
       "      <td>PI132215</td>\n",
       "      <td>1.84</td>\n",
       "      <td>1.0</td>\n",
       "      <td>39.7</td>\n",
       "      <td>1.0</td>\n",
       "      <td>20.4</td>\n",
       "    </tr>\n",
       "    <tr>\n",
       "      <th>2</th>\n",
       "      <td>5.0</td>\n",
       "      <td>PI153214</td>\n",
       "      <td>1.82</td>\n",
       "      <td>5.0</td>\n",
       "      <td>41.1</td>\n",
       "      <td>5.0</td>\n",
       "      <td>18.2</td>\n",
       "    </tr>\n",
       "    <tr>\n",
       "      <th>3</th>\n",
       "      <td>6.0</td>\n",
       "      <td>PI153229</td>\n",
       "      <td>1.74</td>\n",
       "      <td>6.0</td>\n",
       "      <td>38.3</td>\n",
       "      <td>6.0</td>\n",
       "      <td>19.5</td>\n",
       "    </tr>\n",
       "    <tr>\n",
       "      <th>4</th>\n",
       "      <td>7.0</td>\n",
       "      <td>PI153236</td>\n",
       "      <td>2.07</td>\n",
       "      <td>7.0</td>\n",
       "      <td>39.0</td>\n",
       "      <td>7.0</td>\n",
       "      <td>20.4</td>\n",
       "    </tr>\n",
       "  </tbody>\n",
       "</table>\n",
       "</div>"
      ],
      "text/plain": [
       "   Unnamed: 0_x        id  yield  Unnamed: 0_y  protein  Unnamed: 0   oil\n",
       "0           0.0  PI103414   2.28           0.0     37.7         0.0  21.6\n",
       "1           1.0  PI132215   1.84           1.0     39.7         1.0  20.4\n",
       "2           5.0  PI153214   1.82           5.0     41.1         5.0  18.2\n",
       "3           6.0  PI153229   1.74           6.0     38.3         6.0  19.5\n",
       "4           7.0  PI153236   2.07           7.0     39.0         7.0  20.4"
      ]
     },
     "execution_count": 9,
     "metadata": {},
     "output_type": "execute_result"
    }
   ],
   "source": [
    "df_final.head()"
   ]
  },
  {
   "cell_type": "code",
   "execution_count": 10,
   "metadata": {},
   "outputs": [],
   "source": [
    "## add a new column named as origin\n",
    "origin=[]\n",
    "for idx in df_final['id']:\n",
    "    if idx.startswith('PI'):\n",
    "        origin.append('germplasm')\n",
    "    else: \n",
    "       origin.append('own_lines')\n"
   ]
  },
  {
   "cell_type": "code",
   "execution_count": 11,
   "metadata": {},
   "outputs": [
    {
     "name": "stdout",
     "output_type": "stream",
     "text": [
      "['germplasm', 'germplasm', 'germplasm', 'germplasm', 'germplasm', 'germplasm', 'germplasm', 'germplasm', 'germplasm', 'germplasm']\n"
     ]
    }
   ],
   "source": [
    "print(origin[:10])"
   ]
  },
  {
   "cell_type": "code",
   "execution_count": 12,
   "metadata": {},
   "outputs": [],
   "source": [
    "df_final['origin']=origin"
   ]
  },
  {
   "cell_type": "markdown",
   "metadata": {},
   "source": [
    "### Describe statistics for all data"
   ]
  },
  {
   "cell_type": "code",
   "execution_count": 13,
   "metadata": {},
   "outputs": [
    {
     "data": {
      "text/html": [
       "<div>\n",
       "<style scoped>\n",
       "    .dataframe tbody tr th:only-of-type {\n",
       "        vertical-align: middle;\n",
       "    }\n",
       "\n",
       "    .dataframe tbody tr th {\n",
       "        vertical-align: top;\n",
       "    }\n",
       "\n",
       "    .dataframe thead th {\n",
       "        text-align: right;\n",
       "    }\n",
       "</style>\n",
       "<table border=\"1\" class=\"dataframe\">\n",
       "  <thead>\n",
       "    <tr style=\"text-align: right;\">\n",
       "      <th></th>\n",
       "      <th>Unnamed: 0_x</th>\n",
       "      <th>id</th>\n",
       "      <th>yield</th>\n",
       "      <th>Unnamed: 0_y</th>\n",
       "      <th>protein</th>\n",
       "      <th>Unnamed: 0</th>\n",
       "      <th>oil</th>\n",
       "      <th>origin</th>\n",
       "    </tr>\n",
       "  </thead>\n",
       "  <tbody>\n",
       "    <tr>\n",
       "      <th>0</th>\n",
       "      <td>0.0</td>\n",
       "      <td>PI103414</td>\n",
       "      <td>2.28</td>\n",
       "      <td>0.0</td>\n",
       "      <td>37.7</td>\n",
       "      <td>0.0</td>\n",
       "      <td>21.6</td>\n",
       "      <td>germplasm</td>\n",
       "    </tr>\n",
       "    <tr>\n",
       "      <th>1</th>\n",
       "      <td>1.0</td>\n",
       "      <td>PI132215</td>\n",
       "      <td>1.84</td>\n",
       "      <td>1.0</td>\n",
       "      <td>39.7</td>\n",
       "      <td>1.0</td>\n",
       "      <td>20.4</td>\n",
       "      <td>germplasm</td>\n",
       "    </tr>\n",
       "    <tr>\n",
       "      <th>2</th>\n",
       "      <td>5.0</td>\n",
       "      <td>PI153214</td>\n",
       "      <td>1.82</td>\n",
       "      <td>5.0</td>\n",
       "      <td>41.1</td>\n",
       "      <td>5.0</td>\n",
       "      <td>18.2</td>\n",
       "      <td>germplasm</td>\n",
       "    </tr>\n",
       "    <tr>\n",
       "      <th>3</th>\n",
       "      <td>6.0</td>\n",
       "      <td>PI153229</td>\n",
       "      <td>1.74</td>\n",
       "      <td>6.0</td>\n",
       "      <td>38.3</td>\n",
       "      <td>6.0</td>\n",
       "      <td>19.5</td>\n",
       "      <td>germplasm</td>\n",
       "    </tr>\n",
       "    <tr>\n",
       "      <th>4</th>\n",
       "      <td>7.0</td>\n",
       "      <td>PI153236</td>\n",
       "      <td>2.07</td>\n",
       "      <td>7.0</td>\n",
       "      <td>39.0</td>\n",
       "      <td>7.0</td>\n",
       "      <td>20.4</td>\n",
       "      <td>germplasm</td>\n",
       "    </tr>\n",
       "  </tbody>\n",
       "</table>\n",
       "</div>"
      ],
      "text/plain": [
       "   Unnamed: 0_x        id  yield  Unnamed: 0_y  protein  Unnamed: 0   oil  \\\n",
       "0           0.0  PI103414   2.28           0.0     37.7         0.0  21.6   \n",
       "1           1.0  PI132215   1.84           1.0     39.7         1.0  20.4   \n",
       "2           5.0  PI153214   1.82           5.0     41.1         5.0  18.2   \n",
       "3           6.0  PI153229   1.74           6.0     38.3         6.0  19.5   \n",
       "4           7.0  PI153236   2.07           7.0     39.0         7.0  20.4   \n",
       "\n",
       "      origin  \n",
       "0  germplasm  \n",
       "1  germplasm  \n",
       "2  germplasm  \n",
       "3  germplasm  \n",
       "4  germplasm  "
      ]
     },
     "execution_count": 13,
     "metadata": {},
     "output_type": "execute_result"
    }
   ],
   "source": [
    "df_final.head()"
   ]
  },
  {
   "cell_type": "code",
   "execution_count": 14,
   "metadata": {},
   "outputs": [],
   "source": [
    "df_f=df_final[['id','yield','protein','oil']]"
   ]
  },
  {
   "cell_type": "code",
   "execution_count": 15,
   "metadata": {},
   "outputs": [
    {
     "data": {
      "text/html": [
       "<div>\n",
       "<style scoped>\n",
       "    .dataframe tbody tr th:only-of-type {\n",
       "        vertical-align: middle;\n",
       "    }\n",
       "\n",
       "    .dataframe tbody tr th {\n",
       "        vertical-align: top;\n",
       "    }\n",
       "\n",
       "    .dataframe thead th {\n",
       "        text-align: right;\n",
       "    }\n",
       "</style>\n",
       "<table border=\"1\" class=\"dataframe\">\n",
       "  <thead>\n",
       "    <tr style=\"text-align: right;\">\n",
       "      <th></th>\n",
       "      <th>yield</th>\n",
       "      <th>protein</th>\n",
       "      <th>oil</th>\n",
       "    </tr>\n",
       "  </thead>\n",
       "  <tbody>\n",
       "    <tr>\n",
       "      <th>count</th>\n",
       "      <td>7093.000000</td>\n",
       "      <td>9642.000000</td>\n",
       "      <td>9613.000000</td>\n",
       "    </tr>\n",
       "    <tr>\n",
       "      <th>mean</th>\n",
       "      <td>2.213421</td>\n",
       "      <td>44.284157</td>\n",
       "      <td>18.581638</td>\n",
       "    </tr>\n",
       "    <tr>\n",
       "      <th>std</th>\n",
       "      <td>0.991092</td>\n",
       "      <td>2.481386</td>\n",
       "      <td>2.008543</td>\n",
       "    </tr>\n",
       "    <tr>\n",
       "      <th>min</th>\n",
       "      <td>0.030000</td>\n",
       "      <td>37.300000</td>\n",
       "      <td>13.000000</td>\n",
       "    </tr>\n",
       "    <tr>\n",
       "      <th>25%</th>\n",
       "      <td>1.510000</td>\n",
       "      <td>42.500000</td>\n",
       "      <td>17.300000</td>\n",
       "    </tr>\n",
       "    <tr>\n",
       "      <th>50%</th>\n",
       "      <td>2.080000</td>\n",
       "      <td>44.200000</td>\n",
       "      <td>18.700000</td>\n",
       "    </tr>\n",
       "    <tr>\n",
       "      <th>75%</th>\n",
       "      <td>2.890000</td>\n",
       "      <td>45.900000</td>\n",
       "      <td>20.100000</td>\n",
       "    </tr>\n",
       "    <tr>\n",
       "      <th>max</th>\n",
       "      <td>4.958000</td>\n",
       "      <td>51.200000</td>\n",
       "      <td>24.100000</td>\n",
       "    </tr>\n",
       "  </tbody>\n",
       "</table>\n",
       "</div>"
      ],
      "text/plain": [
       "             yield      protein          oil\n",
       "count  7093.000000  9642.000000  9613.000000\n",
       "mean      2.213421    44.284157    18.581638\n",
       "std       0.991092     2.481386     2.008543\n",
       "min       0.030000    37.300000    13.000000\n",
       "25%       1.510000    42.500000    17.300000\n",
       "50%       2.080000    44.200000    18.700000\n",
       "75%       2.890000    45.900000    20.100000\n",
       "max       4.958000    51.200000    24.100000"
      ]
     },
     "execution_count": 15,
     "metadata": {},
     "output_type": "execute_result"
    }
   ],
   "source": [
    "df_f.describe()"
   ]
  },
  {
   "cell_type": "markdown",
   "metadata": {},
   "source": [
    "### 2 Check the normal distribution for three trait ----Option 1: Graphical methods "
   ]
  },
  {
   "cell_type": "code",
   "execution_count": 14,
   "metadata": {},
   "outputs": [],
   "source": [
    "## for protein"
   ]
  },
  {
   "cell_type": "code",
   "execution_count": 15,
   "metadata": {},
   "outputs": [],
   "source": [
    "def ecdf(data):\n",
    "    \"\"\"Compute ECDF for a one-dimensional array of measurements.\"\"\"\n",
    "    # Number of data points: n\n",
    "    n = len(data)\n",
    "\n",
    "    # x-data for the ECDF: x\n",
    "    x= np.sort(data)\n",
    "\n",
    "    # y-data for the ECDF: y\n",
    "    y = np.arange(1, n+1) / n\n",
    "\n",
    "    return x, y"
   ]
  },
  {
   "cell_type": "code",
   "execution_count": 16,
   "metadata": {},
   "outputs": [
    {
     "name": "stdout",
     "output_type": "stream",
     "text": [
      "44.28415749022304\n"
     ]
    }
   ],
   "source": [
    "mu=np.mean(df_f['protein'])\n",
    "print(mu)"
   ]
  },
  {
   "cell_type": "code",
   "execution_count": 17,
   "metadata": {},
   "outputs": [],
   "source": [
    "sigma=np.std(df_f['protein'])"
   ]
  },
  {
   "cell_type": "code",
   "execution_count": 18,
   "metadata": {},
   "outputs": [],
   "source": [
    "np.random.seed(28041990)"
   ]
  },
  {
   "cell_type": "code",
   "execution_count": 19,
   "metadata": {},
   "outputs": [],
   "source": [
    "samples=np.random.normal(mu,sigma,size=10000)"
   ]
  },
  {
   "cell_type": "code",
   "execution_count": 20,
   "metadata": {},
   "outputs": [],
   "source": [
    "## for oil"
   ]
  },
  {
   "cell_type": "code",
   "execution_count": 21,
   "metadata": {},
   "outputs": [],
   "source": [
    "mu_oil=np.mean(df_f['oil'])"
   ]
  },
  {
   "cell_type": "code",
   "execution_count": 22,
   "metadata": {},
   "outputs": [],
   "source": [
    "sigma_oil=np.std(df_f['oil'])"
   ]
  },
  {
   "cell_type": "code",
   "execution_count": 23,
   "metadata": {},
   "outputs": [],
   "source": [
    "samples_oil=np.random.normal(mu_oil,sigma_oil,size=10000)"
   ]
  },
  {
   "cell_type": "code",
   "execution_count": 24,
   "metadata": {},
   "outputs": [],
   "source": [
    "## for yield"
   ]
  },
  {
   "cell_type": "code",
   "execution_count": 25,
   "metadata": {},
   "outputs": [],
   "source": [
    "mu_yield=np.mean(df_f['yield'])"
   ]
  },
  {
   "cell_type": "code",
   "execution_count": 26,
   "metadata": {},
   "outputs": [],
   "source": [
    "sigma_yield=np.std(df_f['yield'])"
   ]
  },
  {
   "cell_type": "code",
   "execution_count": 27,
   "metadata": {},
   "outputs": [],
   "source": [
    "samples_yield=np.random.normal(mu_yield,sigma_yield,size=10000)"
   ]
  },
  {
   "cell_type": "code",
   "execution_count": 28,
   "metadata": {},
   "outputs": [
    {
     "data": {
      "image/png": "[encoded data removed]",
      "text/plain": [
       "<Figure size 432x288 with 1 Axes>"
      ]
     },
     "metadata": {
      "needs_background": "light"
     },
     "output_type": "display_data"
    },
    {
     "data": {
      "image/png": "[encoded data removed]",
      "text/plain": [
       "<Figure size 432x288 with 1 Axes>"
      ]
     },
     "metadata": {
      "needs_background": "light"
     },
     "output_type": "display_data"
    },
    {
     "data": {
      "image/png": "[encoded data removed]",
      "text/plain": [
       "<Figure size 432x288 with 1 Axes>"
      ]
     },
     "metadata": {
      "needs_background": "light"
     },
     "output_type": "display_data"
    }
   ],
   "source": [
    "# Get the CDF of the samples and of the data\n",
    "x_theor,y_theor=ecdf(samples)\n",
    "x,y=ecdf(df_f['protein'])\n",
    "\n",
    "# Plot the CDFs and show the plot for protein\n",
    "plt.subplot(3,1,1)\n",
    "_ = plt.plot(x_theor, y_theor)\n",
    "_ = plt.plot(x, y, marker='.', linestyle='none')\n",
    "_ = plt.xlabel('Protein content (%)')\n",
    "_ = plt.ylabel('CDF')\n",
    "plt.show()\n",
    "\n",
    "\n",
    "# Plot the CDFs and show the plot for oil\n",
    "x_theor,y_theor=ecdf(samples_oil)\n",
    "x,y=ecdf(df_f['oil'])\n",
    "plt.subplot(3,1,2)\n",
    "_ = plt.plot(x_theor, y_theor)\n",
    "_ = plt.plot(x, y, marker='.', linestyle='none')\n",
    "_ = plt.xlabel('Oil content (%)')\n",
    "_ = plt.ylabel('CDF')\n",
    "plt.show()\n",
    "\n",
    "# Plot the CDFs and show the plot for yield\n",
    "x_theor,y_theor=ecdf(samples_yield)\n",
    "x,y=ecdf(df_f['yield'])\n",
    "plt.subplot(3,1,3)\n",
    "_ = plt.plot(x_theor, y_theor)\n",
    "_ = plt.plot(x, y, marker='.', linestyle='none')\n",
    "_ = plt.xlabel('Yield (t/h)')\n",
    "_ = plt.ylabel('CDF')\n",
    "plt.show()\n"
   ]
  },
  {
   "cell_type": "markdown",
   "metadata": {},
   "source": [
    "#### except for yield, the other two traits seem like normal distribuation, but we need to use normal test to confirm."
   ]
  },
  {
   "cell_type": "markdown",
   "metadata": {},
   "source": [
    "### 2. Check the normal distribution for three trait ----Option 2: normaltest from scipy.stats"
   ]
  },
  {
   "cell_type": "code",
   "execution_count": 29,
   "metadata": {},
   "outputs": [],
   "source": [
    "from scipy.stats import normaltest"
   ]
  },
  {
   "cell_type": "code",
   "execution_count": 30,
   "metadata": {},
   "outputs": [
    {
     "name": "stdout",
     "output_type": "stream",
     "text": [
      "chi-square statistic: 90.87627132850528\n",
      "p value = 1.8470064541887026e-20\n"
     ]
    }
   ],
   "source": [
    "statistic, p_val = normaltest(df_f['protein'],nan_policy='omit')\n",
    "\n",
    "print('chi-square statistic:',statistic)\n",
    "print('p value =',p_val)"
   ]
  },
  {
   "cell_type": "code",
   "execution_count": 31,
   "metadata": {},
   "outputs": [
    {
     "name": "stdout",
     "output_type": "stream",
     "text": [
      "The null hypothesis can be rejected\n"
     ]
    }
   ],
   "source": [
    "alpha=0.001\n",
    "if p_val < alpha:  # null hypothesis: x comes from a normal distribution\n",
    " print(\"The null hypothesis can be rejected\")\n",
    "else:\n",
    " print(\"The null hypothesis cannot be rejected\")\n"
   ]
  },
  {
   "cell_type": "code",
   "execution_count": 32,
   "metadata": {},
   "outputs": [
    {
     "name": "stdout",
     "output_type": "stream",
     "text": [
      "chi-square statistic: 161.91036206851876\n",
      "p value = 6.944030110417341e-36\n"
     ]
    }
   ],
   "source": [
    "statistic, p_val = normaltest(df_f['oil'],nan_policy='omit')\n",
    "\n",
    "print('chi-square statistic:',statistic)\n",
    "print('p value =',p_val)"
   ]
  },
  {
   "cell_type": "code",
   "execution_count": 33,
   "metadata": {},
   "outputs": [
    {
     "name": "stdout",
     "output_type": "stream",
     "text": [
      "The null hypothesis can be rejected, the data is normal distribution\n"
     ]
    }
   ],
   "source": [
    "alpha=0.001\n",
    "if p_val < alpha:  # null hypothesis: x comes from a normal distribution\n",
    " print(\"The null hypothesis can be rejected, the data is normal distribution\")\n",
    "else:\n",
    " print(\"The null hypothesis cannot be rejected\")"
   ]
  },
  {
   "cell_type": "code",
   "execution_count": 34,
   "metadata": {},
   "outputs": [
    {
     "name": "stdout",
     "output_type": "stream",
     "text": [
      "chi-square statistic: 282.49268157357074\n",
      "p value = 4.544578476324981e-62\n"
     ]
    }
   ],
   "source": [
    "statistic, p_val = normaltest(df_f['yield'],nan_policy='omit')\n",
    "\n",
    "print('chi-square statistic:',statistic)\n",
    "print('p value =',p_val)"
   ]
  },
  {
   "cell_type": "code",
   "execution_count": 35,
   "metadata": {},
   "outputs": [
    {
     "name": "stdout",
     "output_type": "stream",
     "text": [
      "The null hypothesis can be rejected\n"
     ]
    }
   ],
   "source": [
    "alpha=0.001\n",
    "if p_val < alpha:  # null hypothesis: x comes from a normal distribution\n",
    " print(\"The null hypothesis can be rejected\")\n",
    "else:\n",
    " print(\"The null hypothesis cannot be rejected\")"
   ]
  },
  {
   "cell_type": "code",
   "execution_count": 36,
   "metadata": {},
   "outputs": [],
   "source": [
    "##No, the distribution appears to be not normally distributed based on normal test(p<0.05)"
   ]
  },
  {
   "cell_type": "markdown",
   "metadata": {},
   "source": [
    "### 3.what is relationship between the traits (compare pairwise-related quantities)?"
   ]
  },
  {
   "cell_type": "code",
   "execution_count": 31,
   "metadata": {},
   "outputs": [
    {
     "name": "stderr",
     "output_type": "stream",
     "text": [
      "C:\\ProgramData\\Anaconda3\\lib\\site-packages\\seaborn\\axisgrid.py:1847: UserWarning: JointGrid annotation is deprecated and will be removed in a future release.\n",
      "  warnings.warn(UserWarning(msg))\n"
     ]
    },
    {
     "data": {
      "image/png": "[encoded data removed]",
      "text/plain": [
       "<Figure size 432x432 with 3 Axes>"
      ]
     },
     "metadata": {
      "needs_background": "light"
     },
     "output_type": "display_data"
    }
   ],
   "source": [
    "_=sns.jointplot(x='yield', y='protein',data=df_f,kind='reg')\n",
    "_.annotate(stats.pearsonr)\n",
    "plt.show()\n",
    "# Display the plot\n",
    "plt.show()"
   ]
  },
  {
   "cell_type": "markdown",
   "metadata": {},
   "source": [
    "#### Protein and yield are neigetive correlated"
   ]
  },
  {
   "cell_type": "code",
   "execution_count": 32,
   "metadata": {},
   "outputs": [
    {
     "name": "stderr",
     "output_type": "stream",
     "text": [
      "C:\\ProgramData\\Anaconda3\\lib\\site-packages\\seaborn\\axisgrid.py:1847: UserWarning: JointGrid annotation is deprecated and will be removed in a future release.\n",
      "  warnings.warn(UserWarning(msg))\n"
     ]
    },
    {
     "data": {
      "image/png": "[encoded data removed]",
      "text/plain": [
       "<Figure size 432x432 with 3 Axes>"
      ]
     },
     "metadata": {
      "needs_background": "light"
     },
     "output_type": "display_data"
    }
   ],
   "source": [
    "_=sns.jointplot(x='protein', y='oil',data=df_f,kind='reg')\n",
    "_.annotate(stats.pearsonr)\n",
    "plt.show()\n",
    "# Display the plot\n",
    "plt.show()\n"
   ]
  },
  {
   "cell_type": "markdown",
   "metadata": {},
   "source": [
    "#### Protein and oil are neigetive correlated"
   ]
  },
  {
   "cell_type": "code",
   "execution_count": 28,
   "metadata": {},
   "outputs": [
    {
     "name": "stderr",
     "output_type": "stream",
     "text": [
      "C:\\ProgramData\\Anaconda3\\lib\\site-packages\\seaborn\\axisgrid.py:1847: UserWarning: JointGrid annotation is deprecated and will be removed in a future release.\n",
      "  warnings.warn(UserWarning(msg))\n"
     ]
    },
    {
     "data": {
      "image/png": "[encoded data removed]",
      "text/plain": [
       "<Figure size 432x432 with 3 Axes>"
      ]
     },
     "metadata": {
      "needs_background": "light"
     },
     "output_type": "display_data"
    }
   ],
   "source": [
    "j=sns.jointplot(x='oil', y='yield',data=df_f,kind='reg')\n",
    "j.annotate(stats.pearsonr)\n",
    "plt.show()\n",
    "# Display the plot\n",
    "plt.show()"
   ]
  },
  {
   "cell_type": "markdown",
   "metadata": {},
   "source": [
    "#### Oil and yield are possitive correlated\n",
    "#### Overall relationships were shown below"
   ]
  },
  {
   "cell_type": "code",
   "execution_count": 40,
   "metadata": {
    "scrolled": true
   },
   "outputs": [
    {
     "name": "stderr",
     "output_type": "stream",
     "text": [
      "C:\\ProgramData\\Anaconda3\\lib\\site-packages\\numpy\\lib\\histograms.py:824: RuntimeWarning: invalid value encountered in greater_equal\n",
      "  keep = (tmp_a >= first_edge)\n",
      "C:\\ProgramData\\Anaconda3\\lib\\site-packages\\numpy\\lib\\histograms.py:825: RuntimeWarning: invalid value encountered in less_equal\n",
      "  keep &= (tmp_a <= last_edge)\n"
     ]
    },
    {
     "data": {
      "text/plain": [
       "<seaborn.axisgrid.PairGrid at 0xb15dd30>"
      ]
     },
     "execution_count": 40,
     "metadata": {},
     "output_type": "execute_result"
    },
    {
     "data": {
      "image/png": "[encoded data removed]",
      "text/plain": [
       "<Figure size 540x540 with 12 Axes>"
      ]
     },
     "metadata": {
      "needs_background": "light"
     },
     "output_type": "display_data"
    }
   ],
   "source": [
    "## Overview of all traits' relationships\n",
    "sns.pairplot(df_f)"
   ]
  },
  {
   "cell_type": "markdown",
   "metadata": {},
   "source": [
    "### Is there a significant difference between my own data and data obtained from database in agronomic traits?"
   ]
  },
  {
   "cell_type": "code",
   "execution_count": 16,
   "metadata": {},
   "outputs": [],
   "source": [
    "df_group=df_final[['id','yield','protein','oil','origin']]"
   ]
  },
  {
   "cell_type": "code",
   "execution_count": 17,
   "metadata": {},
   "outputs": [
    {
     "data": {
      "text/html": [
       "<div>\n",
       "<style scoped>\n",
       "    .dataframe tbody tr th:only-of-type {\n",
       "        vertical-align: middle;\n",
       "    }\n",
       "\n",
       "    .dataframe tbody tr th {\n",
       "        vertical-align: top;\n",
       "    }\n",
       "\n",
       "    .dataframe thead th {\n",
       "        text-align: right;\n",
       "    }\n",
       "</style>\n",
       "<table border=\"1\" class=\"dataframe\">\n",
       "  <thead>\n",
       "    <tr style=\"text-align: right;\">\n",
       "      <th></th>\n",
       "      <th>id</th>\n",
       "      <th>yield</th>\n",
       "      <th>protein</th>\n",
       "      <th>oil</th>\n",
       "      <th>origin</th>\n",
       "    </tr>\n",
       "  </thead>\n",
       "  <tbody>\n",
       "    <tr>\n",
       "      <th>0</th>\n",
       "      <td>PI103414</td>\n",
       "      <td>2.28</td>\n",
       "      <td>37.7</td>\n",
       "      <td>21.6</td>\n",
       "      <td>germplasm</td>\n",
       "    </tr>\n",
       "    <tr>\n",
       "      <th>1</th>\n",
       "      <td>PI132215</td>\n",
       "      <td>1.84</td>\n",
       "      <td>39.7</td>\n",
       "      <td>20.4</td>\n",
       "      <td>germplasm</td>\n",
       "    </tr>\n",
       "    <tr>\n",
       "      <th>2</th>\n",
       "      <td>PI153214</td>\n",
       "      <td>1.82</td>\n",
       "      <td>41.1</td>\n",
       "      <td>18.2</td>\n",
       "      <td>germplasm</td>\n",
       "    </tr>\n",
       "    <tr>\n",
       "      <th>3</th>\n",
       "      <td>PI153229</td>\n",
       "      <td>1.74</td>\n",
       "      <td>38.3</td>\n",
       "      <td>19.5</td>\n",
       "      <td>germplasm</td>\n",
       "    </tr>\n",
       "    <tr>\n",
       "      <th>4</th>\n",
       "      <td>PI153236</td>\n",
       "      <td>2.07</td>\n",
       "      <td>39.0</td>\n",
       "      <td>20.4</td>\n",
       "      <td>germplasm</td>\n",
       "    </tr>\n",
       "  </tbody>\n",
       "</table>\n",
       "</div>"
      ],
      "text/plain": [
       "         id  yield  protein   oil     origin\n",
       "0  PI103414   2.28     37.7  21.6  germplasm\n",
       "1  PI132215   1.84     39.7  20.4  germplasm\n",
       "2  PI153214   1.82     41.1  18.2  germplasm\n",
       "3  PI153229   1.74     38.3  19.5  germplasm\n",
       "4  PI153236   2.07     39.0  20.4  germplasm"
      ]
     },
     "execution_count": 17,
     "metadata": {},
     "output_type": "execute_result"
    }
   ],
   "source": [
    "df_group.head()"
   ]
  },
  {
   "cell_type": "code",
   "execution_count": 18,
   "metadata": {},
   "outputs": [],
   "source": [
    "g_data=df_group.loc[df_group['origin']=='germplasm']"
   ]
  },
  {
   "cell_type": "code",
   "execution_count": 19,
   "metadata": {},
   "outputs": [],
   "source": [
    "own_data=df_group.loc[df_group['origin']=='own_lines']"
   ]
  },
  {
   "cell_type": "code",
   "execution_count": 22,
   "metadata": {},
   "outputs": [
    {
     "data": {
      "text/plain": [
       "<matplotlib.axes._subplots.AxesSubplot at 0xaa58a90>"
      ]
     },
     "execution_count": 22,
     "metadata": {},
     "output_type": "execute_result"
    },
    {
     "data": {
      "image/png": "[encoded data removed]",
      "text/plain": [
       "<Figure size 432x288 with 1 Axes>"
      ]
     },
     "metadata": {
      "needs_background": "light"
     },
     "output_type": "display_data"
    }
   ],
   "source": [
    "sns.barplot(x=df_group['origin'],y=df_group['protein'],ci=95,n_boot=10000,data=df_group)"
   ]
  },
  {
   "cell_type": "code",
   "execution_count": 23,
   "metadata": {},
   "outputs": [
    {
     "data": {
      "text/plain": [
       "<matplotlib.axes._subplots.AxesSubplot at 0xab08c88>"
      ]
     },
     "execution_count": 23,
     "metadata": {},
     "output_type": "execute_result"
    },
    {
     "data": {
      "image/png": "[encoded data removed]",
      "text/plain": [
       "<Figure size 432x288 with 1 Axes>"
      ]
     },
     "metadata": {
      "needs_background": "light"
     },
     "output_type": "display_data"
    }
   ],
   "source": [
    "sns.barplot(x=df_group['origin'],y=df_group['oil'],ci=95,n_boot=10000,data=df_group)"
   ]
  },
  {
   "cell_type": "code",
   "execution_count": 24,
   "metadata": {
    "scrolled": true
   },
   "outputs": [
    {
     "data": {
      "text/plain": [
       "<matplotlib.axes._subplots.AxesSubplot at 0xab65cf8>"
      ]
     },
     "execution_count": 24,
     "metadata": {},
     "output_type": "execute_result"
    },
    {
     "data": {
      "image/png": "[encoded data removed]",
      "text/plain": [
       "<Figure size 432x288 with 1 Axes>"
      ]
     },
     "metadata": {
      "needs_background": "light"
     },
     "output_type": "display_data"
    }
   ],
   "source": [
    "sns.barplot(x=df_group['origin'],y=df_group['yield'],ci=95,n_boot=10000,data=df_group)"
   ]
  },
  {
   "cell_type": "markdown",
   "metadata": {},
   "source": [
    "## We saw diffierence between my own data and the public data among three traits, the significant test will be coducted in Exploratory Data section "
   ]
  },
  {
   "cell_type": "markdown",
   "metadata": {},
   "source": [
    "##  For genotypic data\n",
    "### Question 1:  Are the SNP cover the whole genome of soybean?"
   ]
  },
  {
   "cell_type": "code",
   "execution_count": 58,
   "metadata": {},
   "outputs": [],
   "source": [
    "df_g=pd.read_csv('new_g_sample.txt')"
   ]
  },
  {
   "cell_type": "code",
   "execution_count": 59,
   "metadata": {},
   "outputs": [
    {
     "data": {
      "text/html": [
       "<div>\n",
       "<style scoped>\n",
       "    .dataframe tbody tr th:only-of-type {\n",
       "        vertical-align: middle;\n",
       "    }\n",
       "\n",
       "    .dataframe tbody tr th {\n",
       "        vertical-align: top;\n",
       "    }\n",
       "\n",
       "    .dataframe thead th {\n",
       "        text-align: right;\n",
       "    }\n",
       "</style>\n",
       "<table border=\"1\" class=\"dataframe\">\n",
       "  <thead>\n",
       "    <tr style=\"text-align: right;\">\n",
       "      <th></th>\n",
       "      <th>Unnamed: 0</th>\n",
       "      <th>ltName</th>\n",
       "      <th>alleles_x</th>\n",
       "      <th>chrom_x</th>\n",
       "      <th>pos_x</th>\n",
       "      <th>PI219698</th>\n",
       "      <th>PI253651A</th>\n",
       "      <th>PI347550A</th>\n",
       "      <th>PI408055A</th>\n",
       "      <th>PI408069</th>\n",
       "      <th>PI408169A</th>\n",
       "      <th>PI408169B</th>\n",
       "      <th>PI416923</th>\n",
       "      <th>PI417472A</th>\n",
       "      <th>PI417521</th>\n",
       "      <th>PI423734</th>\n",
       "      <th>PI423923</th>\n",
       "      <th>PI424145</th>\n",
       "      <th>PI424159A</th>\n",
       "      <th>PI424241</th>\n",
       "    </tr>\n",
       "  </thead>\n",
       "  <tbody>\n",
       "    <tr>\n",
       "      <th>0</th>\n",
       "      <td>0</td>\n",
       "      <td>BARC_1.01_Gm_01_24939_A_G</td>\n",
       "      <td>A/G</td>\n",
       "      <td>GM01</td>\n",
       "      <td>24952</td>\n",
       "      <td>-</td>\n",
       "      <td>A</td>\n",
       "      <td>A</td>\n",
       "      <td>A</td>\n",
       "      <td>A</td>\n",
       "      <td>G</td>\n",
       "      <td>A</td>\n",
       "      <td>A</td>\n",
       "      <td>G</td>\n",
       "      <td>A</td>\n",
       "      <td>A</td>\n",
       "      <td>A</td>\n",
       "      <td>A</td>\n",
       "      <td>A</td>\n",
       "      <td>A</td>\n",
       "    </tr>\n",
       "    <tr>\n",
       "      <th>1</th>\n",
       "      <td>1</td>\n",
       "      <td>BARC_1.01_Gm_01_25990_C_T</td>\n",
       "      <td>C/T</td>\n",
       "      <td>GM01</td>\n",
       "      <td>26003</td>\n",
       "      <td>-</td>\n",
       "      <td>C</td>\n",
       "      <td>C</td>\n",
       "      <td>C</td>\n",
       "      <td>C</td>\n",
       "      <td>T</td>\n",
       "      <td>C</td>\n",
       "      <td>C</td>\n",
       "      <td>T</td>\n",
       "      <td>C</td>\n",
       "      <td>C</td>\n",
       "      <td>C</td>\n",
       "      <td>C</td>\n",
       "      <td>C</td>\n",
       "      <td>C</td>\n",
       "    </tr>\n",
       "    <tr>\n",
       "      <th>2</th>\n",
       "      <td>2</td>\n",
       "      <td>BARC_1.01_Gm_01_29658_A_G</td>\n",
       "      <td>A/G</td>\n",
       "      <td>GM01</td>\n",
       "      <td>29671</td>\n",
       "      <td>H</td>\n",
       "      <td>A</td>\n",
       "      <td>A</td>\n",
       "      <td>A</td>\n",
       "      <td>A</td>\n",
       "      <td>G</td>\n",
       "      <td>A</td>\n",
       "      <td>A</td>\n",
       "      <td>G</td>\n",
       "      <td>A</td>\n",
       "      <td>A</td>\n",
       "      <td>A</td>\n",
       "      <td>A</td>\n",
       "      <td>A</td>\n",
       "      <td>A</td>\n",
       "    </tr>\n",
       "    <tr>\n",
       "      <th>3</th>\n",
       "      <td>3</td>\n",
       "      <td>BARC_1.01_Gm_01_30699_G_A</td>\n",
       "      <td>G/A</td>\n",
       "      <td>GM01</td>\n",
       "      <td>30712</td>\n",
       "      <td>G</td>\n",
       "      <td>G</td>\n",
       "      <td>G</td>\n",
       "      <td>G</td>\n",
       "      <td>G</td>\n",
       "      <td>G</td>\n",
       "      <td>G</td>\n",
       "      <td>G</td>\n",
       "      <td>A</td>\n",
       "      <td>G</td>\n",
       "      <td>G</td>\n",
       "      <td>G</td>\n",
       "      <td>G</td>\n",
       "      <td>G</td>\n",
       "      <td>G</td>\n",
       "    </tr>\n",
       "    <tr>\n",
       "      <th>4</th>\n",
       "      <td>4</td>\n",
       "      <td>BARC_1.01_Gm_01_37005_C_T</td>\n",
       "      <td>C/T</td>\n",
       "      <td>GM01</td>\n",
       "      <td>37018</td>\n",
       "      <td>H</td>\n",
       "      <td>C</td>\n",
       "      <td>C</td>\n",
       "      <td>C</td>\n",
       "      <td>C</td>\n",
       "      <td>T</td>\n",
       "      <td>C</td>\n",
       "      <td>C</td>\n",
       "      <td>C</td>\n",
       "      <td>C</td>\n",
       "      <td>C</td>\n",
       "      <td>C</td>\n",
       "      <td>C</td>\n",
       "      <td>C</td>\n",
       "      <td>C</td>\n",
       "    </tr>\n",
       "  </tbody>\n",
       "</table>\n",
       "</div>"
      ],
      "text/plain": [
       "   Unnamed: 0                     ltName alleles_x chrom_x  pos_x PI219698  \\\n",
       "0           0  BARC_1.01_Gm_01_24939_A_G       A/G    GM01  24952        -   \n",
       "1           1  BARC_1.01_Gm_01_25990_C_T       C/T    GM01  26003        -   \n",
       "2           2  BARC_1.01_Gm_01_29658_A_G       A/G    GM01  29671        H   \n",
       "3           3  BARC_1.01_Gm_01_30699_G_A       G/A    GM01  30712        G   \n",
       "4           4  BARC_1.01_Gm_01_37005_C_T       C/T    GM01  37018        H   \n",
       "\n",
       "  PI253651A PI347550A PI408055A PI408069 PI408169A PI408169B PI416923  \\\n",
       "0         A         A         A        A         G         A        A   \n",
       "1         C         C         C        C         T         C        C   \n",
       "2         A         A         A        A         G         A        A   \n",
       "3         G         G         G        G         G         G        G   \n",
       "4         C         C         C        C         T         C        C   \n",
       "\n",
       "  PI417472A PI417521 PI423734 PI423923 PI424145 PI424159A PI424241  \n",
       "0         G        A        A        A        A         A        A  \n",
       "1         T        C        C        C        C         C        C  \n",
       "2         G        A        A        A        A         A        A  \n",
       "3         A        G        G        G        G         G        G  \n",
       "4         C        C        C        C        C         C        C  "
      ]
     },
     "execution_count": 59,
     "metadata": {},
     "output_type": "execute_result"
    }
   ],
   "source": [
    "df_g.head()"
   ]
  },
  {
   "cell_type": "code",
   "execution_count": 60,
   "metadata": {},
   "outputs": [],
   "source": [
    "chrom=df_g['chrom_x']"
   ]
  },
  {
   "cell_type": "code",
   "execution_count": 61,
   "metadata": {},
   "outputs": [],
   "source": [
    "snp_counts = chrom.value_counts()"
   ]
  },
  {
   "cell_type": "code",
   "execution_count": 62,
   "metadata": {},
   "outputs": [],
   "source": [
    "Marker_n=pd.DataFrame(snp_counts)"
   ]
  },
  {
   "cell_type": "code",
   "execution_count": 63,
   "metadata": {},
   "outputs": [],
   "source": [
    "M_plot=Marker_n.iloc[0:20,:].sort_index()"
   ]
  },
  {
   "cell_type": "code",
   "execution_count": 64,
   "metadata": {},
   "outputs": [],
   "source": [
    "M_plot_n=M_plot.reset_index()"
   ]
  },
  {
   "cell_type": "code",
   "execution_count": 65,
   "metadata": {},
   "outputs": [],
   "source": [
    "M_plot_n.columns=['chrom','SNP number']"
   ]
  },
  {
   "cell_type": "code",
   "execution_count": 66,
   "metadata": {},
   "outputs": [
    {
     "data": {
      "image/png": "[encoded data removed]",
      "text/plain": [
       "<Figure size 432x288 with 1 Axes>"
      ]
     },
     "metadata": {
      "needs_background": "light"
     },
     "output_type": "display_data"
    }
   ],
   "source": [
    "b=sns.barplot(x='chrom',y='SNP number',data=M_plot_n)\n",
    "b.axes.set_title(\"SNP number across different chromosome\",fontsize=10)\n",
    "b.set_xlabel(\"Chromosome\",fontsize=20)\n",
    "b.set_ylabel(\"SNP number\",fontsize=20)\n",
    "b.tick_params(labelsize=5)"
   ]
  },
  {
   "cell_type": "markdown",
   "metadata": {},
   "source": [
    "#### The chromosome 18 has large number of SNP markers (3229)"
   ]
  },
  {
   "cell_type": "code",
   "execution_count": 67,
   "metadata": {},
   "outputs": [],
   "source": [
    "df_p=df_g['pos_x']"
   ]
  },
  {
   "cell_type": "code",
   "execution_count": 68,
   "metadata": {},
   "outputs": [],
   "source": [
    "## Check the average distance between marker\n",
    "dist_between_marker=[]\n",
    "for i in range(len(df_g['pos_x'])):\n",
    "  if i==42233:\n",
    "    break\n",
    "  elif df_g['chrom_x'][i+1]!= df_g['chrom_x'][i]:\n",
    "     dist_between_marker.append(np.nan)\n",
    "     continue\n",
    "  dist_between_marker.append(df_g['pos_x'][i+1]-df_g['pos_x'][i])     "
   ]
  },
  {
   "cell_type": "code",
   "execution_count": 69,
   "metadata": {},
   "outputs": [],
   "source": [
    "dis=pd.DataFrame(dist_between_marker)"
   ]
  },
  {
   "cell_type": "code",
   "execution_count": 70,
   "metadata": {},
   "outputs": [
    {
     "data": {
      "text/html": [
       "<div>\n",
       "<style scoped>\n",
       "    .dataframe tbody tr th:only-of-type {\n",
       "        vertical-align: middle;\n",
       "    }\n",
       "\n",
       "    .dataframe tbody tr th {\n",
       "        vertical-align: top;\n",
       "    }\n",
       "\n",
       "    .dataframe thead th {\n",
       "        text-align: right;\n",
       "    }\n",
       "</style>\n",
       "<table border=\"1\" class=\"dataframe\">\n",
       "  <thead>\n",
       "    <tr style=\"text-align: right;\">\n",
       "      <th></th>\n",
       "      <th>0</th>\n",
       "    </tr>\n",
       "  </thead>\n",
       "  <tbody>\n",
       "    <tr>\n",
       "      <th>0</th>\n",
       "      <td>1051.0</td>\n",
       "    </tr>\n",
       "    <tr>\n",
       "      <th>1</th>\n",
       "      <td>3668.0</td>\n",
       "    </tr>\n",
       "    <tr>\n",
       "      <th>2</th>\n",
       "      <td>1041.0</td>\n",
       "    </tr>\n",
       "    <tr>\n",
       "      <th>3</th>\n",
       "      <td>6306.0</td>\n",
       "    </tr>\n",
       "    <tr>\n",
       "      <th>4</th>\n",
       "      <td>1464.0</td>\n",
       "    </tr>\n",
       "  </tbody>\n",
       "</table>\n",
       "</div>"
      ],
      "text/plain": [
       "        0\n",
       "0  1051.0\n",
       "1  3668.0\n",
       "2  1041.0\n",
       "3  6306.0\n",
       "4  1464.0"
      ]
     },
     "execution_count": 70,
     "metadata": {},
     "output_type": "execute_result"
    }
   ],
   "source": [
    "dis.head()"
   ]
  },
  {
   "cell_type": "code",
   "execution_count": 71,
   "metadata": {},
   "outputs": [],
   "source": [
    "chrom=[]\n",
    "for idx in df_g['chrom_x']:\n",
    "    if idx.startswith('GM'):\n",
    "        chrom.append(idx)  "
   ]
  },
  {
   "cell_type": "code",
   "execution_count": 72,
   "metadata": {},
   "outputs": [],
   "source": [
    "Chrom=pd.DataFrame(chrom)"
   ]
  },
  {
   "cell_type": "code",
   "execution_count": 73,
   "metadata": {},
   "outputs": [],
   "source": [
    "Chrom['distance']=dis.iloc[:,0:42031]"
   ]
  },
  {
   "cell_type": "code",
   "execution_count": 74,
   "metadata": {},
   "outputs": [],
   "source": [
    "Chrom.columns=['Chr','Distance']"
   ]
  },
  {
   "cell_type": "code",
   "execution_count": 75,
   "metadata": {
    "scrolled": true
   },
   "outputs": [
    {
     "data": {
      "text/html": [
       "<div>\n",
       "<style scoped>\n",
       "    .dataframe tbody tr th:only-of-type {\n",
       "        vertical-align: middle;\n",
       "    }\n",
       "\n",
       "    .dataframe tbody tr th {\n",
       "        vertical-align: top;\n",
       "    }\n",
       "\n",
       "    .dataframe thead tr th {\n",
       "        text-align: left;\n",
       "    }\n",
       "\n",
       "    .dataframe thead tr:last-of-type th {\n",
       "        text-align: right;\n",
       "    }\n",
       "</style>\n",
       "<table border=\"1\" class=\"dataframe\">\n",
       "  <thead>\n",
       "    <tr>\n",
       "      <th></th>\n",
       "      <th colspan=\"8\" halign=\"left\">Distance</th>\n",
       "    </tr>\n",
       "    <tr>\n",
       "      <th></th>\n",
       "      <th>count</th>\n",
       "      <th>mean</th>\n",
       "      <th>std</th>\n",
       "      <th>min</th>\n",
       "      <th>25%</th>\n",
       "      <th>50%</th>\n",
       "      <th>75%</th>\n",
       "      <th>max</th>\n",
       "    </tr>\n",
       "    <tr>\n",
       "      <th>Chr</th>\n",
       "      <th></th>\n",
       "      <th></th>\n",
       "      <th></th>\n",
       "      <th></th>\n",
       "      <th></th>\n",
       "      <th></th>\n",
       "      <th></th>\n",
       "      <th></th>\n",
       "    </tr>\n",
       "  </thead>\n",
       "  <tbody>\n",
       "    <tr>\n",
       "      <th>GM01</th>\n",
       "      <td>1719.0</td>\n",
       "      <td>33045.531123</td>\n",
       "      <td>69569.732693</td>\n",
       "      <td>886.0</td>\n",
       "      <td>4955.00</td>\n",
       "      <td>14270.0</td>\n",
       "      <td>38567.00</td>\n",
       "      <td>1961970.0</td>\n",
       "    </tr>\n",
       "    <tr>\n",
       "      <th>GM02</th>\n",
       "      <td>2413.0</td>\n",
       "      <td>20115.119768</td>\n",
       "      <td>40427.879004</td>\n",
       "      <td>427.0</td>\n",
       "      <td>2858.00</td>\n",
       "      <td>8413.0</td>\n",
       "      <td>22924.00</td>\n",
       "      <td>1023340.0</td>\n",
       "    </tr>\n",
       "    <tr>\n",
       "      <th>GM03</th>\n",
       "      <td>1659.0</td>\n",
       "      <td>27542.624473</td>\n",
       "      <td>48431.295172</td>\n",
       "      <td>747.0</td>\n",
       "      <td>4066.00</td>\n",
       "      <td>11104.0</td>\n",
       "      <td>30212.00</td>\n",
       "      <td>603452.0</td>\n",
       "    </tr>\n",
       "    <tr>\n",
       "      <th>GM04</th>\n",
       "      <td>1960.0</td>\n",
       "      <td>26698.245408</td>\n",
       "      <td>39114.170668</td>\n",
       "      <td>726.0</td>\n",
       "      <td>4147.25</td>\n",
       "      <td>11617.0</td>\n",
       "      <td>34965.00</td>\n",
       "      <td>379485.0</td>\n",
       "    </tr>\n",
       "    <tr>\n",
       "      <th>GM05</th>\n",
       "      <td>2020.0</td>\n",
       "      <td>20882.197525</td>\n",
       "      <td>56288.011591</td>\n",
       "      <td>174.0</td>\n",
       "      <td>2200.25</td>\n",
       "      <td>7342.0</td>\n",
       "      <td>20188.75</td>\n",
       "      <td>1226291.0</td>\n",
       "    </tr>\n",
       "    <tr>\n",
       "      <th>GM06</th>\n",
       "      <td>1946.0</td>\n",
       "      <td>26355.962487</td>\n",
       "      <td>50251.808942</td>\n",
       "      <td>141.0</td>\n",
       "      <td>2694.25</td>\n",
       "      <td>10514.0</td>\n",
       "      <td>31790.25</td>\n",
       "      <td>1233091.0</td>\n",
       "    </tr>\n",
       "    <tr>\n",
       "      <th>GM07</th>\n",
       "      <td>2179.0</td>\n",
       "      <td>20453.975218</td>\n",
       "      <td>35173.090583</td>\n",
       "      <td>526.0</td>\n",
       "      <td>3157.00</td>\n",
       "      <td>9780.0</td>\n",
       "      <td>23135.50</td>\n",
       "      <td>610279.0</td>\n",
       "    </tr>\n",
       "    <tr>\n",
       "      <th>GM08</th>\n",
       "      <td>2593.0</td>\n",
       "      <td>18387.542615</td>\n",
       "      <td>40546.796118</td>\n",
       "      <td>83.0</td>\n",
       "      <td>1444.00</td>\n",
       "      <td>6653.0</td>\n",
       "      <td>21618.00</td>\n",
       "      <td>1309188.0</td>\n",
       "    </tr>\n",
       "    <tr>\n",
       "      <th>GM09</th>\n",
       "      <td>1872.0</td>\n",
       "      <td>26663.097756</td>\n",
       "      <td>48065.050502</td>\n",
       "      <td>421.0</td>\n",
       "      <td>3961.75</td>\n",
       "      <td>11477.5</td>\n",
       "      <td>33787.75</td>\n",
       "      <td>934179.0</td>\n",
       "    </tr>\n",
       "    <tr>\n",
       "      <th>GM10</th>\n",
       "      <td>2204.0</td>\n",
       "      <td>23382.604356</td>\n",
       "      <td>42165.607439</td>\n",
       "      <td>115.0</td>\n",
       "      <td>2634.75</td>\n",
       "      <td>9666.5</td>\n",
       "      <td>29064.25</td>\n",
       "      <td>886598.0</td>\n",
       "    </tr>\n",
       "    <tr>\n",
       "      <th>GM11</th>\n",
       "      <td>1718.0</td>\n",
       "      <td>20202.346915</td>\n",
       "      <td>38943.725227</td>\n",
       "      <td>28.0</td>\n",
       "      <td>1668.50</td>\n",
       "      <td>7679.5</td>\n",
       "      <td>23750.00</td>\n",
       "      <td>644414.0</td>\n",
       "    </tr>\n",
       "    <tr>\n",
       "      <th>GM12</th>\n",
       "      <td>1759.0</td>\n",
       "      <td>22773.712905</td>\n",
       "      <td>45465.488322</td>\n",
       "      <td>424.0</td>\n",
       "      <td>3224.00</td>\n",
       "      <td>9014.0</td>\n",
       "      <td>23820.50</td>\n",
       "      <td>926978.0</td>\n",
       "    </tr>\n",
       "    <tr>\n",
       "      <th>GM13</th>\n",
       "      <td>2681.0</td>\n",
       "      <td>17076.824692</td>\n",
       "      <td>36766.279652</td>\n",
       "      <td>312.0</td>\n",
       "      <td>2505.00</td>\n",
       "      <td>6990.0</td>\n",
       "      <td>18852.00</td>\n",
       "      <td>1196416.0</td>\n",
       "    </tr>\n",
       "    <tr>\n",
       "      <th>GM14</th>\n",
       "      <td>1971.0</td>\n",
       "      <td>24852.624556</td>\n",
       "      <td>46173.199400</td>\n",
       "      <td>467.0</td>\n",
       "      <td>3150.50</td>\n",
       "      <td>9633.0</td>\n",
       "      <td>28419.50</td>\n",
       "      <td>645588.0</td>\n",
       "    </tr>\n",
       "    <tr>\n",
       "      <th>GM15</th>\n",
       "      <td>2429.0</td>\n",
       "      <td>21277.079457</td>\n",
       "      <td>40807.236175</td>\n",
       "      <td>872.0</td>\n",
       "      <td>3352.00</td>\n",
       "      <td>7954.0</td>\n",
       "      <td>22133.00</td>\n",
       "      <td>681991.0</td>\n",
       "    </tr>\n",
       "    <tr>\n",
       "      <th>GM16</th>\n",
       "      <td>1723.0</td>\n",
       "      <td>21976.946605</td>\n",
       "      <td>39528.429544</td>\n",
       "      <td>724.0</td>\n",
       "      <td>3030.50</td>\n",
       "      <td>8299.0</td>\n",
       "      <td>23274.00</td>\n",
       "      <td>719942.0</td>\n",
       "    </tr>\n",
       "    <tr>\n",
       "      <th>GM17</th>\n",
       "      <td>1980.0</td>\n",
       "      <td>20992.208081</td>\n",
       "      <td>34525.583406</td>\n",
       "      <td>284.0</td>\n",
       "      <td>2180.75</td>\n",
       "      <td>7633.0</td>\n",
       "      <td>26391.00</td>\n",
       "      <td>411433.0</td>\n",
       "    </tr>\n",
       "    <tr>\n",
       "      <th>GM18</th>\n",
       "      <td>3228.0</td>\n",
       "      <td>17970.199195</td>\n",
       "      <td>29315.810097</td>\n",
       "      <td>1186.0</td>\n",
       "      <td>4060.50</td>\n",
       "      <td>8559.5</td>\n",
       "      <td>19828.00</td>\n",
       "      <td>513926.0</td>\n",
       "    </tr>\n",
       "    <tr>\n",
       "      <th>GM19</th>\n",
       "      <td>2307.0</td>\n",
       "      <td>21975.073689</td>\n",
       "      <td>34267.757673</td>\n",
       "      <td>425.0</td>\n",
       "      <td>3013.50</td>\n",
       "      <td>9550.0</td>\n",
       "      <td>27082.50</td>\n",
       "      <td>431415.0</td>\n",
       "    </tr>\n",
       "    <tr>\n",
       "      <th>GM20</th>\n",
       "      <td>1650.0</td>\n",
       "      <td>29011.652121</td>\n",
       "      <td>52088.426931</td>\n",
       "      <td>660.0</td>\n",
       "      <td>5078.25</td>\n",
       "      <td>14951.5</td>\n",
       "      <td>36221.50</td>\n",
       "      <td>1541797.0</td>\n",
       "    </tr>\n",
       "  </tbody>\n",
       "</table>\n",
       "</div>"
      ],
      "text/plain": [
       "     Distance                                                                  \\\n",
       "        count          mean           std     min      25%      50%       75%   \n",
       "Chr                                                                             \n",
       "GM01   1719.0  33045.531123  69569.732693   886.0  4955.00  14270.0  38567.00   \n",
       "GM02   2413.0  20115.119768  40427.879004   427.0  2858.00   8413.0  22924.00   \n",
       "GM03   1659.0  27542.624473  48431.295172   747.0  4066.00  11104.0  30212.00   \n",
       "GM04   1960.0  26698.245408  39114.170668   726.0  4147.25  11617.0  34965.00   \n",
       "GM05   2020.0  20882.197525  56288.011591   174.0  2200.25   7342.0  20188.75   \n",
       "GM06   1946.0  26355.962487  50251.808942   141.0  2694.25  10514.0  31790.25   \n",
       "GM07   2179.0  20453.975218  35173.090583   526.0  3157.00   9780.0  23135.50   \n",
       "GM08   2593.0  18387.542615  40546.796118    83.0  1444.00   6653.0  21618.00   \n",
       "GM09   1872.0  26663.097756  48065.050502   421.0  3961.75  11477.5  33787.75   \n",
       "GM10   2204.0  23382.604356  42165.607439   115.0  2634.75   9666.5  29064.25   \n",
       "GM11   1718.0  20202.346915  38943.725227    28.0  1668.50   7679.5  23750.00   \n",
       "GM12   1759.0  22773.712905  45465.488322   424.0  3224.00   9014.0  23820.50   \n",
       "GM13   2681.0  17076.824692  36766.279652   312.0  2505.00   6990.0  18852.00   \n",
       "GM14   1971.0  24852.624556  46173.199400   467.0  3150.50   9633.0  28419.50   \n",
       "GM15   2429.0  21277.079457  40807.236175   872.0  3352.00   7954.0  22133.00   \n",
       "GM16   1723.0  21976.946605  39528.429544   724.0  3030.50   8299.0  23274.00   \n",
       "GM17   1980.0  20992.208081  34525.583406   284.0  2180.75   7633.0  26391.00   \n",
       "GM18   3228.0  17970.199195  29315.810097  1186.0  4060.50   8559.5  19828.00   \n",
       "GM19   2307.0  21975.073689  34267.757673   425.0  3013.50   9550.0  27082.50   \n",
       "GM20   1650.0  29011.652121  52088.426931   660.0  5078.25  14951.5  36221.50   \n",
       "\n",
       "                 \n",
       "            max  \n",
       "Chr              \n",
       "GM01  1961970.0  \n",
       "GM02  1023340.0  \n",
       "GM03   603452.0  \n",
       "GM04   379485.0  \n",
       "GM05  1226291.0  \n",
       "GM06  1233091.0  \n",
       "GM07   610279.0  \n",
       "GM08  1309188.0  \n",
       "GM09   934179.0  \n",
       "GM10   886598.0  \n",
       "GM11   644414.0  \n",
       "GM12   926978.0  \n",
       "GM13  1196416.0  \n",
       "GM14   645588.0  \n",
       "GM15   681991.0  \n",
       "GM16   719942.0  \n",
       "GM17   411433.0  \n",
       "GM18   513926.0  \n",
       "GM19   431415.0  \n",
       "GM20  1541797.0  "
      ]
     },
     "execution_count": 75,
     "metadata": {},
     "output_type": "execute_result"
    }
   ],
   "source": [
    "Chrom.groupby('Chr').describe()"
   ]
  },
  {
   "cell_type": "code",
   "execution_count": 33,
   "metadata": {},
   "outputs": [
    {
     "name": "stderr",
     "output_type": "stream",
     "text": [
      "C:\\ProgramData\\Anaconda3\\lib\\site-packages\\IPython\\core\\interactiveshell.py:3058: DtypeWarning: Columns (0) have mixed types. Specify dtype option on import or set low_memory=False.\n",
      "  interactivity=interactivity, compiler=compiler, result=result)\n"
     ]
    }
   ],
   "source": [
    "g_data=pd.read_csv('012format_last.csv')"
   ]
  },
  {
   "cell_type": "code",
   "execution_count": 34,
   "metadata": {},
   "outputs": [
    {
     "data": {
      "text/html": [
       "<div>\n",
       "<style scoped>\n",
       "    .dataframe tbody tr th:only-of-type {\n",
       "        vertical-align: middle;\n",
       "    }\n",
       "\n",
       "    .dataframe tbody tr th {\n",
       "        vertical-align: top;\n",
       "    }\n",
       "\n",
       "    .dataframe thead th {\n",
       "        text-align: right;\n",
       "    }\n",
       "</style>\n",
       "<table border=\"1\" class=\"dataframe\">\n",
       "  <thead>\n",
       "    <tr style=\"text-align: right;\">\n",
       "      <th></th>\n",
       "      <th>Unnamed: 0</th>\n",
       "      <th>Unnamed: 0.1</th>\n",
       "      <th>2</th>\n",
       "      <th>3</th>\n",
       "      <th>4</th>\n",
       "      <th>5</th>\n",
       "      <th>6</th>\n",
       "      <th>7</th>\n",
       "      <th>8</th>\n",
       "      <th>9</th>\n",
       "      <th>...</th>\n",
       "      <th>35210</th>\n",
       "      <th>35211</th>\n",
       "      <th>35212</th>\n",
       "      <th>35213</th>\n",
       "      <th>35214</th>\n",
       "      <th>35215</th>\n",
       "      <th>35216</th>\n",
       "      <th>35217</th>\n",
       "      <th>35218</th>\n",
       "      <th>35219</th>\n",
       "    </tr>\n",
       "  </thead>\n",
       "  <tbody>\n",
       "    <tr>\n",
       "      <th>0</th>\n",
       "      <td>PI253651A</td>\n",
       "      <td>1</td>\n",
       "      <td>0</td>\n",
       "      <td>0</td>\n",
       "      <td>0</td>\n",
       "      <td>0</td>\n",
       "      <td>0</td>\n",
       "      <td>0</td>\n",
       "      <td>0</td>\n",
       "      <td>0</td>\n",
       "      <td>...</td>\n",
       "      <td>0</td>\n",
       "      <td>0</td>\n",
       "      <td>0</td>\n",
       "      <td>0</td>\n",
       "      <td>0</td>\n",
       "      <td>0</td>\n",
       "      <td>0</td>\n",
       "      <td>0</td>\n",
       "      <td>0</td>\n",
       "      <td>0</td>\n",
       "    </tr>\n",
       "    <tr>\n",
       "      <th>1</th>\n",
       "      <td>PI347550A</td>\n",
       "      <td>2</td>\n",
       "      <td>0</td>\n",
       "      <td>0</td>\n",
       "      <td>0</td>\n",
       "      <td>0</td>\n",
       "      <td>0</td>\n",
       "      <td>0</td>\n",
       "      <td>0</td>\n",
       "      <td>0</td>\n",
       "      <td>...</td>\n",
       "      <td>0</td>\n",
       "      <td>0</td>\n",
       "      <td>0</td>\n",
       "      <td>0</td>\n",
       "      <td>0</td>\n",
       "      <td>0</td>\n",
       "      <td>0</td>\n",
       "      <td>2</td>\n",
       "      <td>0</td>\n",
       "      <td>2</td>\n",
       "    </tr>\n",
       "    <tr>\n",
       "      <th>2</th>\n",
       "      <td>PI408055A</td>\n",
       "      <td>3</td>\n",
       "      <td>0</td>\n",
       "      <td>0</td>\n",
       "      <td>0</td>\n",
       "      <td>0</td>\n",
       "      <td>0</td>\n",
       "      <td>0</td>\n",
       "      <td>0</td>\n",
       "      <td>0</td>\n",
       "      <td>...</td>\n",
       "      <td>0</td>\n",
       "      <td>0</td>\n",
       "      <td>0</td>\n",
       "      <td>0</td>\n",
       "      <td>0</td>\n",
       "      <td>0</td>\n",
       "      <td>0</td>\n",
       "      <td>0</td>\n",
       "      <td>0</td>\n",
       "      <td>0</td>\n",
       "    </tr>\n",
       "    <tr>\n",
       "      <th>3</th>\n",
       "      <td>PI408069</td>\n",
       "      <td>4</td>\n",
       "      <td>0</td>\n",
       "      <td>0</td>\n",
       "      <td>0</td>\n",
       "      <td>0</td>\n",
       "      <td>0</td>\n",
       "      <td>0</td>\n",
       "      <td>0</td>\n",
       "      <td>0</td>\n",
       "      <td>...</td>\n",
       "      <td>0</td>\n",
       "      <td>0</td>\n",
       "      <td>0</td>\n",
       "      <td>0</td>\n",
       "      <td>0</td>\n",
       "      <td>0</td>\n",
       "      <td>0</td>\n",
       "      <td>0</td>\n",
       "      <td>0</td>\n",
       "      <td>0</td>\n",
       "    </tr>\n",
       "    <tr>\n",
       "      <th>4</th>\n",
       "      <td>PI408169A</td>\n",
       "      <td>5</td>\n",
       "      <td>2</td>\n",
       "      <td>2</td>\n",
       "      <td>2</td>\n",
       "      <td>0</td>\n",
       "      <td>2</td>\n",
       "      <td>0</td>\n",
       "      <td>2</td>\n",
       "      <td>2</td>\n",
       "      <td>...</td>\n",
       "      <td>0</td>\n",
       "      <td>0</td>\n",
       "      <td>0</td>\n",
       "      <td>0</td>\n",
       "      <td>0</td>\n",
       "      <td>0</td>\n",
       "      <td>0</td>\n",
       "      <td>0</td>\n",
       "      <td>0</td>\n",
       "      <td>0</td>\n",
       "    </tr>\n",
       "    <tr>\n",
       "      <th>5</th>\n",
       "      <td>PI408169B</td>\n",
       "      <td>6</td>\n",
       "      <td>0</td>\n",
       "      <td>0</td>\n",
       "      <td>0</td>\n",
       "      <td>0</td>\n",
       "      <td>0</td>\n",
       "      <td>0</td>\n",
       "      <td>0</td>\n",
       "      <td>0</td>\n",
       "      <td>...</td>\n",
       "      <td>0</td>\n",
       "      <td>0</td>\n",
       "      <td>0</td>\n",
       "      <td>0</td>\n",
       "      <td>0</td>\n",
       "      <td>0</td>\n",
       "      <td>2</td>\n",
       "      <td>0</td>\n",
       "      <td>0</td>\n",
       "      <td>0</td>\n",
       "    </tr>\n",
       "    <tr>\n",
       "      <th>6</th>\n",
       "      <td>PI416923</td>\n",
       "      <td>7</td>\n",
       "      <td>0</td>\n",
       "      <td>0</td>\n",
       "      <td>0</td>\n",
       "      <td>0</td>\n",
       "      <td>0</td>\n",
       "      <td>0</td>\n",
       "      <td>0</td>\n",
       "      <td>0</td>\n",
       "      <td>...</td>\n",
       "      <td>0</td>\n",
       "      <td>0</td>\n",
       "      <td>0</td>\n",
       "      <td>0</td>\n",
       "      <td>0</td>\n",
       "      <td>0</td>\n",
       "      <td>0</td>\n",
       "      <td>0</td>\n",
       "      <td>0</td>\n",
       "      <td>0</td>\n",
       "    </tr>\n",
       "    <tr>\n",
       "      <th>7</th>\n",
       "      <td>PI417472A</td>\n",
       "      <td>8</td>\n",
       "      <td>2</td>\n",
       "      <td>2</td>\n",
       "      <td>2</td>\n",
       "      <td>2</td>\n",
       "      <td>0</td>\n",
       "      <td>2</td>\n",
       "      <td>2</td>\n",
       "      <td>0</td>\n",
       "      <td>...</td>\n",
       "      <td>0</td>\n",
       "      <td>0</td>\n",
       "      <td>0</td>\n",
       "      <td>0</td>\n",
       "      <td>0</td>\n",
       "      <td>0</td>\n",
       "      <td>0</td>\n",
       "      <td>0</td>\n",
       "      <td>0</td>\n",
       "      <td>0</td>\n",
       "    </tr>\n",
       "    <tr>\n",
       "      <th>8</th>\n",
       "      <td>PI417521</td>\n",
       "      <td>9</td>\n",
       "      <td>0</td>\n",
       "      <td>0</td>\n",
       "      <td>0</td>\n",
       "      <td>0</td>\n",
       "      <td>0</td>\n",
       "      <td>0</td>\n",
       "      <td>0</td>\n",
       "      <td>0</td>\n",
       "      <td>...</td>\n",
       "      <td>0</td>\n",
       "      <td>0</td>\n",
       "      <td>0</td>\n",
       "      <td>0</td>\n",
       "      <td>0</td>\n",
       "      <td>0</td>\n",
       "      <td>0</td>\n",
       "      <td>2</td>\n",
       "      <td>0</td>\n",
       "      <td>2</td>\n",
       "    </tr>\n",
       "    <tr>\n",
       "      <th>9</th>\n",
       "      <td>PI423734</td>\n",
       "      <td>10</td>\n",
       "      <td>0</td>\n",
       "      <td>0</td>\n",
       "      <td>0</td>\n",
       "      <td>0</td>\n",
       "      <td>0</td>\n",
       "      <td>0</td>\n",
       "      <td>0</td>\n",
       "      <td>0</td>\n",
       "      <td>...</td>\n",
       "      <td>2</td>\n",
       "      <td>2</td>\n",
       "      <td>2</td>\n",
       "      <td>2</td>\n",
       "      <td>2</td>\n",
       "      <td>0</td>\n",
       "      <td>0</td>\n",
       "      <td>0</td>\n",
       "      <td>0</td>\n",
       "      <td>0</td>\n",
       "    </tr>\n",
       "  </tbody>\n",
       "</table>\n",
       "<p>10 rows × 35220 columns</p>\n",
       "</div>"
      ],
      "text/plain": [
       "  Unnamed: 0  Unnamed: 0.1  2  3  4  5  6  7  8  9  ...    35210  35211  \\\n",
       "0  PI253651A             1  0  0  0  0  0  0  0  0  ...        0      0   \n",
       "1  PI347550A             2  0  0  0  0  0  0  0  0  ...        0      0   \n",
       "2  PI408055A             3  0  0  0  0  0  0  0  0  ...        0      0   \n",
       "3   PI408069             4  0  0  0  0  0  0  0  0  ...        0      0   \n",
       "4  PI408169A             5  2  2  2  0  2  0  2  2  ...        0      0   \n",
       "5  PI408169B             6  0  0  0  0  0  0  0  0  ...        0      0   \n",
       "6   PI416923             7  0  0  0  0  0  0  0  0  ...        0      0   \n",
       "7  PI417472A             8  2  2  2  2  0  2  2  0  ...        0      0   \n",
       "8   PI417521             9  0  0  0  0  0  0  0  0  ...        0      0   \n",
       "9   PI423734            10  0  0  0  0  0  0  0  0  ...        2      2   \n",
       "\n",
       "   35212  35213  35214  35215  35216  35217  35218  35219  \n",
       "0      0      0      0      0      0      0      0      0  \n",
       "1      0      0      0      0      0      2      0      2  \n",
       "2      0      0      0      0      0      0      0      0  \n",
       "3      0      0      0      0      0      0      0      0  \n",
       "4      0      0      0      0      0      0      0      0  \n",
       "5      0      0      0      0      2      0      0      0  \n",
       "6      0      0      0      0      0      0      0      0  \n",
       "7      0      0      0      0      0      0      0      0  \n",
       "8      0      0      0      0      0      2      0      2  \n",
       "9      2      2      2      0      0      0      0      0  \n",
       "\n",
       "[10 rows x 35220 columns]"
      ]
     },
     "execution_count": 34,
     "metadata": {},
     "output_type": "execute_result"
    }
   ],
   "source": [
    "g_data[:10]"
   ]
  },
  {
   "cell_type": "code",
   "execution_count": 36,
   "metadata": {},
   "outputs": [],
   "source": [
    "g_sample=g_data.iloc[3:3000]"
   ]
  },
  {
   "cell_type": "code",
   "execution_count": null,
   "metadata": {},
   "outputs": [],
   "source": [
    "# calculate the correlation matrix\n",
    "corr = g_sample.corr()\n",
    "\n",
    "# plot the heatmap\n",
    "sns.heatmap(corr, \n",
    "        xticklabels=corr.columns,\n",
    "        yticklabels=corr.columns)"
   ]
  },
  {
   "cell_type": "code",
   "execution_count": null,
   "metadata": {},
   "outputs": [],
   "source": []
  }
 ],
 "metadata": {
  "kernelspec": {
   "display_name": "Python 3",
   "language": "python",
   "name": "python3"
  },
  "language_info": {
   "codemirror_mode": {
    "name": "ipython",
    "version": 3
   },
   "file_extension": ".py",
   "mimetype": "text/x-python",
   "name": "python",
   "nbconvert_exporter": "python",
   "pygments_lexer": "ipython3",
   "version": "3.7.3"
  }
 },
 "nbformat": 4,
 "nbformat_minor": 2
}
