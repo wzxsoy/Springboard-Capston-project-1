{
 "cells": [
  {
   "cell_type": "code",
   "execution_count": 1,
   "metadata": {
    "scrolled": true
   },
   "outputs": [],
   "source": [
    "# main modules needed\n",
    "import pandas as pd\n",
    "import numpy as np\n",
    "import seaborn as sns\n",
    "from sklearn import linear_model\n",
    "from sklearn.model_selection import train_test_split\n",
    "from matplotlib import pyplot as plt\n",
    "from scipy import stats\n",
    "from sklearn.decomposition import PCA\n",
    "from sklearn.preprocessing import StandardScaler\n",
    "from sklearn.preprocessing import scale"
   ]
  },
  {
   "cell_type": "code",
   "execution_count": 55,
   "metadata": {
    "scrolled": false
   },
   "outputs": [],
   "source": [
    "df=pd.read_csv('012format_last.csv')"
   ]
  },
  {
   "cell_type": "code",
   "execution_count": 56,
   "metadata": {},
   "outputs": [
    {
     "data": {
      "text/plain": [
       "(9765, 35220)"
      ]
     },
     "execution_count": 56,
     "metadata": {},
     "output_type": "execute_result"
    }
   ],
   "source": [
    "df.shape"
   ]
  },
  {
   "cell_type": "code",
   "execution_count": 57,
   "metadata": {},
   "outputs": [],
   "source": [
    "df.rename(columns={\"Unnamed: 0\": \"id\"},inplace=True)"
   ]
  },
  {
   "cell_type": "code",
   "execution_count": 58,
   "metadata": {
    "scrolled": true
   },
   "outputs": [
    {
     "data": {
      "text/html": [
       "<div>\n",
       "<style scoped>\n",
       "    .dataframe tbody tr th:only-of-type {\n",
       "        vertical-align: middle;\n",
       "    }\n",
       "\n",
       "    .dataframe tbody tr th {\n",
       "        vertical-align: top;\n",
       "    }\n",
       "\n",
       "    .dataframe thead th {\n",
       "        text-align: right;\n",
       "    }\n",
       "</style>\n",
       "<table border=\"1\" class=\"dataframe\">\n",
       "  <thead>\n",
       "    <tr style=\"text-align: right;\">\n",
       "      <th></th>\n",
       "      <th>id</th>\n",
       "      <th>Unnamed: 0.1</th>\n",
       "      <th>2</th>\n",
       "      <th>3</th>\n",
       "      <th>4</th>\n",
       "      <th>5</th>\n",
       "      <th>6</th>\n",
       "      <th>7</th>\n",
       "      <th>8</th>\n",
       "      <th>9</th>\n",
       "      <th>...</th>\n",
       "      <th>35210</th>\n",
       "      <th>35211</th>\n",
       "      <th>35212</th>\n",
       "      <th>35213</th>\n",
       "      <th>35214</th>\n",
       "      <th>35215</th>\n",
       "      <th>35216</th>\n",
       "      <th>35217</th>\n",
       "      <th>35218</th>\n",
       "      <th>35219</th>\n",
       "    </tr>\n",
       "  </thead>\n",
       "  <tbody>\n",
       "    <tr>\n",
       "      <th>0</th>\n",
       "      <td>PI253651A</td>\n",
       "      <td>1</td>\n",
       "      <td>0</td>\n",
       "      <td>0</td>\n",
       "      <td>0</td>\n",
       "      <td>0</td>\n",
       "      <td>0</td>\n",
       "      <td>0</td>\n",
       "      <td>0</td>\n",
       "      <td>0</td>\n",
       "      <td>...</td>\n",
       "      <td>0</td>\n",
       "      <td>0</td>\n",
       "      <td>0</td>\n",
       "      <td>0</td>\n",
       "      <td>0</td>\n",
       "      <td>0</td>\n",
       "      <td>0</td>\n",
       "      <td>0</td>\n",
       "      <td>0</td>\n",
       "      <td>0</td>\n",
       "    </tr>\n",
       "    <tr>\n",
       "      <th>1</th>\n",
       "      <td>PI347550A</td>\n",
       "      <td>2</td>\n",
       "      <td>0</td>\n",
       "      <td>0</td>\n",
       "      <td>0</td>\n",
       "      <td>0</td>\n",
       "      <td>0</td>\n",
       "      <td>0</td>\n",
       "      <td>0</td>\n",
       "      <td>0</td>\n",
       "      <td>...</td>\n",
       "      <td>0</td>\n",
       "      <td>0</td>\n",
       "      <td>0</td>\n",
       "      <td>0</td>\n",
       "      <td>0</td>\n",
       "      <td>0</td>\n",
       "      <td>0</td>\n",
       "      <td>2</td>\n",
       "      <td>0</td>\n",
       "      <td>2</td>\n",
       "    </tr>\n",
       "    <tr>\n",
       "      <th>2</th>\n",
       "      <td>PI408055A</td>\n",
       "      <td>3</td>\n",
       "      <td>0</td>\n",
       "      <td>0</td>\n",
       "      <td>0</td>\n",
       "      <td>0</td>\n",
       "      <td>0</td>\n",
       "      <td>0</td>\n",
       "      <td>0</td>\n",
       "      <td>0</td>\n",
       "      <td>...</td>\n",
       "      <td>0</td>\n",
       "      <td>0</td>\n",
       "      <td>0</td>\n",
       "      <td>0</td>\n",
       "      <td>0</td>\n",
       "      <td>0</td>\n",
       "      <td>0</td>\n",
       "      <td>0</td>\n",
       "      <td>0</td>\n",
       "      <td>0</td>\n",
       "    </tr>\n",
       "    <tr>\n",
       "      <th>3</th>\n",
       "      <td>PI408069</td>\n",
       "      <td>4</td>\n",
       "      <td>0</td>\n",
       "      <td>0</td>\n",
       "      <td>0</td>\n",
       "      <td>0</td>\n",
       "      <td>0</td>\n",
       "      <td>0</td>\n",
       "      <td>0</td>\n",
       "      <td>0</td>\n",
       "      <td>...</td>\n",
       "      <td>0</td>\n",
       "      <td>0</td>\n",
       "      <td>0</td>\n",
       "      <td>0</td>\n",
       "      <td>0</td>\n",
       "      <td>0</td>\n",
       "      <td>0</td>\n",
       "      <td>0</td>\n",
       "      <td>0</td>\n",
       "      <td>0</td>\n",
       "    </tr>\n",
       "    <tr>\n",
       "      <th>4</th>\n",
       "      <td>PI408169A</td>\n",
       "      <td>5</td>\n",
       "      <td>2</td>\n",
       "      <td>2</td>\n",
       "      <td>2</td>\n",
       "      <td>0</td>\n",
       "      <td>2</td>\n",
       "      <td>0</td>\n",
       "      <td>2</td>\n",
       "      <td>2</td>\n",
       "      <td>...</td>\n",
       "      <td>0</td>\n",
       "      <td>0</td>\n",
       "      <td>0</td>\n",
       "      <td>0</td>\n",
       "      <td>0</td>\n",
       "      <td>0</td>\n",
       "      <td>0</td>\n",
       "      <td>0</td>\n",
       "      <td>0</td>\n",
       "      <td>0</td>\n",
       "    </tr>\n",
       "  </tbody>\n",
       "</table>\n",
       "<p>5 rows × 35220 columns</p>\n",
       "</div>"
      ],
      "text/plain": [
       "          id  Unnamed: 0.1  2  3  4  5  6  7  8  9  ...  35210  35211  35212  \\\n",
       "0  PI253651A             1  0  0  0  0  0  0  0  0  ...      0      0      0   \n",
       "1  PI347550A             2  0  0  0  0  0  0  0  0  ...      0      0      0   \n",
       "2  PI408055A             3  0  0  0  0  0  0  0  0  ...      0      0      0   \n",
       "3   PI408069             4  0  0  0  0  0  0  0  0  ...      0      0      0   \n",
       "4  PI408169A             5  2  2  2  0  2  0  2  2  ...      0      0      0   \n",
       "\n",
       "   35213  35214  35215  35216  35217  35218  35219  \n",
       "0      0      0      0      0      0      0      0  \n",
       "1      0      0      0      0      2      0      2  \n",
       "2      0      0      0      0      0      0      0  \n",
       "3      0      0      0      0      0      0      0  \n",
       "4      0      0      0      0      0      0      0  \n",
       "\n",
       "[5 rows x 35220 columns]"
      ]
     },
     "execution_count": 58,
     "metadata": {},
     "output_type": "execute_result"
    }
   ],
   "source": [
    "df.head()"
   ]
  },
  {
   "cell_type": "code",
   "execution_count": 59,
   "metadata": {},
   "outputs": [],
   "source": [
    "ID=[]\n",
    "for idx in df['id']:\n",
    "    ID.append(str(idx))"
   ]
  },
  {
   "cell_type": "code",
   "execution_count": 75,
   "metadata": {},
   "outputs": [],
   "source": [
    "df.id=ID"
   ]
  },
  {
   "cell_type": "code",
   "execution_count": 76,
   "metadata": {},
   "outputs": [],
   "source": [
    "## add a new varible, namely origin, as a new varible\n",
    "origin=[]\n",
    "for idx in df['id']:\n",
    "    if idx.startswith('PI'):\n",
    "        origin.append('0')\n",
    "    else: \n",
    "       origin.append('2')"
   ]
  },
  {
   "cell_type": "code",
   "execution_count": 77,
   "metadata": {},
   "outputs": [
    {
     "data": {
      "text/plain": [
       "Counter({'0': 8750, '2': 1015})"
      ]
     },
     "execution_count": 77,
     "metadata": {},
     "output_type": "execute_result"
    }
   ],
   "source": [
    "Counter(origin)"
   ]
  },
  {
   "cell_type": "code",
   "execution_count": 62,
   "metadata": {},
   "outputs": [],
   "source": [
    "df['origin']=origin"
   ]
  },
  {
   "cell_type": "code",
   "execution_count": 63,
   "metadata": {},
   "outputs": [
    {
     "data": {
      "text/html": [
       "<div>\n",
       "<style scoped>\n",
       "    .dataframe tbody tr th:only-of-type {\n",
       "        vertical-align: middle;\n",
       "    }\n",
       "\n",
       "    .dataframe tbody tr th {\n",
       "        vertical-align: top;\n",
       "    }\n",
       "\n",
       "    .dataframe thead th {\n",
       "        text-align: right;\n",
       "    }\n",
       "</style>\n",
       "<table border=\"1\" class=\"dataframe\">\n",
       "  <thead>\n",
       "    <tr style=\"text-align: right;\">\n",
       "      <th></th>\n",
       "      <th>id</th>\n",
       "      <th>Unnamed: 0.1</th>\n",
       "      <th>2</th>\n",
       "      <th>3</th>\n",
       "      <th>4</th>\n",
       "      <th>5</th>\n",
       "      <th>6</th>\n",
       "      <th>7</th>\n",
       "      <th>8</th>\n",
       "      <th>9</th>\n",
       "      <th>...</th>\n",
       "      <th>35211</th>\n",
       "      <th>35212</th>\n",
       "      <th>35213</th>\n",
       "      <th>35214</th>\n",
       "      <th>35215</th>\n",
       "      <th>35216</th>\n",
       "      <th>35217</th>\n",
       "      <th>35218</th>\n",
       "      <th>35219</th>\n",
       "      <th>origin</th>\n",
       "    </tr>\n",
       "  </thead>\n",
       "  <tbody>\n",
       "    <tr>\n",
       "      <th>0</th>\n",
       "      <td>PI253651A</td>\n",
       "      <td>1</td>\n",
       "      <td>0</td>\n",
       "      <td>0</td>\n",
       "      <td>0</td>\n",
       "      <td>0</td>\n",
       "      <td>0</td>\n",
       "      <td>0</td>\n",
       "      <td>0</td>\n",
       "      <td>0</td>\n",
       "      <td>...</td>\n",
       "      <td>0</td>\n",
       "      <td>0</td>\n",
       "      <td>0</td>\n",
       "      <td>0</td>\n",
       "      <td>0</td>\n",
       "      <td>0</td>\n",
       "      <td>0</td>\n",
       "      <td>0</td>\n",
       "      <td>0</td>\n",
       "      <td>0</td>\n",
       "    </tr>\n",
       "    <tr>\n",
       "      <th>1</th>\n",
       "      <td>PI347550A</td>\n",
       "      <td>2</td>\n",
       "      <td>0</td>\n",
       "      <td>0</td>\n",
       "      <td>0</td>\n",
       "      <td>0</td>\n",
       "      <td>0</td>\n",
       "      <td>0</td>\n",
       "      <td>0</td>\n",
       "      <td>0</td>\n",
       "      <td>...</td>\n",
       "      <td>0</td>\n",
       "      <td>0</td>\n",
       "      <td>0</td>\n",
       "      <td>0</td>\n",
       "      <td>0</td>\n",
       "      <td>0</td>\n",
       "      <td>2</td>\n",
       "      <td>0</td>\n",
       "      <td>2</td>\n",
       "      <td>0</td>\n",
       "    </tr>\n",
       "    <tr>\n",
       "      <th>2</th>\n",
       "      <td>PI408055A</td>\n",
       "      <td>3</td>\n",
       "      <td>0</td>\n",
       "      <td>0</td>\n",
       "      <td>0</td>\n",
       "      <td>0</td>\n",
       "      <td>0</td>\n",
       "      <td>0</td>\n",
       "      <td>0</td>\n",
       "      <td>0</td>\n",
       "      <td>...</td>\n",
       "      <td>0</td>\n",
       "      <td>0</td>\n",
       "      <td>0</td>\n",
       "      <td>0</td>\n",
       "      <td>0</td>\n",
       "      <td>0</td>\n",
       "      <td>0</td>\n",
       "      <td>0</td>\n",
       "      <td>0</td>\n",
       "      <td>0</td>\n",
       "    </tr>\n",
       "    <tr>\n",
       "      <th>3</th>\n",
       "      <td>PI408069</td>\n",
       "      <td>4</td>\n",
       "      <td>0</td>\n",
       "      <td>0</td>\n",
       "      <td>0</td>\n",
       "      <td>0</td>\n",
       "      <td>0</td>\n",
       "      <td>0</td>\n",
       "      <td>0</td>\n",
       "      <td>0</td>\n",
       "      <td>...</td>\n",
       "      <td>0</td>\n",
       "      <td>0</td>\n",
       "      <td>0</td>\n",
       "      <td>0</td>\n",
       "      <td>0</td>\n",
       "      <td>0</td>\n",
       "      <td>0</td>\n",
       "      <td>0</td>\n",
       "      <td>0</td>\n",
       "      <td>0</td>\n",
       "    </tr>\n",
       "    <tr>\n",
       "      <th>4</th>\n",
       "      <td>PI408169A</td>\n",
       "      <td>5</td>\n",
       "      <td>2</td>\n",
       "      <td>2</td>\n",
       "      <td>2</td>\n",
       "      <td>0</td>\n",
       "      <td>2</td>\n",
       "      <td>0</td>\n",
       "      <td>2</td>\n",
       "      <td>2</td>\n",
       "      <td>...</td>\n",
       "      <td>0</td>\n",
       "      <td>0</td>\n",
       "      <td>0</td>\n",
       "      <td>0</td>\n",
       "      <td>0</td>\n",
       "      <td>0</td>\n",
       "      <td>0</td>\n",
       "      <td>0</td>\n",
       "      <td>0</td>\n",
       "      <td>0</td>\n",
       "    </tr>\n",
       "  </tbody>\n",
       "</table>\n",
       "<p>5 rows × 35221 columns</p>\n",
       "</div>"
      ],
      "text/plain": [
       "          id  Unnamed: 0.1  2  3  4  5  6  7  8  9  ...  35211  35212  35213  \\\n",
       "0  PI253651A             1  0  0  0  0  0  0  0  0  ...      0      0      0   \n",
       "1  PI347550A             2  0  0  0  0  0  0  0  0  ...      0      0      0   \n",
       "2  PI408055A             3  0  0  0  0  0  0  0  0  ...      0      0      0   \n",
       "3   PI408069             4  0  0  0  0  0  0  0  0  ...      0      0      0   \n",
       "4  PI408169A             5  2  2  2  0  2  0  2  2  ...      0      0      0   \n",
       "\n",
       "   35214  35215  35216  35217  35218  35219  origin  \n",
       "0      0      0      0      0      0      0       0  \n",
       "1      0      0      0      2      0      2       0  \n",
       "2      0      0      0      0      0      0       0  \n",
       "3      0      0      0      0      0      0       0  \n",
       "4      0      0      0      0      0      0       0  \n",
       "\n",
       "[5 rows x 35221 columns]"
      ]
     },
     "execution_count": 63,
     "metadata": {},
     "output_type": "execute_result"
    }
   ],
   "source": [
    "df.head()"
   ]
  },
  {
   "cell_type": "code",
   "execution_count": 64,
   "metadata": {},
   "outputs": [],
   "source": [
    "cleaned_t = pd.read_csv('combined_ypo.csv')"
   ]
  },
  {
   "cell_type": "code",
   "execution_count": 70,
   "metadata": {},
   "outputs": [
    {
     "data": {
      "text/html": [
       "<div>\n",
       "<style scoped>\n",
       "    .dataframe tbody tr th:only-of-type {\n",
       "        vertical-align: middle;\n",
       "    }\n",
       "\n",
       "    .dataframe tbody tr th {\n",
       "        vertical-align: top;\n",
       "    }\n",
       "\n",
       "    .dataframe thead th {\n",
       "        text-align: right;\n",
       "    }\n",
       "</style>\n",
       "<table border=\"1\" class=\"dataframe\">\n",
       "  <thead>\n",
       "    <tr style=\"text-align: right;\">\n",
       "      <th></th>\n",
       "      <th>id</th>\n",
       "      <th>yield</th>\n",
       "      <th>protein</th>\n",
       "      <th>oil</th>\n",
       "    </tr>\n",
       "  </thead>\n",
       "  <tbody>\n",
       "    <tr>\n",
       "      <th>0</th>\n",
       "      <td>PI103414</td>\n",
       "      <td>2.28</td>\n",
       "      <td>37.7</td>\n",
       "      <td>21.6</td>\n",
       "    </tr>\n",
       "    <tr>\n",
       "      <th>1</th>\n",
       "      <td>PI132215</td>\n",
       "      <td>1.84</td>\n",
       "      <td>39.7</td>\n",
       "      <td>20.4</td>\n",
       "    </tr>\n",
       "    <tr>\n",
       "      <th>2</th>\n",
       "      <td>PI153214</td>\n",
       "      <td>1.82</td>\n",
       "      <td>41.1</td>\n",
       "      <td>18.2</td>\n",
       "    </tr>\n",
       "    <tr>\n",
       "      <th>3</th>\n",
       "      <td>PI153229</td>\n",
       "      <td>1.74</td>\n",
       "      <td>38.3</td>\n",
       "      <td>19.5</td>\n",
       "    </tr>\n",
       "    <tr>\n",
       "      <th>4</th>\n",
       "      <td>PI153236</td>\n",
       "      <td>2.07</td>\n",
       "      <td>39.0</td>\n",
       "      <td>20.4</td>\n",
       "    </tr>\n",
       "  </tbody>\n",
       "</table>\n",
       "</div>"
      ],
      "text/plain": [
       "         id  yield  protein   oil\n",
       "0  PI103414   2.28     37.7  21.6\n",
       "1  PI132215   1.84     39.7  20.4\n",
       "2  PI153214   1.82     41.1  18.2\n",
       "3  PI153229   1.74     38.3  19.5\n",
       "4  PI153236   2.07     39.0  20.4"
      ]
     },
     "execution_count": 70,
     "metadata": {},
     "output_type": "execute_result"
    }
   ],
   "source": [
    "cleaned_t.head()"
   ]
  },
  {
   "cell_type": "code",
   "execution_count": 78,
   "metadata": {},
   "outputs": [],
   "source": [
    "g_plus_p=pd.merge(df,cleaned_t, left_on=df.id, right_on=cleaned_t.id, how='inner')"
   ]
  },
  {
   "cell_type": "code",
   "execution_count": 79,
   "metadata": {},
   "outputs": [
    {
     "data": {
      "text/plain": [
       "(9765, 35226)"
      ]
     },
     "execution_count": 79,
     "metadata": {},
     "output_type": "execute_result"
    }
   ],
   "source": [
    "g_plus_p.shape"
   ]
  },
  {
   "cell_type": "code",
   "execution_count": 80,
   "metadata": {},
   "outputs": [
    {
     "data": {
      "text/html": [
       "<div>\n",
       "<style scoped>\n",
       "    .dataframe tbody tr th:only-of-type {\n",
       "        vertical-align: middle;\n",
       "    }\n",
       "\n",
       "    .dataframe tbody tr th {\n",
       "        vertical-align: top;\n",
       "    }\n",
       "\n",
       "    .dataframe thead th {\n",
       "        text-align: right;\n",
       "    }\n",
       "</style>\n",
       "<table border=\"1\" class=\"dataframe\">\n",
       "  <thead>\n",
       "    <tr style=\"text-align: right;\">\n",
       "      <th></th>\n",
       "      <th>key_0</th>\n",
       "      <th>id_x</th>\n",
       "      <th>Unnamed: 0.1</th>\n",
       "      <th>2</th>\n",
       "      <th>3</th>\n",
       "      <th>4</th>\n",
       "      <th>5</th>\n",
       "      <th>6</th>\n",
       "      <th>7</th>\n",
       "      <th>8</th>\n",
       "      <th>...</th>\n",
       "      <th>35215</th>\n",
       "      <th>35216</th>\n",
       "      <th>35217</th>\n",
       "      <th>35218</th>\n",
       "      <th>35219</th>\n",
       "      <th>origin</th>\n",
       "      <th>id_y</th>\n",
       "      <th>yield</th>\n",
       "      <th>protein</th>\n",
       "      <th>oil</th>\n",
       "    </tr>\n",
       "  </thead>\n",
       "  <tbody>\n",
       "    <tr>\n",
       "      <th>0</th>\n",
       "      <td>PI253651A</td>\n",
       "      <td>PI253651A</td>\n",
       "      <td>1</td>\n",
       "      <td>0</td>\n",
       "      <td>0</td>\n",
       "      <td>0</td>\n",
       "      <td>0</td>\n",
       "      <td>0</td>\n",
       "      <td>0</td>\n",
       "      <td>0</td>\n",
       "      <td>...</td>\n",
       "      <td>0</td>\n",
       "      <td>0</td>\n",
       "      <td>0</td>\n",
       "      <td>0</td>\n",
       "      <td>0</td>\n",
       "      <td>0</td>\n",
       "      <td>PI253651A</td>\n",
       "      <td>2.43</td>\n",
       "      <td>42.6</td>\n",
       "      <td>18.5</td>\n",
       "    </tr>\n",
       "    <tr>\n",
       "      <th>1</th>\n",
       "      <td>PI347550A</td>\n",
       "      <td>PI347550A</td>\n",
       "      <td>2</td>\n",
       "      <td>0</td>\n",
       "      <td>0</td>\n",
       "      <td>0</td>\n",
       "      <td>0</td>\n",
       "      <td>0</td>\n",
       "      <td>0</td>\n",
       "      <td>0</td>\n",
       "      <td>...</td>\n",
       "      <td>0</td>\n",
       "      <td>0</td>\n",
       "      <td>2</td>\n",
       "      <td>0</td>\n",
       "      <td>2</td>\n",
       "      <td>0</td>\n",
       "      <td>PI347550A</td>\n",
       "      <td>3.29</td>\n",
       "      <td>44.7</td>\n",
       "      <td>19.8</td>\n",
       "    </tr>\n",
       "    <tr>\n",
       "      <th>2</th>\n",
       "      <td>PI408055A</td>\n",
       "      <td>PI408055A</td>\n",
       "      <td>3</td>\n",
       "      <td>0</td>\n",
       "      <td>0</td>\n",
       "      <td>0</td>\n",
       "      <td>0</td>\n",
       "      <td>0</td>\n",
       "      <td>0</td>\n",
       "      <td>0</td>\n",
       "      <td>...</td>\n",
       "      <td>0</td>\n",
       "      <td>0</td>\n",
       "      <td>0</td>\n",
       "      <td>0</td>\n",
       "      <td>0</td>\n",
       "      <td>0</td>\n",
       "      <td>PI408055A</td>\n",
       "      <td>2.41</td>\n",
       "      <td>46.7</td>\n",
       "      <td>18.0</td>\n",
       "    </tr>\n",
       "    <tr>\n",
       "      <th>3</th>\n",
       "      <td>PI408069</td>\n",
       "      <td>PI408069</td>\n",
       "      <td>4</td>\n",
       "      <td>0</td>\n",
       "      <td>0</td>\n",
       "      <td>0</td>\n",
       "      <td>0</td>\n",
       "      <td>0</td>\n",
       "      <td>0</td>\n",
       "      <td>0</td>\n",
       "      <td>...</td>\n",
       "      <td>0</td>\n",
       "      <td>0</td>\n",
       "      <td>0</td>\n",
       "      <td>0</td>\n",
       "      <td>0</td>\n",
       "      <td>0</td>\n",
       "      <td>PI408069</td>\n",
       "      <td>NaN</td>\n",
       "      <td>43.2</td>\n",
       "      <td>20.6</td>\n",
       "    </tr>\n",
       "    <tr>\n",
       "      <th>4</th>\n",
       "      <td>PI408169A</td>\n",
       "      <td>PI408169A</td>\n",
       "      <td>5</td>\n",
       "      <td>2</td>\n",
       "      <td>2</td>\n",
       "      <td>2</td>\n",
       "      <td>0</td>\n",
       "      <td>2</td>\n",
       "      <td>0</td>\n",
       "      <td>2</td>\n",
       "      <td>...</td>\n",
       "      <td>0</td>\n",
       "      <td>0</td>\n",
       "      <td>0</td>\n",
       "      <td>0</td>\n",
       "      <td>0</td>\n",
       "      <td>0</td>\n",
       "      <td>PI408169A</td>\n",
       "      <td>1.93</td>\n",
       "      <td>45.8</td>\n",
       "      <td>16.4</td>\n",
       "    </tr>\n",
       "  </tbody>\n",
       "</table>\n",
       "<p>5 rows × 35226 columns</p>\n",
       "</div>"
      ],
      "text/plain": [
       "       key_0       id_x  Unnamed: 0.1  2  3  4  5  6  7  8  ...  35215  35216  \\\n",
       "0  PI253651A  PI253651A             1  0  0  0  0  0  0  0  ...      0      0   \n",
       "1  PI347550A  PI347550A             2  0  0  0  0  0  0  0  ...      0      0   \n",
       "2  PI408055A  PI408055A             3  0  0  0  0  0  0  0  ...      0      0   \n",
       "3   PI408069   PI408069             4  0  0  0  0  0  0  0  ...      0      0   \n",
       "4  PI408169A  PI408169A             5  2  2  2  0  2  0  2  ...      0      0   \n",
       "\n",
       "   35217  35218  35219  origin       id_y  yield  protein   oil  \n",
       "0      0      0      0       0  PI253651A   2.43     42.6  18.5  \n",
       "1      2      0      2       0  PI347550A   3.29     44.7  19.8  \n",
       "2      0      0      0       0  PI408055A   2.41     46.7  18.0  \n",
       "3      0      0      0       0   PI408069    NaN     43.2  20.6  \n",
       "4      0      0      0       0  PI408169A   1.93     45.8  16.4  \n",
       "\n",
       "[5 rows x 35226 columns]"
      ]
     },
     "execution_count": 80,
     "metadata": {},
     "output_type": "execute_result"
    }
   ],
   "source": [
    "g_plus_p.head()"
   ]
  },
  {
   "cell_type": "code",
   "execution_count": 81,
   "metadata": {},
   "outputs": [],
   "source": [
    "g_plus_p.to_csv('g_plus_p_012.csv')"
   ]
  },
  {
   "cell_type": "markdown",
   "metadata": {},
   "source": [
    "### Mathine Learning for Protein Content using Lasso"
   ]
  },
  {
   "cell_type": "code",
   "execution_count": 85,
   "metadata": {
    "scrolled": true
   },
   "outputs": [],
   "source": [
    "X=g_plus_p.iloc[:,3:35221]"
   ]
  },
  {
   "cell_type": "code",
   "execution_count": 86,
   "metadata": {},
   "outputs": [],
   "source": [
    "Y=g_plus_p['protein'].fillna(np.mean(g_plus_p['protein']))"
   ]
  },
  {
   "cell_type": "code",
   "execution_count": 87,
   "metadata": {},
   "outputs": [
    {
     "name": "stdout",
     "output_type": "stream",
     "text": [
      "(7812, 35218) (7812,)\n",
      "(1953, 35218) (1953,)\n"
     ]
    }
   ],
   "source": [
    " # first trait analyzed\n",
    "X_train, X_test, y_train, y_test = train_test_split(X, Y, test_size=0.2)\n",
    "print(X_train.shape, y_train.shape)\n",
    "print(X_test.shape, y_test.shape)"
   ]
  },
  {
   "cell_type": "code",
   "execution_count": 88,
   "metadata": {},
   "outputs": [
    {
     "name": "stdout",
     "output_type": "stream",
     "text": [
      "       min   max  mean   sd\n",
      "Train: 37.3 51.2 44.25311375203162 2.4506384809171626\n",
      "Test: 37.6 51.1 44.444008866827815 2.4880814739407824\n"
     ]
    }
   ],
   "source": [
    "print('       min   max  mean   sd')\n",
    "print('Train:', y_train.min(), y_train.max(), y_train.mean(), np.sqrt(y_train.var()))\n",
    "print('Test:', y_test.min(), y_test.max(), y_test.mean(), np.sqrt(y_test.var()))"
   ]
  },
  {
   "cell_type": "code",
   "execution_count": 89,
   "metadata": {
    "scrolled": false
   },
   "outputs": [
    {
     "data": {
      "image/png": "[encoded data removed]",
      "text/plain": [
       "<Figure size 432x288 with 1 Axes>"
      ]
     },
     "metadata": {
      "needs_background": "light"
     },
     "output_type": "display_data"
    },
    {
     "data": {
      "image/png": "[encoded data removed]",
      "text/plain": [
       "<Figure size 432x288 with 1 Axes>"
      ]
     },
     "metadata": {
      "needs_background": "light"
     },
     "output_type": "display_data"
    }
   ],
   "source": [
    "plt.title('Train / test data')\n",
    "plt.hist(y_train, label='Train')\n",
    "plt.hist(y_test, label='Test')\n",
    "plt.legend(loc='best')\n",
    "plt.show()\n",
    "\n",
    "# marker PCA, use whole X with diff color for train and test\n",
    "X = np.concatenate((X_train, X_test))\n",
    "pca = PCA(n_components=2)\n",
    "p = pca.fit(X).fit_transform(X)\n",
    "Ntrain=X_train.shape[0]\n",
    "plt.title('PCA decomposition')\n",
    "plt.scatter(p[0:Ntrain,0], p[0:Ntrain,1], label='Train')\n",
    "plt.scatter(p[Ntrain:,0], p[Ntrain:,1], label='Test', color='orange')\n",
    "plt.legend(loc='best')\n",
    "plt.show()"
   ]
  },
  {
   "cell_type": "code",
   "execution_count": 90,
   "metadata": {},
   "outputs": [
    {
     "name": "stdout",
     "output_type": "stream",
     "text": [
      "35218\n"
     ]
    }
   ],
   "source": [
    "#  SNP preselection according to a simple GWAS\n",
    "pvals = []\n",
    "for i in range(X_train.shape[1]):\n",
    "    b, intercept, r_value, p_value, std_err = stats.linregress(np.asarray(X_train.iloc[:,i]), np.asarray(y_train))\n",
    "    pvals.append(-np.log10(p_value))\n",
    "pvals = np.array(pvals)\n",
    "print(len(pvals))\n"
   ]
  },
  {
   "cell_type": "code",
   "execution_count": 91,
   "metadata": {},
   "outputs": [
    {
     "data": {
      "image/png": "[encoded data removed]",
      "text/plain": [
       "<Figure size 432x288 with 1 Axes>"
      ]
     },
     "metadata": {
      "needs_background": "light"
     },
     "output_type": "display_data"
    }
   ],
   "source": [
    "# plot GWAS\n",
    "plt.ylabel('-log10 P-value')\n",
    "plt.xlabel('SNP')\n",
    "plt.plot(pvals, marker='o')\n",
    "plt.show()\n",
    "\n",
    "# select by min_P_value\n",
    "min_P_value = 4 # P = 0.0001\n",
    "snp_list = np.nonzero(pvals>min_P_value)\n",
    "\n",
    "# finally slice X\n",
    "X_train = X_train[X_train.columns[snp_list]] \n",
    "X_test = X_test[X_test.columns[snp_list]]"
   ]
  },
  {
   "cell_type": "code",
   "execution_count": 69,
   "metadata": {},
   "outputs": [
    {
     "name": "stdout",
     "output_type": "stream",
     "text": [
      "Tuned ElasticNet alpha: {'alpha': 0.05263157894736842}\n",
      "Tuned ElasticNet R squared: 0.38253214129744284\n",
      "Tuned ElasticNet MSE: 3.946885986841166\n"
     ]
    }
   ],
   "source": [
    "import warnings\n",
    "warnings.filterwarnings('ignore')\n",
    "# Import necessary modules\n",
    "from sklearn.linear_model import ElasticNet\n",
    "from sklearn.metrics import mean_squared_error \n",
    "from sklearn.model_selection import GridSearchCV, train_test_split\n",
    "\n",
    "# Create train and test sets\n",
    "X_train, X_test, y_train, y_test = train_test_split(X,Y,test_size=0.2,random_state=42)\n",
    "\n",
    "# Create the hyperparameter grid\n",
    "a = np.linspace(0, 1, 20)\n",
    "param_grid = {'alpha': a}\n",
    "\n",
    "# Instantiate the ElasticNet regressor: elastic_net\n",
    "lasso = linear_model.Lasso()\n",
    "\n",
    "# Setup the GridSearchCV\n",
    "gm_cv=GridSearchCV(lasso,param_grid,cv=5)\n",
    "\n",
    "# Fit it to the training data\n",
    "gm_cv.fit(X_train,y_train)\n",
    "\n",
    "# Predict on the test set and compute metrics\n",
    "y_pred = gm_cv.predict(X_test)\n",
    "r2 = gm_cv.score(X_test, y_test)\n",
    "mse = mean_squared_error(y_test, y_pred)\n",
    "print(\"Tuned ElasticNet alpha: {}\".format(gm_cv.best_params_))\n",
    "print(\"Tuned ElasticNet R squared: {}\".format(r2))\n",
    "print(\"Tuned ElasticNet MSE: {}\".format(mse))"
   ]
  },
  {
   "cell_type": "code",
   "execution_count": 92,
   "metadata": {},
   "outputs": [
    {
     "name": "stdout",
     "output_type": "stream",
     "text": [
      "\n",
      "MSE in prediction = 3.686094069581479\n",
      "\n",
      "Corr obs vs pred = 0.6404486255872506\n"
     ]
    },
    {
     "data": {
      "image/png": "[encoded data removed]",
      "text/plain": [
       "<Figure size 432x288 with 1 Axes>"
      ]
     },
     "metadata": {
      "needs_background": "light"
     },
     "output_type": "display_data"
    }
   ],
   "source": [
    "import sklearn.metrics as sm\n",
    "# alpha is the regularization parameter\n",
    "lasso = linear_model.Lasso(alpha=0.052)\n",
    "lasso.fit(X_train, y_train)\n",
    "y_hat = lasso.predict(X_test)\n",
    "\n",
    "# mean squared error\n",
    "mse = sm.mean_squared_error(y_test, y_hat)\n",
    "print('\\nMSE in prediction =',mse)\n",
    "\n",
    "# correlation btw predicted and observed\n",
    "corr = np.corrcoef(y_test,y_hat)[0,1]\n",
    "print('\\nCorr obs vs pred =',corr)\n",
    "\n",
    "# plot observed vs. predicted targets\n",
    "plt.title('Lasso: Observed vs Predicted Y')\n",
    "plt.ylabel('Predicted')\n",
    "plt.xlabel('Observed')\n",
    "plt.scatter(y_test, y_hat, marker='o')\n",
    "plt.show()\n"
   ]
  },
  {
   "cell_type": "code",
   "execution_count": null,
   "metadata": {},
   "outputs": [],
   "source": [
    "### Mathine Learning for Protein Content using RandomForestClassifier"
   ]
  },
  {
   "cell_type": "code",
   "execution_count": 98,
   "metadata": {},
   "outputs": [],
   "source": [
    " from sklearn.ensemble import RandomForestRegressor"
   ]
  },
  {
   "cell_type": "code",
   "execution_count": 99,
   "metadata": {},
   "outputs": [],
   "source": [
    "clf = RandomForestRegressor(200)"
   ]
  },
  {
   "cell_type": "code",
   "execution_count": 100,
   "metadata": {},
   "outputs": [
    {
     "name": "stdout",
     "output_type": "stream",
     "text": [
      "\n",
      "MSE in prediction = 3.535789721102553\n",
      "\n",
      "Corr obs vs pred = 0.6583876616118188\n"
     ]
    },
    {
     "data": {
      "image/png": "[encoded data removed]",
      "text/plain": [
       "<Figure size 432x288 with 1 Axes>"
      ]
     },
     "metadata": {
      "needs_background": "light"
     },
     "output_type": "display_data"
    }
   ],
   "source": [
    "clf.fit(X_train, y_train)\n",
    "y_hat = clf.predict(X_test)\n",
    "\n",
    "# mean squared error\n",
    "mse = sm.mean_squared_error(y_test, y_hat)\n",
    "print('\\nMSE in prediction =',mse)\n",
    "\n",
    "# correlation btw predicted and observed\n",
    "corr = np.corrcoef(y_test,y_hat)[0,1]\n",
    "print('\\nCorr obs vs pred =',corr)\n",
    "\n",
    "# plot observed vs. predicted targets\n",
    "plt.title('Random Forest: Observed vs Predicted Y')\n",
    "plt.ylabel('Predicted')\n",
    "plt.xlabel('Observed')\n",
    "plt.scatter(y_test, y_hat, marker='o')\n",
    "plt.show()\n"
   ]
  },
  {
   "cell_type": "code",
   "execution_count": null,
   "metadata": {},
   "outputs": [],
   "source": []
  },
  {
   "cell_type": "markdown",
   "metadata": {},
   "source": [
    "### Mathine Learning for Oil Content"
   ]
  },
  {
   "cell_type": "code",
   "execution_count": 101,
   "metadata": {},
   "outputs": [],
   "source": [
    "X=g_plus_p.iloc[:,3:35221]"
   ]
  },
  {
   "cell_type": "code",
   "execution_count": 102,
   "metadata": {},
   "outputs": [],
   "source": [
    "Y=g_plus_p['oil'].fillna(np.mean(g_plus_p['oil']))"
   ]
  },
  {
   "cell_type": "code",
   "execution_count": 103,
   "metadata": {},
   "outputs": [
    {
     "name": "stdout",
     "output_type": "stream",
     "text": [
      "(7812, 35218) (7812,)\n",
      "(1953, 35218) (1953,)\n"
     ]
    }
   ],
   "source": [
    " # first trait analyzed\n",
    "X_train, X_test, y_train, y_test = train_test_split(X, Y, test_size=0.2)\n",
    "print(X_train.shape, y_train.shape)\n",
    "print(X_test.shape, y_test.shape)"
   ]
  },
  {
   "cell_type": "code",
   "execution_count": 104,
   "metadata": {},
   "outputs": [
    {
     "name": "stdout",
     "output_type": "stream",
     "text": [
      "       min max mean sd\n",
      "Train: 13.0 24.1 18.575596086242044 1.974523167377128\n",
      "Test: 13.0 24.0 18.561186822589335 2.0355088499043164\n"
     ]
    }
   ],
   "source": [
    "print('       min max mean sd')\n",
    "print('Train:', y_train.min(), y_train.max(), y_train.mean(), np.sqrt(y_train.var()))\n",
    "print('Test:', y_test.min(), y_test.max(), y_test.mean(), np.sqrt(y_test.var()))"
   ]
  },
  {
   "cell_type": "code",
   "execution_count": 105,
   "metadata": {
    "scrolled": false
   },
   "outputs": [
    {
     "data": {
      "image/png": "[encoded data removed]",
      "text/plain": [
       "<Figure size 432x288 with 1 Axes>"
      ]
     },
     "metadata": {
      "needs_background": "light"
     },
     "output_type": "display_data"
    }
   ],
   "source": [
    "plt.title('Train / test data')\n",
    "plt.hist(y_train, label='Train')\n",
    "plt.hist(y_test, label='Test')\n",
    "plt.legend(loc='best')\n",
    "plt.show()\n"
   ]
  },
  {
   "cell_type": "code",
   "execution_count": 106,
   "metadata": {},
   "outputs": [
    {
     "name": "stderr",
     "output_type": "stream",
     "text": [
      "C:\\ProgramData\\Anaconda3\\lib\\site-packages\\ipykernel_launcher.py:5: RuntimeWarning: divide by zero encountered in log10\n",
      "  \"\"\"\n"
     ]
    }
   ],
   "source": [
    "#  SNP preselection according to a simple GWAS\n",
    "pvals = []\n",
    "for i in range(X_train.shape[1]-1):\n",
    "    b, intercept, r_value, p_value, std_err = stats.linregress(np.asarray(X_train.iloc[:,i]), np.asarray(y_train))\n",
    "    pvals.append(-np.log10(p_value))\n",
    "pvals = np.array(pvals)"
   ]
  },
  {
   "cell_type": "code",
   "execution_count": 107,
   "metadata": {
    "scrolled": true
   },
   "outputs": [
    {
     "data": {
      "image/png": "[encoded data removed]",
      "text/plain": [
       "<Figure size 432x288 with 1 Axes>"
      ]
     },
     "metadata": {
      "needs_background": "light"
     },
     "output_type": "display_data"
    }
   ],
   "source": [
    "# plot GWAS\n",
    "plt.ylabel('-log10 P-value')\n",
    "plt.xlabel('SNP')\n",
    "plt.plot(pvals, marker='o')\n",
    "plt.show()\n",
    "\n",
    "\n",
    "#  select by min_P_value\n",
    "min_P_value = 3 # P = 0.01\n",
    "snp_list = np.nonzero(pvals>min_P_value)\n",
    "\n",
    "# finally slice X\n",
    "X_train = X_train[X_train.columns[snp_list]] \n",
    "X_test = X_test[X_test.columns[snp_list]]"
   ]
  },
  {
   "cell_type": "code",
   "execution_count": 50,
   "metadata": {},
   "outputs": [
    {
     "name": "stdout",
     "output_type": "stream",
     "text": [
      "Tuned ElasticNet l1 ratio: {'alpha': 0.024666666666666663}\n",
      "Tuned ElasticNet R squared: 0.40864752013114614\n",
      "Tuned ElasticNet MSE: 2.213893660528818\n"
     ]
    }
   ],
   "source": [
    "import warnings\n",
    "warnings.filterwarnings('ignore')\n",
    "# Import necessary modules\n",
    "from sklearn.linear_model import ElasticNet\n",
    "from sklearn.metrics import mean_squared_error \n",
    "from sklearn.model_selection import GridSearchCV, train_test_split\n",
    "\n",
    "# Create train and test sets\n",
    "X_train, X_test, y_train, y_test = train_test_split(X,Y,test_size=0.2,random_state=42)\n",
    "\n",
    "## First round, I tried the  np.linspace(0, 1, 30), I found thar 0.037 is the best alpha,\n",
    "## however, 0.037 was the second value to 0, so it's nessary to try value between 0 and 0.037.\n",
    "# Create the hyperparameter grid\n",
    "a = np.linspace(0, 0.037, 10)\n",
    "param_grid = {'alpha': a}\n",
    "\n",
    "# Instantiate the ElasticNet regressor: elastic_net\n",
    "lasso = linear_model.Lasso()\n",
    "\n",
    "# Setup the GridSearchCV\n",
    "gm_cv=GridSearchCV(lasso,param_grid,cv=5)\n",
    "\n",
    "# Fit it to the training data\n",
    "gm_cv.fit(X_train,y_train)\n",
    "\n",
    "# Predict on the test set and compute metrics\n",
    "y_pred = gm_cv.predict(X_test)\n",
    "r2 = gm_cv.score(X_test, y_test)\n",
    "mse = mean_squared_error(y_test, y_pred)\n",
    "print(\"Tuned ElasticNet alpha: {}\".format(gm_cv.best_params_))\n",
    "print(\"Tuned ElasticNet R squared: {}\".format(r2))\n",
    "print(\"Tuned ElasticNet MSE: {}\".format(mse))"
   ]
  },
  {
   "cell_type": "code",
   "execution_count": 51,
   "metadata": {
    "scrolled": true
   },
   "outputs": [
    {
     "name": "stdout",
     "output_type": "stream",
     "text": [
      "\n",
      "MSE in prediction = 2.2115077912050003\n",
      "\n",
      "Corr obs vs pred = 0.6406115315720268\n"
     ]
    },
    {
     "data": {
      "image/png": "[encoded data removed]",
      "text/plain": [
       "<Figure size 432x288 with 1 Axes>"
      ]
     },
     "metadata": {
      "needs_background": "light"
     },
     "output_type": "display_data"
    }
   ],
   "source": [
    "# alpha is the regularization parameter\n",
    "lasso = linear_model.Lasso(alpha=0.025)\n",
    "lasso.fit(X_train, y_train)\n",
    "y_hat = lasso.predict(X_test)\n",
    "\n",
    "# mean squared error\n",
    "mse = mean_squared_error(y_test, y_hat)\n",
    "print('\\nMSE in prediction =',mse)\n",
    "\n",
    "# correlation btw predicted and observed\n",
    "corr = np.corrcoef(y_test,y_hat)[0,1]\n",
    "print('\\nCorr obs vs pred =',corr)\n",
    "\n",
    "# plot observed vs. predicted targets\n",
    "plt.title('Lasso: Observed vs Predicted Y')\n",
    "plt.ylabel('Predicted')\n",
    "plt.xlabel('Observed')\n",
    "plt.scatter(y_test, y_hat, marker='o')\n",
    "plt.show()\n"
   ]
  },
  {
   "cell_type": "code",
   "execution_count": 108,
   "metadata": {},
   "outputs": [],
   "source": [
    "clf = RandomForestRegressor(100)"
   ]
  },
  {
   "cell_type": "code",
   "execution_count": 109,
   "metadata": {},
   "outputs": [
    {
     "name": "stdout",
     "output_type": "stream",
     "text": [
      "\n",
      "MSE in prediction = 2.3833129321580064\n",
      "\n",
      "Corr obs vs pred = 0.6522487530629139\n"
     ]
    },
    {
     "data": {
      "image/png": "[encoded data removed]",
      "text/plain": [
       "<Figure size 432x288 with 1 Axes>"
      ]
     },
     "metadata": {
      "needs_background": "light"
     },
     "output_type": "display_data"
    }
   ],
   "source": [
    "clf.fit(X_train, y_train)\n",
    "y_hat = clf.predict(X_test)\n",
    "\n",
    "# mean squared error\n",
    "mse = sm.mean_squared_error(y_test, y_hat)\n",
    "print('\\nMSE in prediction =',mse)\n",
    "\n",
    "# correlation btw predicted and observed\n",
    "corr = np.corrcoef(y_test,y_hat)[0,1]\n",
    "print('\\nCorr obs vs pred =',corr)\n",
    "\n",
    "# plot observed vs. predicted targets\n",
    "plt.title('Random Forest: Observed vs Predicted Y')\n",
    "plt.ylabel('Predicted')\n",
    "plt.xlabel('Observed')\n",
    "plt.scatter(y_test, y_hat, marker='o')\n",
    "plt.show()"
   ]
  },
  {
   "cell_type": "markdown",
   "metadata": {},
   "source": [
    "## Mathine Learning for Yield"
   ]
  },
  {
   "cell_type": "code",
   "execution_count": 110,
   "metadata": {},
   "outputs": [],
   "source": [
    "X=g_plus_p.iloc[:,3:35221]"
   ]
  },
  {
   "cell_type": "code",
   "execution_count": 111,
   "metadata": {},
   "outputs": [],
   "source": [
    "Y=g_plus_p['yield'].fillna(np.mean(g_plus_p['yield']))"
   ]
  },
  {
   "cell_type": "code",
   "execution_count": 112,
   "metadata": {},
   "outputs": [
    {
     "name": "stdout",
     "output_type": "stream",
     "text": [
      "(7812, 35218) (7812,)\n",
      "(1953, 35218) (1953,)\n"
     ]
    }
   ],
   "source": [
    " # first trait analyzed\n",
    "X_train, X_test, y_train, y_test = train_test_split(X, Y, test_size=0.2)\n",
    "print(X_train.shape, y_train.shape)\n",
    "print(X_test.shape, y_test.shape)"
   ]
  },
  {
   "cell_type": "code",
   "execution_count": 113,
   "metadata": {},
   "outputs": [
    {
     "name": "stdout",
     "output_type": "stream",
     "text": [
      "       min max mean sd\n",
      "Train: 0.03 4.958 2.207843575533997 0.8374468529264028\n",
      "Test: 0.14 4.886 2.1934325434822526 0.8377300285292857\n"
     ]
    }
   ],
   "source": [
    "print('       min max mean sd')\n",
    "print('Train:', y_train.min(), y_train.max(), y_train.mean(), np.sqrt(y_train.var()))\n",
    "print('Test:', y_test.min(), y_test.max(), y_test.mean(), np.sqrt(y_test.var()))"
   ]
  },
  {
   "cell_type": "code",
   "execution_count": 114,
   "metadata": {
    "scrolled": false
   },
   "outputs": [
    {
     "data": {
      "image/png": "[encoded data removed]",
      "text/plain": [
       "<Figure size 432x288 with 1 Axes>"
      ]
     },
     "metadata": {
      "needs_background": "light"
     },
     "output_type": "display_data"
    }
   ],
   "source": [
    "plt.title('Train / test data')\n",
    "plt.hist(y_train, label='Train')\n",
    "plt.hist(y_test, label='Test')\n",
    "plt.legend(loc='best')\n",
    "plt.show()\n",
    "\n"
   ]
  },
  {
   "cell_type": "code",
   "execution_count": 115,
   "metadata": {},
   "outputs": [
    {
     "name": "stderr",
     "output_type": "stream",
     "text": [
      "C:\\ProgramData\\Anaconda3\\lib\\site-packages\\ipykernel_launcher.py:5: RuntimeWarning: divide by zero encountered in log10\n",
      "  \"\"\"\n"
     ]
    }
   ],
   "source": [
    "#  SNP preselection according to a simple GWAS\n",
    "pvals = []\n",
    "for i in range(X_train.shape[1]-1):\n",
    "    b, intercept, r_value, p_value, std_err = stats.linregress(np.asarray(X_train.iloc[:,i]), np.asarray(y_train))\n",
    "    pvals.append(-np.log10(p_value))\n",
    "pvals = np.array(pvals)"
   ]
  },
  {
   "cell_type": "code",
   "execution_count": 116,
   "metadata": {
    "scrolled": true
   },
   "outputs": [
    {
     "data": {
      "image/png": "[encoded data removed]",
      "text/plain": [
       "<Figure size 432x288 with 1 Axes>"
      ]
     },
     "metadata": {
      "needs_background": "light"
     },
     "output_type": "display_data"
    }
   ],
   "source": [
    "# plot GWAS\n",
    "plt.ylabel('-log10 P-value')\n",
    "plt.xlabel('SNP')\n",
    "plt.plot(pvals, marker='o')\n",
    "plt.show()\n",
    "\n",
    "\n",
    "# select by min_P_value\n",
    "min_P_value = 3 # P = 0.001\n",
    "snp_list = np.nonzero(pvals>min_P_value)\n",
    "\n",
    "# finally slice X\n",
    "X_train = X_train[X_train.columns[snp_list]] \n",
    "X_test = X_test[X_test.columns[snp_list]]"
   ]
  },
  {
   "cell_type": "code",
   "execution_count": 59,
   "metadata": {},
   "outputs": [
    {
     "name": "stdout",
     "output_type": "stream",
     "text": [
      "Tuned ElasticNet l1 ratio: {'alpha': 0.008222222222222221}\n",
      "Tuned ElasticNet R squared: 0.5098105223377667\n",
      "Tuned ElasticNet MSE: 0.252433890130012\n"
     ]
    }
   ],
   "source": [
    "# Import necessary modules\n",
    "from sklearn.linear_model import ElasticNet\n",
    "from sklearn.metrics import mean_squared_error \n",
    "from sklearn.model_selection import GridSearchCV, train_test_split\n",
    "\n",
    "# Create train and test sets\n",
    "X_train, X_test, y_train, y_test = train_test_split(X,Y,test_size=0.2,random_state=42)\n",
    "\n",
    "# Create the hyperparameter grid\n",
    "a = np.linspace(0, 0.037, 10)\n",
    "param_grid = {'alpha': a}\n",
    "\n",
    "# Instantiate the ElasticNet regressor: elastic_net\n",
    "lasso = linear_model.Lasso()\n",
    "\n",
    "# Setup the GridSearchCV\n",
    "gm_cv=GridSearchCV(lasso,param_grid,cv=5)\n",
    "\n",
    "# Fit it to the training data\n",
    "gm_cv.fit(X_train,y_train)\n",
    "\n",
    "# Predict on the test set and compute metrics\n",
    "y_pred = gm_cv.predict(X_test)\n",
    "r2 = gm_cv.score(X_test, y_test)\n",
    "mse = mean_squared_error(y_test, y_pred)\n",
    "print(\"Tuned ElasticNet alpha: {}\".format(gm_cv.best_params_))\n",
    "print(\"Tuned ElasticNet R squared: {}\".format(r2))\n",
    "print(\"Tuned ElasticNet MSE: {}\".format(mse))"
   ]
  },
  {
   "cell_type": "code",
   "execution_count": 61,
   "metadata": {
    "scrolled": false
   },
   "outputs": [
    {
     "name": "stdout",
     "output_type": "stream",
     "text": [
      "\n",
      "MSE in prediction = 0.25239926606696184\n",
      "\n",
      "Corr obs vs pred = 0.7184356916821806\n"
     ]
    },
    {
     "data": {
      "image/png": "[encoded data removed]",
      "text/plain": [
       "<Figure size 432x288 with 1 Axes>"
      ]
     },
     "metadata": {
      "needs_background": "light"
     },
     "output_type": "display_data"
    }
   ],
   "source": [
    "## Use the best parameter from the above grid-search, namely: 'alpha'= 0.008222\n",
    "# alpha is the regularization parameter\n",
    "lasso = linear_model.Lasso(alpha=0.0082)\n",
    "lasso.fit(X_train, y_train)\n",
    "y_hat = lasso.predict(X_test)\n",
    "\n",
    "# mean squared error\n",
    "mse = mean_squared_error(y_test, y_hat)\n",
    "print('\\nMSE in prediction =',mse)\n",
    "\n",
    "# correlation btw predicted and observed\n",
    "corr = np.corrcoef(y_test,y_hat)[0,1]\n",
    "print('\\nCorr obs vs pred =',corr)\n",
    "\n",
    "# plot observed vs. predicted targets\n",
    "plt.title('Lasso: Observed vs Predicted Y')\n",
    "plt.ylabel('Predicted')\n",
    "plt.xlabel('Observed')\n",
    "plt.scatter(y_test, y_hat, marker='o')\n",
    "plt.show()\n"
   ]
  },
  {
   "cell_type": "code",
   "execution_count": 117,
   "metadata": {},
   "outputs": [],
   "source": [
    "clf = RandomForestRegressor(100)"
   ]
  },
  {
   "cell_type": "code",
   "execution_count": 118,
   "metadata": {},
   "outputs": [
    {
     "name": "stdout",
     "output_type": "stream",
     "text": [
      "\n",
      "MSE in prediction = 0.24853363970230263\n",
      "\n",
      "Corr obs vs pred = 0.803699008940879\n"
     ]
    },
    {
     "data": {
      "image/png": "[encoded data removed]",
      "text/plain": [
       "<Figure size 432x288 with 1 Axes>"
      ]
     },
     "metadata": {
      "needs_background": "light"
     },
     "output_type": "display_data"
    }
   ],
   "source": [
    "clf.fit(X_train, y_train)\n",
    "y_hat = clf.predict(X_test)\n",
    "\n",
    "# mean squared error\n",
    "mse = sm.mean_squared_error(y_test, y_hat)\n",
    "print('\\nMSE in prediction =',mse)\n",
    "\n",
    "# correlation btw predicted and observed\n",
    "corr = np.corrcoef(y_test,y_hat)[0,1]\n",
    "print('\\nCorr obs vs pred =',corr)\n",
    "\n",
    "# plot observed vs. predicted targets\n",
    "plt.title('Random Forest: Observed vs Predicted Y')\n",
    "plt.ylabel('Predicted')\n",
    "plt.xlabel('Observed')\n",
    "plt.scatter(y_test, y_hat, marker='o')\n",
    "plt.show()"
   ]
  },
  {
   "cell_type": "markdown",
   "metadata": {},
   "source": [
    "## Random Forest method outperform linear model for all three traits"
   ]
  }
 ],
 "metadata": {
  "kernelspec": {
   "display_name": "Python 3",
   "language": "python",
   "name": "python3"
  },
  "language_info": {
   "codemirror_mode": {
    "name": "ipython",
    "version": 3
   },
   "file_extension": ".py",
   "mimetype": "text/x-python",
   "name": "python",
   "nbconvert_exporter": "python",
   "pygments_lexer": "ipython3",
   "version": "3.7.3"
  }
 },
 "nbformat": 4,
 "nbformat_minor": 2
}
