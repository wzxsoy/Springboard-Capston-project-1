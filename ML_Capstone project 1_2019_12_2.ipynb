{
 "cells": [
  {
   "cell_type": "code",
   "execution_count": 1,
   "metadata": {
    "scrolled": true
   },
   "outputs": [],
   "source": [
    "# main modules needed\n",
    "import pandas as pd\n",
    "import numpy as np\n",
    "import seaborn as sns\n",
    "from sklearn import linear_model\n",
    "from sklearn.model_selection import train_test_split\n",
    "from matplotlib import pyplot as plt\n",
    "from scipy import stats\n",
    "from sklearn.decomposition import PCA\n",
    "from sklearn.preprocessing import StandardScaler\n",
    "from sklearn.preprocessing import scale"
   ]
  },
  {
   "cell_type": "code",
   "execution_count": 2,
   "metadata": {
    "scrolled": true
   },
   "outputs": [
    {
     "name": "stderr",
     "output_type": "stream",
     "text": [
      "C:\\ProgramData\\Anaconda3\\lib\\site-packages\\IPython\\core\\interactiveshell.py:3058: DtypeWarning: Columns (0) have mixed types. Specify dtype option on import or set low_memory=False.\n",
      "  interactivity=interactivity, compiler=compiler, result=result)\n"
     ]
    }
   ],
   "source": [
    "df=pd.read_csv('012format_last.csv')"
   ]
  },
  {
   "cell_type": "code",
   "execution_count": 3,
   "metadata": {},
   "outputs": [
    {
     "data": {
      "text/plain": [
       "(9765, 35220)"
      ]
     },
     "execution_count": 3,
     "metadata": {},
     "output_type": "execute_result"
    }
   ],
   "source": [
    "df.shape"
   ]
  },
  {
   "cell_type": "code",
   "execution_count": 4,
   "metadata": {},
   "outputs": [],
   "source": [
    "df.rename(columns={\"Unnamed: 0\": \"id\"},inplace=True)"
   ]
  },
  {
   "cell_type": "code",
   "execution_count": 5,
   "metadata": {
    "scrolled": true
   },
   "outputs": [
    {
     "data": {
      "text/html": [
       "<div>\n",
       "<style scoped>\n",
       "    .dataframe tbody tr th:only-of-type {\n",
       "        vertical-align: middle;\n",
       "    }\n",
       "\n",
       "    .dataframe tbody tr th {\n",
       "        vertical-align: top;\n",
       "    }\n",
       "\n",
       "    .dataframe thead th {\n",
       "        text-align: right;\n",
       "    }\n",
       "</style>\n",
       "<table border=\"1\" class=\"dataframe\">\n",
       "  <thead>\n",
       "    <tr style=\"text-align: right;\">\n",
       "      <th></th>\n",
       "      <th>id</th>\n",
       "      <th>Unnamed: 0.1</th>\n",
       "      <th>2</th>\n",
       "      <th>3</th>\n",
       "      <th>4</th>\n",
       "      <th>5</th>\n",
       "      <th>6</th>\n",
       "      <th>7</th>\n",
       "      <th>8</th>\n",
       "      <th>9</th>\n",
       "      <th>...</th>\n",
       "      <th>35210</th>\n",
       "      <th>35211</th>\n",
       "      <th>35212</th>\n",
       "      <th>35213</th>\n",
       "      <th>35214</th>\n",
       "      <th>35215</th>\n",
       "      <th>35216</th>\n",
       "      <th>35217</th>\n",
       "      <th>35218</th>\n",
       "      <th>35219</th>\n",
       "    </tr>\n",
       "  </thead>\n",
       "  <tbody>\n",
       "    <tr>\n",
       "      <th>0</th>\n",
       "      <td>PI253651A</td>\n",
       "      <td>1</td>\n",
       "      <td>0</td>\n",
       "      <td>0</td>\n",
       "      <td>0</td>\n",
       "      <td>0</td>\n",
       "      <td>0</td>\n",
       "      <td>0</td>\n",
       "      <td>0</td>\n",
       "      <td>0</td>\n",
       "      <td>...</td>\n",
       "      <td>0</td>\n",
       "      <td>0</td>\n",
       "      <td>0</td>\n",
       "      <td>0</td>\n",
       "      <td>0</td>\n",
       "      <td>0</td>\n",
       "      <td>0</td>\n",
       "      <td>0</td>\n",
       "      <td>0</td>\n",
       "      <td>0</td>\n",
       "    </tr>\n",
       "    <tr>\n",
       "      <th>1</th>\n",
       "      <td>PI347550A</td>\n",
       "      <td>2</td>\n",
       "      <td>0</td>\n",
       "      <td>0</td>\n",
       "      <td>0</td>\n",
       "      <td>0</td>\n",
       "      <td>0</td>\n",
       "      <td>0</td>\n",
       "      <td>0</td>\n",
       "      <td>0</td>\n",
       "      <td>...</td>\n",
       "      <td>0</td>\n",
       "      <td>0</td>\n",
       "      <td>0</td>\n",
       "      <td>0</td>\n",
       "      <td>0</td>\n",
       "      <td>0</td>\n",
       "      <td>0</td>\n",
       "      <td>2</td>\n",
       "      <td>0</td>\n",
       "      <td>2</td>\n",
       "    </tr>\n",
       "    <tr>\n",
       "      <th>2</th>\n",
       "      <td>PI408055A</td>\n",
       "      <td>3</td>\n",
       "      <td>0</td>\n",
       "      <td>0</td>\n",
       "      <td>0</td>\n",
       "      <td>0</td>\n",
       "      <td>0</td>\n",
       "      <td>0</td>\n",
       "      <td>0</td>\n",
       "      <td>0</td>\n",
       "      <td>...</td>\n",
       "      <td>0</td>\n",
       "      <td>0</td>\n",
       "      <td>0</td>\n",
       "      <td>0</td>\n",
       "      <td>0</td>\n",
       "      <td>0</td>\n",
       "      <td>0</td>\n",
       "      <td>0</td>\n",
       "      <td>0</td>\n",
       "      <td>0</td>\n",
       "    </tr>\n",
       "    <tr>\n",
       "      <th>3</th>\n",
       "      <td>PI408069</td>\n",
       "      <td>4</td>\n",
       "      <td>0</td>\n",
       "      <td>0</td>\n",
       "      <td>0</td>\n",
       "      <td>0</td>\n",
       "      <td>0</td>\n",
       "      <td>0</td>\n",
       "      <td>0</td>\n",
       "      <td>0</td>\n",
       "      <td>...</td>\n",
       "      <td>0</td>\n",
       "      <td>0</td>\n",
       "      <td>0</td>\n",
       "      <td>0</td>\n",
       "      <td>0</td>\n",
       "      <td>0</td>\n",
       "      <td>0</td>\n",
       "      <td>0</td>\n",
       "      <td>0</td>\n",
       "      <td>0</td>\n",
       "    </tr>\n",
       "    <tr>\n",
       "      <th>4</th>\n",
       "      <td>PI408169A</td>\n",
       "      <td>5</td>\n",
       "      <td>2</td>\n",
       "      <td>2</td>\n",
       "      <td>2</td>\n",
       "      <td>0</td>\n",
       "      <td>2</td>\n",
       "      <td>0</td>\n",
       "      <td>2</td>\n",
       "      <td>2</td>\n",
       "      <td>...</td>\n",
       "      <td>0</td>\n",
       "      <td>0</td>\n",
       "      <td>0</td>\n",
       "      <td>0</td>\n",
       "      <td>0</td>\n",
       "      <td>0</td>\n",
       "      <td>0</td>\n",
       "      <td>0</td>\n",
       "      <td>0</td>\n",
       "      <td>0</td>\n",
       "    </tr>\n",
       "  </tbody>\n",
       "</table>\n",
       "<p>5 rows × 35220 columns</p>\n",
       "</div>"
      ],
      "text/plain": [
       "          id  Unnamed: 0.1  2  3  4  5  6  7  8  9  ...  35210  35211  35212  \\\n",
       "0  PI253651A             1  0  0  0  0  0  0  0  0  ...      0      0      0   \n",
       "1  PI347550A             2  0  0  0  0  0  0  0  0  ...      0      0      0   \n",
       "2  PI408055A             3  0  0  0  0  0  0  0  0  ...      0      0      0   \n",
       "3   PI408069             4  0  0  0  0  0  0  0  0  ...      0      0      0   \n",
       "4  PI408169A             5  2  2  2  0  2  0  2  2  ...      0      0      0   \n",
       "\n",
       "   35213  35214  35215  35216  35217  35218  35219  \n",
       "0      0      0      0      0      0      0      0  \n",
       "1      0      0      0      0      2      0      2  \n",
       "2      0      0      0      0      0      0      0  \n",
       "3      0      0      0      0      0      0      0  \n",
       "4      0      0      0      0      0      0      0  \n",
       "\n",
       "[5 rows x 35220 columns]"
      ]
     },
     "execution_count": 5,
     "metadata": {},
     "output_type": "execute_result"
    }
   ],
   "source": [
    "df.head()"
   ]
  },
  {
   "cell_type": "code",
   "execution_count": 6,
   "metadata": {},
   "outputs": [],
   "source": [
    "ID=[]\n",
    "for idx in df['id']:\n",
    "    ID.append(str(idx))"
   ]
  },
  {
   "cell_type": "code",
   "execution_count": 7,
   "metadata": {},
   "outputs": [],
   "source": [
    "df.id=ID"
   ]
  },
  {
   "cell_type": "code",
   "execution_count": 8,
   "metadata": {},
   "outputs": [],
   "source": [
    "## add a new varible, namely origin, as a new varible\n",
    "origin=[]\n",
    "for idx in df['id']:\n",
    "    if idx.startswith('PI'):\n",
    "        origin.append('0')\n",
    "    else: \n",
    "       origin.append('2')"
   ]
  },
  {
   "cell_type": "code",
   "execution_count": 9,
   "metadata": {},
   "outputs": [
    {
     "data": {
      "text/plain": [
       "Counter({'0': 8750, '2': 1015})"
      ]
     },
     "execution_count": 9,
     "metadata": {},
     "output_type": "execute_result"
    }
   ],
   "source": [
    "from collections import Counter\n",
    "Counter(origin)"
   ]
  },
  {
   "cell_type": "code",
   "execution_count": 10,
   "metadata": {},
   "outputs": [],
   "source": [
    "df['origin']=origin"
   ]
  },
  {
   "cell_type": "code",
   "execution_count": 11,
   "metadata": {},
   "outputs": [
    {
     "data": {
      "text/html": [
       "<div>\n",
       "<style scoped>\n",
       "    .dataframe tbody tr th:only-of-type {\n",
       "        vertical-align: middle;\n",
       "    }\n",
       "\n",
       "    .dataframe tbody tr th {\n",
       "        vertical-align: top;\n",
       "    }\n",
       "\n",
       "    .dataframe thead th {\n",
       "        text-align: right;\n",
       "    }\n",
       "</style>\n",
       "<table border=\"1\" class=\"dataframe\">\n",
       "  <thead>\n",
       "    <tr style=\"text-align: right;\">\n",
       "      <th></th>\n",
       "      <th>id</th>\n",
       "      <th>Unnamed: 0.1</th>\n",
       "      <th>2</th>\n",
       "      <th>3</th>\n",
       "      <th>4</th>\n",
       "      <th>5</th>\n",
       "      <th>6</th>\n",
       "      <th>7</th>\n",
       "      <th>8</th>\n",
       "      <th>9</th>\n",
       "      <th>...</th>\n",
       "      <th>35211</th>\n",
       "      <th>35212</th>\n",
       "      <th>35213</th>\n",
       "      <th>35214</th>\n",
       "      <th>35215</th>\n",
       "      <th>35216</th>\n",
       "      <th>35217</th>\n",
       "      <th>35218</th>\n",
       "      <th>35219</th>\n",
       "      <th>origin</th>\n",
       "    </tr>\n",
       "  </thead>\n",
       "  <tbody>\n",
       "    <tr>\n",
       "      <th>0</th>\n",
       "      <td>PI253651A</td>\n",
       "      <td>1</td>\n",
       "      <td>0</td>\n",
       "      <td>0</td>\n",
       "      <td>0</td>\n",
       "      <td>0</td>\n",
       "      <td>0</td>\n",
       "      <td>0</td>\n",
       "      <td>0</td>\n",
       "      <td>0</td>\n",
       "      <td>...</td>\n",
       "      <td>0</td>\n",
       "      <td>0</td>\n",
       "      <td>0</td>\n",
       "      <td>0</td>\n",
       "      <td>0</td>\n",
       "      <td>0</td>\n",
       "      <td>0</td>\n",
       "      <td>0</td>\n",
       "      <td>0</td>\n",
       "      <td>0</td>\n",
       "    </tr>\n",
       "    <tr>\n",
       "      <th>1</th>\n",
       "      <td>PI347550A</td>\n",
       "      <td>2</td>\n",
       "      <td>0</td>\n",
       "      <td>0</td>\n",
       "      <td>0</td>\n",
       "      <td>0</td>\n",
       "      <td>0</td>\n",
       "      <td>0</td>\n",
       "      <td>0</td>\n",
       "      <td>0</td>\n",
       "      <td>...</td>\n",
       "      <td>0</td>\n",
       "      <td>0</td>\n",
       "      <td>0</td>\n",
       "      <td>0</td>\n",
       "      <td>0</td>\n",
       "      <td>0</td>\n",
       "      <td>2</td>\n",
       "      <td>0</td>\n",
       "      <td>2</td>\n",
       "      <td>0</td>\n",
       "    </tr>\n",
       "    <tr>\n",
       "      <th>2</th>\n",
       "      <td>PI408055A</td>\n",
       "      <td>3</td>\n",
       "      <td>0</td>\n",
       "      <td>0</td>\n",
       "      <td>0</td>\n",
       "      <td>0</td>\n",
       "      <td>0</td>\n",
       "      <td>0</td>\n",
       "      <td>0</td>\n",
       "      <td>0</td>\n",
       "      <td>...</td>\n",
       "      <td>0</td>\n",
       "      <td>0</td>\n",
       "      <td>0</td>\n",
       "      <td>0</td>\n",
       "      <td>0</td>\n",
       "      <td>0</td>\n",
       "      <td>0</td>\n",
       "      <td>0</td>\n",
       "      <td>0</td>\n",
       "      <td>0</td>\n",
       "    </tr>\n",
       "    <tr>\n",
       "      <th>3</th>\n",
       "      <td>PI408069</td>\n",
       "      <td>4</td>\n",
       "      <td>0</td>\n",
       "      <td>0</td>\n",
       "      <td>0</td>\n",
       "      <td>0</td>\n",
       "      <td>0</td>\n",
       "      <td>0</td>\n",
       "      <td>0</td>\n",
       "      <td>0</td>\n",
       "      <td>...</td>\n",
       "      <td>0</td>\n",
       "      <td>0</td>\n",
       "      <td>0</td>\n",
       "      <td>0</td>\n",
       "      <td>0</td>\n",
       "      <td>0</td>\n",
       "      <td>0</td>\n",
       "      <td>0</td>\n",
       "      <td>0</td>\n",
       "      <td>0</td>\n",
       "    </tr>\n",
       "    <tr>\n",
       "      <th>4</th>\n",
       "      <td>PI408169A</td>\n",
       "      <td>5</td>\n",
       "      <td>2</td>\n",
       "      <td>2</td>\n",
       "      <td>2</td>\n",
       "      <td>0</td>\n",
       "      <td>2</td>\n",
       "      <td>0</td>\n",
       "      <td>2</td>\n",
       "      <td>2</td>\n",
       "      <td>...</td>\n",
       "      <td>0</td>\n",
       "      <td>0</td>\n",
       "      <td>0</td>\n",
       "      <td>0</td>\n",
       "      <td>0</td>\n",
       "      <td>0</td>\n",
       "      <td>0</td>\n",
       "      <td>0</td>\n",
       "      <td>0</td>\n",
       "      <td>0</td>\n",
       "    </tr>\n",
       "  </tbody>\n",
       "</table>\n",
       "<p>5 rows × 35221 columns</p>\n",
       "</div>"
      ],
      "text/plain": [
       "          id  Unnamed: 0.1  2  3  4  5  6  7  8  9  ...  35211  35212  35213  \\\n",
       "0  PI253651A             1  0  0  0  0  0  0  0  0  ...      0      0      0   \n",
       "1  PI347550A             2  0  0  0  0  0  0  0  0  ...      0      0      0   \n",
       "2  PI408055A             3  0  0  0  0  0  0  0  0  ...      0      0      0   \n",
       "3   PI408069             4  0  0  0  0  0  0  0  0  ...      0      0      0   \n",
       "4  PI408169A             5  2  2  2  0  2  0  2  2  ...      0      0      0   \n",
       "\n",
       "   35214  35215  35216  35217  35218  35219  origin  \n",
       "0      0      0      0      0      0      0       0  \n",
       "1      0      0      0      2      0      2       0  \n",
       "2      0      0      0      0      0      0       0  \n",
       "3      0      0      0      0      0      0       0  \n",
       "4      0      0      0      0      0      0       0  \n",
       "\n",
       "[5 rows x 35221 columns]"
      ]
     },
     "execution_count": 11,
     "metadata": {},
     "output_type": "execute_result"
    }
   ],
   "source": [
    "df.head()"
   ]
  },
  {
   "cell_type": "code",
   "execution_count": 12,
   "metadata": {},
   "outputs": [],
   "source": [
    "cleaned_t = pd.read_csv('combined_ypo.csv')"
   ]
  },
  {
   "cell_type": "code",
   "execution_count": 13,
   "metadata": {},
   "outputs": [
    {
     "data": {
      "text/html": [
       "<div>\n",
       "<style scoped>\n",
       "    .dataframe tbody tr th:only-of-type {\n",
       "        vertical-align: middle;\n",
       "    }\n",
       "\n",
       "    .dataframe tbody tr th {\n",
       "        vertical-align: top;\n",
       "    }\n",
       "\n",
       "    .dataframe thead th {\n",
       "        text-align: right;\n",
       "    }\n",
       "</style>\n",
       "<table border=\"1\" class=\"dataframe\">\n",
       "  <thead>\n",
       "    <tr style=\"text-align: right;\">\n",
       "      <th></th>\n",
       "      <th>id</th>\n",
       "      <th>yield</th>\n",
       "      <th>protein</th>\n",
       "      <th>oil</th>\n",
       "    </tr>\n",
       "  </thead>\n",
       "  <tbody>\n",
       "    <tr>\n",
       "      <th>0</th>\n",
       "      <td>PI103414</td>\n",
       "      <td>2.28</td>\n",
       "      <td>37.7</td>\n",
       "      <td>21.6</td>\n",
       "    </tr>\n",
       "    <tr>\n",
       "      <th>1</th>\n",
       "      <td>PI132215</td>\n",
       "      <td>1.84</td>\n",
       "      <td>39.7</td>\n",
       "      <td>20.4</td>\n",
       "    </tr>\n",
       "    <tr>\n",
       "      <th>2</th>\n",
       "      <td>PI153214</td>\n",
       "      <td>1.82</td>\n",
       "      <td>41.1</td>\n",
       "      <td>18.2</td>\n",
       "    </tr>\n",
       "    <tr>\n",
       "      <th>3</th>\n",
       "      <td>PI153229</td>\n",
       "      <td>1.74</td>\n",
       "      <td>38.3</td>\n",
       "      <td>19.5</td>\n",
       "    </tr>\n",
       "    <tr>\n",
       "      <th>4</th>\n",
       "      <td>PI153236</td>\n",
       "      <td>2.07</td>\n",
       "      <td>39.0</td>\n",
       "      <td>20.4</td>\n",
       "    </tr>\n",
       "  </tbody>\n",
       "</table>\n",
       "</div>"
      ],
      "text/plain": [
       "         id  yield  protein   oil\n",
       "0  PI103414   2.28     37.7  21.6\n",
       "1  PI132215   1.84     39.7  20.4\n",
       "2  PI153214   1.82     41.1  18.2\n",
       "3  PI153229   1.74     38.3  19.5\n",
       "4  PI153236   2.07     39.0  20.4"
      ]
     },
     "execution_count": 13,
     "metadata": {},
     "output_type": "execute_result"
    }
   ],
   "source": [
    "cleaned_t.head()"
   ]
  },
  {
   "cell_type": "code",
   "execution_count": 14,
   "metadata": {},
   "outputs": [],
   "source": [
    "p_protein=cleaned_t[['id','protein']]"
   ]
  },
  {
   "cell_type": "code",
   "execution_count": 15,
   "metadata": {},
   "outputs": [],
   "source": [
    "g_plus_pp=pd.merge(df,p_protein, left_on=df.id, right_on=p_protein.id, how='inner')"
   ]
  },
  {
   "cell_type": "code",
   "execution_count": 16,
   "metadata": {},
   "outputs": [],
   "source": [
    "g_plus_pp=g_plus_pp.dropna()"
   ]
  },
  {
   "cell_type": "code",
   "execution_count": 17,
   "metadata": {},
   "outputs": [
    {
     "data": {
      "text/plain": [
       "(9590, 35224)"
      ]
     },
     "execution_count": 17,
     "metadata": {},
     "output_type": "execute_result"
    }
   ],
   "source": [
    "g_plus_pp.shape"
   ]
  },
  {
   "cell_type": "code",
   "execution_count": 18,
   "metadata": {},
   "outputs": [
    {
     "data": {
      "text/html": [
       "<div>\n",
       "<style scoped>\n",
       "    .dataframe tbody tr th:only-of-type {\n",
       "        vertical-align: middle;\n",
       "    }\n",
       "\n",
       "    .dataframe tbody tr th {\n",
       "        vertical-align: top;\n",
       "    }\n",
       "\n",
       "    .dataframe thead th {\n",
       "        text-align: right;\n",
       "    }\n",
       "</style>\n",
       "<table border=\"1\" class=\"dataframe\">\n",
       "  <thead>\n",
       "    <tr style=\"text-align: right;\">\n",
       "      <th></th>\n",
       "      <th>key_0</th>\n",
       "      <th>id_x</th>\n",
       "      <th>Unnamed: 0.1</th>\n",
       "      <th>2</th>\n",
       "      <th>3</th>\n",
       "      <th>4</th>\n",
       "      <th>5</th>\n",
       "      <th>6</th>\n",
       "      <th>7</th>\n",
       "      <th>8</th>\n",
       "      <th>...</th>\n",
       "      <th>35213</th>\n",
       "      <th>35214</th>\n",
       "      <th>35215</th>\n",
       "      <th>35216</th>\n",
       "      <th>35217</th>\n",
       "      <th>35218</th>\n",
       "      <th>35219</th>\n",
       "      <th>origin</th>\n",
       "      <th>id_y</th>\n",
       "      <th>protein</th>\n",
       "    </tr>\n",
       "  </thead>\n",
       "  <tbody>\n",
       "    <tr>\n",
       "      <th>0</th>\n",
       "      <td>PI253651A</td>\n",
       "      <td>PI253651A</td>\n",
       "      <td>1</td>\n",
       "      <td>0</td>\n",
       "      <td>0</td>\n",
       "      <td>0</td>\n",
       "      <td>0</td>\n",
       "      <td>0</td>\n",
       "      <td>0</td>\n",
       "      <td>0</td>\n",
       "      <td>...</td>\n",
       "      <td>0</td>\n",
       "      <td>0</td>\n",
       "      <td>0</td>\n",
       "      <td>0</td>\n",
       "      <td>0</td>\n",
       "      <td>0</td>\n",
       "      <td>0</td>\n",
       "      <td>0</td>\n",
       "      <td>PI253651A</td>\n",
       "      <td>42.6</td>\n",
       "    </tr>\n",
       "    <tr>\n",
       "      <th>1</th>\n",
       "      <td>PI347550A</td>\n",
       "      <td>PI347550A</td>\n",
       "      <td>2</td>\n",
       "      <td>0</td>\n",
       "      <td>0</td>\n",
       "      <td>0</td>\n",
       "      <td>0</td>\n",
       "      <td>0</td>\n",
       "      <td>0</td>\n",
       "      <td>0</td>\n",
       "      <td>...</td>\n",
       "      <td>0</td>\n",
       "      <td>0</td>\n",
       "      <td>0</td>\n",
       "      <td>0</td>\n",
       "      <td>2</td>\n",
       "      <td>0</td>\n",
       "      <td>2</td>\n",
       "      <td>0</td>\n",
       "      <td>PI347550A</td>\n",
       "      <td>44.7</td>\n",
       "    </tr>\n",
       "    <tr>\n",
       "      <th>2</th>\n",
       "      <td>PI408055A</td>\n",
       "      <td>PI408055A</td>\n",
       "      <td>3</td>\n",
       "      <td>0</td>\n",
       "      <td>0</td>\n",
       "      <td>0</td>\n",
       "      <td>0</td>\n",
       "      <td>0</td>\n",
       "      <td>0</td>\n",
       "      <td>0</td>\n",
       "      <td>...</td>\n",
       "      <td>0</td>\n",
       "      <td>0</td>\n",
       "      <td>0</td>\n",
       "      <td>0</td>\n",
       "      <td>0</td>\n",
       "      <td>0</td>\n",
       "      <td>0</td>\n",
       "      <td>0</td>\n",
       "      <td>PI408055A</td>\n",
       "      <td>46.7</td>\n",
       "    </tr>\n",
       "    <tr>\n",
       "      <th>3</th>\n",
       "      <td>PI408069</td>\n",
       "      <td>PI408069</td>\n",
       "      <td>4</td>\n",
       "      <td>0</td>\n",
       "      <td>0</td>\n",
       "      <td>0</td>\n",
       "      <td>0</td>\n",
       "      <td>0</td>\n",
       "      <td>0</td>\n",
       "      <td>0</td>\n",
       "      <td>...</td>\n",
       "      <td>0</td>\n",
       "      <td>0</td>\n",
       "      <td>0</td>\n",
       "      <td>0</td>\n",
       "      <td>0</td>\n",
       "      <td>0</td>\n",
       "      <td>0</td>\n",
       "      <td>0</td>\n",
       "      <td>PI408069</td>\n",
       "      <td>43.2</td>\n",
       "    </tr>\n",
       "    <tr>\n",
       "      <th>4</th>\n",
       "      <td>PI408169A</td>\n",
       "      <td>PI408169A</td>\n",
       "      <td>5</td>\n",
       "      <td>2</td>\n",
       "      <td>2</td>\n",
       "      <td>2</td>\n",
       "      <td>0</td>\n",
       "      <td>2</td>\n",
       "      <td>0</td>\n",
       "      <td>2</td>\n",
       "      <td>...</td>\n",
       "      <td>0</td>\n",
       "      <td>0</td>\n",
       "      <td>0</td>\n",
       "      <td>0</td>\n",
       "      <td>0</td>\n",
       "      <td>0</td>\n",
       "      <td>0</td>\n",
       "      <td>0</td>\n",
       "      <td>PI408169A</td>\n",
       "      <td>45.8</td>\n",
       "    </tr>\n",
       "  </tbody>\n",
       "</table>\n",
       "<p>5 rows × 35224 columns</p>\n",
       "</div>"
      ],
      "text/plain": [
       "       key_0       id_x  Unnamed: 0.1  2  3  4  5  6  7  8  ...  35213  35214  \\\n",
       "0  PI253651A  PI253651A             1  0  0  0  0  0  0  0  ...      0      0   \n",
       "1  PI347550A  PI347550A             2  0  0  0  0  0  0  0  ...      0      0   \n",
       "2  PI408055A  PI408055A             3  0  0  0  0  0  0  0  ...      0      0   \n",
       "3   PI408069   PI408069             4  0  0  0  0  0  0  0  ...      0      0   \n",
       "4  PI408169A  PI408169A             5  2  2  2  0  2  0  2  ...      0      0   \n",
       "\n",
       "   35215  35216  35217  35218  35219  origin       id_y  protein  \n",
       "0      0      0      0      0      0       0  PI253651A     42.6  \n",
       "1      0      0      2      0      2       0  PI347550A     44.7  \n",
       "2      0      0      0      0      0       0  PI408055A     46.7  \n",
       "3      0      0      0      0      0       0   PI408069     43.2  \n",
       "4      0      0      0      0      0       0  PI408169A     45.8  \n",
       "\n",
       "[5 rows x 35224 columns]"
      ]
     },
     "execution_count": 18,
     "metadata": {},
     "output_type": "execute_result"
    }
   ],
   "source": [
    "g_plus_pp.head()"
   ]
  },
  {
   "cell_type": "markdown",
   "metadata": {},
   "source": [
    "### Mathine Learning for Protein Content using Lasso"
   ]
  },
  {
   "cell_type": "code",
   "execution_count": 20,
   "metadata": {
    "scrolled": true
   },
   "outputs": [],
   "source": [
    "X=g_plus_pp.iloc[:,3:35221]"
   ]
  },
  {
   "cell_type": "code",
   "execution_count": 21,
   "metadata": {},
   "outputs": [],
   "source": [
    "Y=g_plus_pp['protein']"
   ]
  },
  {
   "cell_type": "code",
   "execution_count": 22,
   "metadata": {},
   "outputs": [
    {
     "name": "stdout",
     "output_type": "stream",
     "text": [
      "(7672, 35218) (7672,)\n",
      "(1918, 35218) (1918,)\n"
     ]
    }
   ],
   "source": [
    " # first trait analyzed\n",
    "X_train, X_test, y_train, y_test = train_test_split(X, Y, test_size=0.2)\n",
    "print(X_train.shape, y_train.shape)\n",
    "print(X_test.shape, y_test.shape)"
   ]
  },
  {
   "cell_type": "code",
   "execution_count": 23,
   "metadata": {},
   "outputs": [
    {
     "name": "stdout",
     "output_type": "stream",
     "text": [
      "       min   max  mean   sd\n",
      "Train: 37.3 51.2 44.28345389205027 2.4816377453114993\n",
      "Test: 37.7 51.2 44.32264830675179 2.481695778944704\n"
     ]
    }
   ],
   "source": [
    "print('       min   max  mean   sd')\n",
    "print('Train:', y_train.min(), y_train.max(), y_train.mean(), np.sqrt(y_train.var()))\n",
    "print('Test:', y_test.min(), y_test.max(), y_test.mean(), np.sqrt(y_test.var()))"
   ]
  },
  {
   "cell_type": "code",
   "execution_count": 24,
   "metadata": {
    "scrolled": false
   },
   "outputs": [
    {
     "data": {
      "image/png": "[encoded data removed]",
      "text/plain": [
       "<Figure size 432x288 with 1 Axes>"
      ]
     },
     "metadata": {
      "needs_background": "light"
     },
     "output_type": "display_data"
    },
    {
     "data": {
      "image/png": "[encoded data removed]",
      "text/plain": [
       "<Figure size 432x288 with 1 Axes>"
      ]
     },
     "metadata": {
      "needs_background": "light"
     },
     "output_type": "display_data"
    }
   ],
   "source": [
    "plt.title('Train / test data')\n",
    "plt.hist(y_train, label='Train')\n",
    "plt.hist(y_test, label='Test')\n",
    "plt.legend(loc='best')\n",
    "plt.show()\n",
    "\n",
    "# marker PCA, use whole X with diff color for train and test\n",
    "X = np.concatenate((X_train, X_test))\n",
    "pca = PCA(n_components=2)\n",
    "p = pca.fit(X).fit_transform(X)\n",
    "Ntrain=X_train.shape[0]\n",
    "plt.title('PCA decomposition')\n",
    "plt.scatter(p[0:Ntrain,0], p[0:Ntrain,1], label='Train')\n",
    "plt.scatter(p[Ntrain:,0], p[Ntrain:,1], label='Test', color='orange')\n",
    "plt.legend(loc='best')\n",
    "plt.show()"
   ]
  },
  {
   "cell_type": "code",
   "execution_count": 25,
   "metadata": {},
   "outputs": [
    {
     "name": "stdout",
     "output_type": "stream",
     "text": [
      "35218\n"
     ]
    }
   ],
   "source": [
    "#  SNP preselection according to a simple GWAS\n",
    "pvals = []\n",
    "for i in range(X_train.shape[1]):\n",
    "    b, intercept, r_value, p_value, std_err = stats.linregress(np.asarray(X_train.iloc[:,i]), np.asarray(y_train))\n",
    "    pvals.append(-np.log10(p_value))\n",
    "pvals = np.array(pvals)\n",
    "print(len(pvals))\n"
   ]
  },
  {
   "cell_type": "code",
   "execution_count": 26,
   "metadata": {},
   "outputs": [
    {
     "data": {
      "image/png": "[encoded data removed]",
      "text/plain": [
       "<Figure size 432x288 with 1 Axes>"
      ]
     },
     "metadata": {
      "needs_background": "light"
     },
     "output_type": "display_data"
    }
   ],
   "source": [
    "# plot GWAS\n",
    "plt.ylabel('-log10 P-value')\n",
    "plt.xlabel('SNP')\n",
    "plt.plot(pvals, marker='o')\n",
    "plt.show()\n",
    "\n",
    "# select by min_P_value\n",
    "# min_P_value = 4 # P = 0.0001\n",
    "# snp_list = np.nonzero(pvals>min_P_value)\n",
    "N_best = 5000\n",
    "snp_list = pvals.argsort()[-N_best:]\n",
    "\n",
    "# finally slice X\n",
    "X_train = X_train[X_train.columns[snp_list]] \n",
    "X_test = X_test[X_test.columns[snp_list]]"
   ]
  },
  {
   "cell_type": "code",
   "execution_count": 27,
   "metadata": {},
   "outputs": [
    {
     "name": "stdout",
     "output_type": "stream",
     "text": [
      "Tuned ElasticNet alpha: {'alpha': 0.05263157894736842}\n",
      "Tuned ElasticNet R squared: 0.3829735006632918\n",
      "Tuned ElasticNet MSE: 3.798170095603049\n"
     ]
    }
   ],
   "source": [
    "import warnings\n",
    "warnings.filterwarnings('ignore')\n",
    "# Import necessary modules\n",
    "from sklearn.linear_model import lasso\n",
    "from sklearn.metrics import mean_squared_error \n",
    "from sklearn.model_selection import GridSearchCV, train_test_split\n",
    "\n",
    "# Create the hyperparameter grid\n",
    "a = np.linspace(0, 1, 20)\n",
    "param_grid = {'alpha': a}\n",
    "\n",
    "# Instantiate the lasso regressor: elastic_net\n",
    "lasso = linear_model.Lasso()\n",
    "\n",
    "# Setup the GridSearchCV\n",
    "gm_cv=GridSearchCV(lasso,param_grid,cv=5)\n",
    "\n",
    "# Fit it to the training data\n",
    "gm_cv.fit(X_train,y_train)\n",
    "\n",
    "# Predict on the test set and compute metrics\n",
    "y_pred = gm_cv.predict(X_test)\n",
    "r2 = gm_cv.score(X_test, y_test)\n",
    "mse = mean_squared_error(y_test, y_pred)\n",
    "print(\"Tuned lasso alpha: {}\".format(gm_cv.best_params_))\n",
    "print(\"Tuned lasso R squared: {}\".format(r2))\n",
    "print(\"Tuned lasso MSE: {}\".format(mse))"
   ]
  },
  {
   "cell_type": "code",
   "execution_count": 28,
   "metadata": {},
   "outputs": [
    {
     "name": "stdout",
     "output_type": "stream",
     "text": [
      "\n",
      "MSE in prediction = 3.799369014327236\n",
      "\n",
      "Corr obs vs pred = 0.6201369643267749\n"
     ]
    },
    {
     "data": {
      "image/png": "[encoded data removed]",
      "text/plain": [
       "<Figure size 432x288 with 1 Axes>"
      ]
     },
     "metadata": {
      "needs_background": "light"
     },
     "output_type": "display_data"
    }
   ],
   "source": [
    "import sklearn.metrics as sm\n",
    "# alpha is the regularization parameter\n",
    "lasso = linear_model.Lasso(alpha=0.053)\n",
    "lasso.fit(X_train, y_train)\n",
    "y_hat = lasso.predict(X_test)\n",
    "\n",
    "# mean squared error\n",
    "mse = sm.mean_squared_error(y_test, y_hat)\n",
    "print('\\nMSE in prediction =',mse)\n",
    "\n",
    "# correlation btw predicted and observed\n",
    "corr = np.corrcoef(y_test,y_hat)[0,1]\n",
    "print('\\nCorr obs vs pred =',corr)\n",
    "\n",
    "# plot observed vs. predicted targets\n",
    "plt.title('Lasso: Observed vs Predicted Y')\n",
    "plt.ylabel('Predicted')\n",
    "plt.xlabel('Observed')\n",
    "plt.scatter(y_test, y_hat, marker='o')\n",
    "plt.show()\n"
   ]
  },
  {
   "cell_type": "code",
   "execution_count": 30,
   "metadata": {},
   "outputs": [
    {
     "name": "stdout",
     "output_type": "stream",
     "text": [
      "[0.31293596 0.2112357  0.29270277 0.30656707 0.50467946]\n",
      "Average 5-Fold CV Score: 0.3256241901683242\n"
     ]
    }
   ],
   "source": [
    "X=g_plus_pp.iloc[:,3:35221]\n",
    "from sklearn.model_selection import cross_val_score\n",
    "reg = lasso\n",
    "# Compute 5-fold cross-validation scores: cv_scores\n",
    "\n",
    "cv_scores = cross_val_score(reg,X[X.columns[snp_list]],Y,cv=5)\n",
    "\n",
    "# Print the 5-fold cross-validation scores\n",
    "print(cv_scores)\n",
    "\n",
    "print(\"Average 5-Fold CV Score: {}\".format(np.mean(cv_scores)))"
   ]
  },
  {
   "cell_type": "code",
   "execution_count": null,
   "metadata": {},
   "outputs": [],
   "source": [
    "### Mathine Learning for Protein Content using RandomForestClassifier"
   ]
  },
  {
   "cell_type": "code",
   "execution_count": 31,
   "metadata": {},
   "outputs": [],
   "source": [
    "from sklearn.ensemble import RandomForestRegressor"
   ]
  },
  {
   "cell_type": "code",
   "execution_count": 33,
   "metadata": {},
   "outputs": [],
   "source": [
    "clf = RandomForestRegressor(120)"
   ]
  },
  {
   "cell_type": "code",
   "execution_count": 34,
   "metadata": {
    "scrolled": true
   },
   "outputs": [
    {
     "name": "stdout",
     "output_type": "stream",
     "text": [
      "\n",
      "MSE in prediction = 3.424748298119914\n",
      "\n",
      "Corr obs vs pred = 0.6668555470229598\n"
     ]
    },
    {
     "data": {
      "image/png": "[encoded data removed]",
      "text/plain": [
       "<Figure size 432x288 with 1 Axes>"
      ]
     },
     "metadata": {
      "needs_background": "light"
     },
     "output_type": "display_data"
    }
   ],
   "source": [
    "clf.fit(X_train, y_train)\n",
    "y_hat = clf.predict(X_test)\n",
    "\n",
    "# mean squared error\n",
    "mse = sm.mean_squared_error(y_test, y_hat)\n",
    "print('\\nMSE in prediction =',mse)\n",
    "\n",
    "# correlation btw predicted and observed\n",
    "corr = np.corrcoef(y_test,y_hat)[0,1]\n",
    "print('\\nCorr obs vs pred =',corr)\n",
    "\n",
    "# plot observed vs. predicted targets\n",
    "plt.title('Random Forest: Observed vs Predicted Y')\n",
    "plt.ylabel('Predicted')\n",
    "plt.xlabel('Observed')\n",
    "plt.scatter(y_test, y_hat, marker='o')\n",
    "plt.show()\n"
   ]
  },
  {
   "cell_type": "code",
   "execution_count": 35,
   "metadata": {},
   "outputs": [
    {
     "name": "stdout",
     "output_type": "stream",
     "text": [
      "[0.34336957 0.28483513 0.33460592 0.36573023 0.54292591]\n",
      "Average 5-Fold CV Score: 0.37429335251808415\n"
     ]
    }
   ],
   "source": [
    "from sklearn.model_selection import cross_val_score\n",
    "reg = clf\n",
    "# Compute 10-fold cross-validation scores: cv_scores\n",
    "\n",
    "cv_scores = cross_val_score(reg,X[X.columns[snp_list]],Y,cv=5)\n",
    "\n",
    "# Print the 5-fold cross-validation scores\n",
    "print(cv_scores)\n",
    "\n",
    "print(\"Average 5-Fold CV Score: {}\".format(np.mean(cv_scores)))"
   ]
  },
  {
   "cell_type": "markdown",
   "metadata": {},
   "source": [
    "### Mathine Learning for Oil Content"
   ]
  },
  {
   "cell_type": "code",
   "execution_count": 36,
   "metadata": {},
   "outputs": [],
   "source": [
    "p_oil=cleaned_t[['id','oil']]"
   ]
  },
  {
   "cell_type": "code",
   "execution_count": 37,
   "metadata": {},
   "outputs": [],
   "source": [
    "g_plus_po=pd.merge(df,p_oil, left_on=df.id, right_on=p_oil.id, how='inner')"
   ]
  },
  {
   "cell_type": "code",
   "execution_count": 38,
   "metadata": {},
   "outputs": [],
   "source": [
    "g_plus_po=g_plus_po.dropna()"
   ]
  },
  {
   "cell_type": "code",
   "execution_count": 39,
   "metadata": {},
   "outputs": [
    {
     "data": {
      "text/html": [
       "<div>\n",
       "<style scoped>\n",
       "    .dataframe tbody tr th:only-of-type {\n",
       "        vertical-align: middle;\n",
       "    }\n",
       "\n",
       "    .dataframe tbody tr th {\n",
       "        vertical-align: top;\n",
       "    }\n",
       "\n",
       "    .dataframe thead th {\n",
       "        text-align: right;\n",
       "    }\n",
       "</style>\n",
       "<table border=\"1\" class=\"dataframe\">\n",
       "  <thead>\n",
       "    <tr style=\"text-align: right;\">\n",
       "      <th></th>\n",
       "      <th>key_0</th>\n",
       "      <th>id_x</th>\n",
       "      <th>Unnamed: 0.1</th>\n",
       "      <th>2</th>\n",
       "      <th>3</th>\n",
       "      <th>4</th>\n",
       "      <th>5</th>\n",
       "      <th>6</th>\n",
       "      <th>7</th>\n",
       "      <th>8</th>\n",
       "      <th>...</th>\n",
       "      <th>35213</th>\n",
       "      <th>35214</th>\n",
       "      <th>35215</th>\n",
       "      <th>35216</th>\n",
       "      <th>35217</th>\n",
       "      <th>35218</th>\n",
       "      <th>35219</th>\n",
       "      <th>origin</th>\n",
       "      <th>id_y</th>\n",
       "      <th>oil</th>\n",
       "    </tr>\n",
       "  </thead>\n",
       "  <tbody>\n",
       "    <tr>\n",
       "      <th>0</th>\n",
       "      <td>PI253651A</td>\n",
       "      <td>PI253651A</td>\n",
       "      <td>1</td>\n",
       "      <td>0</td>\n",
       "      <td>0</td>\n",
       "      <td>0</td>\n",
       "      <td>0</td>\n",
       "      <td>0</td>\n",
       "      <td>0</td>\n",
       "      <td>0</td>\n",
       "      <td>...</td>\n",
       "      <td>0</td>\n",
       "      <td>0</td>\n",
       "      <td>0</td>\n",
       "      <td>0</td>\n",
       "      <td>0</td>\n",
       "      <td>0</td>\n",
       "      <td>0</td>\n",
       "      <td>0</td>\n",
       "      <td>PI253651A</td>\n",
       "      <td>18.5</td>\n",
       "    </tr>\n",
       "    <tr>\n",
       "      <th>1</th>\n",
       "      <td>PI347550A</td>\n",
       "      <td>PI347550A</td>\n",
       "      <td>2</td>\n",
       "      <td>0</td>\n",
       "      <td>0</td>\n",
       "      <td>0</td>\n",
       "      <td>0</td>\n",
       "      <td>0</td>\n",
       "      <td>0</td>\n",
       "      <td>0</td>\n",
       "      <td>...</td>\n",
       "      <td>0</td>\n",
       "      <td>0</td>\n",
       "      <td>0</td>\n",
       "      <td>0</td>\n",
       "      <td>2</td>\n",
       "      <td>0</td>\n",
       "      <td>2</td>\n",
       "      <td>0</td>\n",
       "      <td>PI347550A</td>\n",
       "      <td>19.8</td>\n",
       "    </tr>\n",
       "    <tr>\n",
       "      <th>2</th>\n",
       "      <td>PI408055A</td>\n",
       "      <td>PI408055A</td>\n",
       "      <td>3</td>\n",
       "      <td>0</td>\n",
       "      <td>0</td>\n",
       "      <td>0</td>\n",
       "      <td>0</td>\n",
       "      <td>0</td>\n",
       "      <td>0</td>\n",
       "      <td>0</td>\n",
       "      <td>...</td>\n",
       "      <td>0</td>\n",
       "      <td>0</td>\n",
       "      <td>0</td>\n",
       "      <td>0</td>\n",
       "      <td>0</td>\n",
       "      <td>0</td>\n",
       "      <td>0</td>\n",
       "      <td>0</td>\n",
       "      <td>PI408055A</td>\n",
       "      <td>18.0</td>\n",
       "    </tr>\n",
       "    <tr>\n",
       "      <th>3</th>\n",
       "      <td>PI408069</td>\n",
       "      <td>PI408069</td>\n",
       "      <td>4</td>\n",
       "      <td>0</td>\n",
       "      <td>0</td>\n",
       "      <td>0</td>\n",
       "      <td>0</td>\n",
       "      <td>0</td>\n",
       "      <td>0</td>\n",
       "      <td>0</td>\n",
       "      <td>...</td>\n",
       "      <td>0</td>\n",
       "      <td>0</td>\n",
       "      <td>0</td>\n",
       "      <td>0</td>\n",
       "      <td>0</td>\n",
       "      <td>0</td>\n",
       "      <td>0</td>\n",
       "      <td>0</td>\n",
       "      <td>PI408069</td>\n",
       "      <td>20.6</td>\n",
       "    </tr>\n",
       "    <tr>\n",
       "      <th>4</th>\n",
       "      <td>PI408169A</td>\n",
       "      <td>PI408169A</td>\n",
       "      <td>5</td>\n",
       "      <td>2</td>\n",
       "      <td>2</td>\n",
       "      <td>2</td>\n",
       "      <td>0</td>\n",
       "      <td>2</td>\n",
       "      <td>0</td>\n",
       "      <td>2</td>\n",
       "      <td>...</td>\n",
       "      <td>0</td>\n",
       "      <td>0</td>\n",
       "      <td>0</td>\n",
       "      <td>0</td>\n",
       "      <td>0</td>\n",
       "      <td>0</td>\n",
       "      <td>0</td>\n",
       "      <td>0</td>\n",
       "      <td>PI408169A</td>\n",
       "      <td>16.4</td>\n",
       "    </tr>\n",
       "  </tbody>\n",
       "</table>\n",
       "<p>5 rows × 35224 columns</p>\n",
       "</div>"
      ],
      "text/plain": [
       "       key_0       id_x  Unnamed: 0.1  2  3  4  5  6  7  8  ...  35213  35214  \\\n",
       "0  PI253651A  PI253651A             1  0  0  0  0  0  0  0  ...      0      0   \n",
       "1  PI347550A  PI347550A             2  0  0  0  0  0  0  0  ...      0      0   \n",
       "2  PI408055A  PI408055A             3  0  0  0  0  0  0  0  ...      0      0   \n",
       "3   PI408069   PI408069             4  0  0  0  0  0  0  0  ...      0      0   \n",
       "4  PI408169A  PI408169A             5  2  2  2  0  2  0  2  ...      0      0   \n",
       "\n",
       "   35215  35216  35217  35218  35219  origin       id_y   oil  \n",
       "0      0      0      0      0      0       0  PI253651A  18.5  \n",
       "1      0      0      2      0      2       0  PI347550A  19.8  \n",
       "2      0      0      0      0      0       0  PI408055A  18.0  \n",
       "3      0      0      0      0      0       0   PI408069  20.6  \n",
       "4      0      0      0      0      0       0  PI408169A  16.4  \n",
       "\n",
       "[5 rows x 35224 columns]"
      ]
     },
     "execution_count": 39,
     "metadata": {},
     "output_type": "execute_result"
    }
   ],
   "source": [
    "g_plus_po.head()"
   ]
  },
  {
   "cell_type": "code",
   "execution_count": 40,
   "metadata": {},
   "outputs": [],
   "source": [
    "Y=g_plus_po['oil']"
   ]
  },
  {
   "cell_type": "code",
   "execution_count": 41,
   "metadata": {},
   "outputs": [],
   "source": [
    "X=g_plus_po.iloc[:,3:35221]"
   ]
  },
  {
   "cell_type": "code",
   "execution_count": 42,
   "metadata": {},
   "outputs": [
    {
     "name": "stdout",
     "output_type": "stream",
     "text": [
      "(7650, 35218) (7650,)\n",
      "(1913, 35218) (1913,)\n"
     ]
    }
   ],
   "source": [
    " # first trait analyzed\n",
    "X_train, X_test, y_train, y_test = train_test_split(X, Y, test_size=0.2)\n",
    "print(X_train.shape, y_train.shape)\n",
    "print(X_test.shape, y_test.shape)"
   ]
  },
  {
   "cell_type": "code",
   "execution_count": 43,
   "metadata": {},
   "outputs": [
    {
     "name": "stdout",
     "output_type": "stream",
     "text": [
      "       min max mean sd\n",
      "Train: 13.0 24.1 18.57241376062358 1.9915948185328765\n",
      "Test: 13.0 24.1 18.573915810925264 2.0711370190120513\n"
     ]
    }
   ],
   "source": [
    "print('       min max mean sd')\n",
    "print('Train:', y_train.min(), y_train.max(), y_train.mean(), np.sqrt(y_train.var()))\n",
    "print('Test:', y_test.min(), y_test.max(), y_test.mean(), np.sqrt(y_test.var()))"
   ]
  },
  {
   "cell_type": "code",
   "execution_count": 44,
   "metadata": {
    "scrolled": false
   },
   "outputs": [
    {
     "data": {
      "image/png": "[encoded data removed]",
      "text/plain": [
       "<Figure size 432x288 with 1 Axes>"
      ]
     },
     "metadata": {
      "needs_background": "light"
     },
     "output_type": "display_data"
    }
   ],
   "source": [
    "plt.title('Train / test data')\n",
    "plt.hist(y_train, label='Train')\n",
    "plt.hist(y_test, label='Test')\n",
    "plt.legend(loc='best')\n",
    "plt.show()\n"
   ]
  },
  {
   "cell_type": "code",
   "execution_count": 45,
   "metadata": {},
   "outputs": [],
   "source": [
    "#  SNP preselection according to a simple GWAS\n",
    "pvals = []\n",
    "for i in range(X_train.shape[1]-1):\n",
    "    b, intercept, r_value, p_value, std_err = stats.linregress(np.asarray(X_train.iloc[:,i]), np.asarray(y_train))\n",
    "    pvals.append(-np.log10(p_value))\n",
    "pvals = np.array(pvals)"
   ]
  },
  {
   "cell_type": "code",
   "execution_count": 46,
   "metadata": {
    "scrolled": true
   },
   "outputs": [
    {
     "data": {
      "image/png": "[encoded data removed]",
      "text/plain": [
       "<Figure size 432x288 with 1 Axes>"
      ]
     },
     "metadata": {
      "needs_background": "light"
     },
     "output_type": "display_data"
    }
   ],
   "source": [
    "# plot GWAS\n",
    "plt.ylabel('-log10 P-value')\n",
    "plt.xlabel('SNP')\n",
    "plt.plot(pvals, marker='o')\n",
    "plt.show()\n",
    "\n",
    "#  select by min_P_value\n",
    "# min_P_value = 3 # P = 0.01\n",
    "# snp_list = np.nonzero(pvals>min_P_value)\n",
    "N_best = 5000\n",
    "snp_list = pvals.argsort()[-N_best:]\n",
    "\n",
    "# finally slice X\n",
    "X_train = X_train[X_train.columns[snp_list]] \n",
    "X_test = X_test[X_test.columns[snp_list]]"
   ]
  },
  {
   "cell_type": "code",
   "execution_count": 48,
   "metadata": {},
   "outputs": [
    {
     "name": "stdout",
     "output_type": "stream",
     "text": [
      "Tuned lasso lpha: {'alpha': 0.012333333333333332}\n",
      "Tuned lasso R squared: 0.48127584794120004\n",
      "Tuned lasso MSE: 2.223960399347818\n"
     ]
    }
   ],
   "source": [
    "import warnings\n",
    "warnings.filterwarnings('ignore')\n",
    "# Import necessary modules\n",
    "from sklearn.linear_model import Lasso\n",
    "from sklearn.metrics import mean_squared_error \n",
    "from sklearn.model_selection import GridSearchCV, train_test_split\n",
    "\n",
    "## First round, I tried the  np.linspace(0, 1, 30), I found thar 0.037 is the best alpha,\n",
    "## however, 0.037 was the second value to 0, so it's nessary to try value between 0 and 0.037.\n",
    "# Create the hyperparameter grid\n",
    "a = np.linspace(0, 0.037, 10)\n",
    "param_grid = {'alpha': a}\n",
    "\n",
    "# Instantiate the lasso regressor: elastic_net\n",
    "lasso = linear_model.Lasso()\n",
    "\n",
    "# Setup the GridSearchCV\n",
    "gm_cv=GridSearchCV(lasso,param_grid,cv=5)\n",
    "\n",
    "# Fit it to the training data\n",
    "gm_cv.fit(X_train,y_train)\n",
    "\n",
    "# Predict on the test set and compute metrics\n",
    "y_pred = gm_cv.predict(X_test)\n",
    "r2 = gm_cv.score(X_test, y_test)\n",
    "mse = mean_squared_error(y_test, y_pred)\n",
    "print(\"Tuned lasso lpha: {}\".format(gm_cv.best_params_))\n",
    "print(\"Tuned lasso R squared: {}\".format(r2))\n",
    "print(\"Tuned lasso MSE: {}\".format(mse))"
   ]
  },
  {
   "cell_type": "code",
   "execution_count": 49,
   "metadata": {
    "scrolled": false
   },
   "outputs": [
    {
     "name": "stdout",
     "output_type": "stream",
     "text": [
      "\n",
      "MSE in prediction = 2.285489111818253\n",
      "\n",
      "Corr obs vs pred = 0.6851488303285074\n"
     ]
    },
    {
     "data": {
      "image/png": "[encoded data removed]",
      "text/plain": [
       "<Figure size 432x288 with 1 Axes>"
      ]
     },
     "metadata": {
      "needs_background": "light"
     },
     "output_type": "display_data"
    }
   ],
   "source": [
    "# alpha is the regularization parameter\n",
    "lasso = linear_model.Lasso(alpha=0.025)\n",
    "lasso.fit(X_train, y_train)\n",
    "y_hat = lasso.predict(X_test)\n",
    "\n",
    "# mean squared error\n",
    "mse = mean_squared_error(y_test, y_hat)\n",
    "print('\\nMSE in prediction =',mse)\n",
    "\n",
    "# correlation btw predicted and observed\n",
    "corr = np.corrcoef(y_test,y_hat)[0,1]\n",
    "print('\\nCorr obs vs pred =',corr)\n",
    "\n",
    "# plot observed vs. predicted targets\n",
    "plt.title('Lasso: Observed vs Predicted Y')\n",
    "plt.ylabel('Predicted')\n",
    "plt.xlabel('Observed')\n",
    "plt.scatter(y_test, y_hat, marker='o')\n",
    "plt.show()\n"
   ]
  },
  {
   "cell_type": "code",
   "execution_count": 50,
   "metadata": {},
   "outputs": [
    {
     "name": "stdout",
     "output_type": "stream",
     "text": [
      "[0.33175709 0.27053723 0.37156766 0.33832488 0.5807621 ]\n",
      "Average 5-Fold CV Score: 0.3785897908086915\n"
     ]
    }
   ],
   "source": [
    "\n",
    "from sklearn.model_selection import cross_val_score\n",
    "reg = lasso\n",
    "# Compute 10-fold cross-validation scores: cv_scores\n",
    "X=g_plus_po.iloc[:,3:35221]\n",
    "cv_scores = cross_val_score(reg,X[X.columns[snp_list]],Y,cv=5)\n",
    "\n",
    "# Print the 5-fold cross-validation scores\n",
    "print(cv_scores)\n",
    "\n",
    "print(\"Average 5-Fold CV Score: {}\".format(np.mean(cv_scores)))"
   ]
  },
  {
   "cell_type": "code",
   "execution_count": 51,
   "metadata": {},
   "outputs": [],
   "source": [
    "clf = RandomForestRegressor(100)"
   ]
  },
  {
   "cell_type": "code",
   "execution_count": 52,
   "metadata": {},
   "outputs": [
    {
     "name": "stdout",
     "output_type": "stream",
     "text": [
      "\n",
      "MSE in prediction = 2.2284804269438556\n",
      "\n",
      "Corr obs vs pred = 0.6952744717473994\n"
     ]
    },
    {
     "data": {
      "image/png": "[encoded data removed]",
      "text/plain": [
       "<Figure size 432x288 with 1 Axes>"
      ]
     },
     "metadata": {
      "needs_background": "light"
     },
     "output_type": "display_data"
    }
   ],
   "source": [
    "clf.fit(X_train, y_train)\n",
    "y_hat = clf.predict(X_test)\n",
    "\n",
    "# mean squared error\n",
    "mse = sm.mean_squared_error(y_test, y_hat)\n",
    "print('\\nMSE in prediction =',mse)\n",
    "\n",
    "# correlation btw predicted and observed\n",
    "corr = np.corrcoef(y_test,y_hat)[0,1]\n",
    "print('\\nCorr obs vs pred =',corr)\n",
    "\n",
    "# plot observed vs. predicted targets\n",
    "plt.title('Random Forest: Observed vs Predicted Y')\n",
    "plt.ylabel('Predicted')\n",
    "plt.xlabel('Observed')\n",
    "plt.scatter(y_test, y_hat, marker='o')\n",
    "plt.show()"
   ]
  },
  {
   "cell_type": "code",
   "execution_count": 53,
   "metadata": {},
   "outputs": [
    {
     "name": "stdout",
     "output_type": "stream",
     "text": [
      "[0.33365784 0.26889051 0.34294245 0.32967079 0.57627477]\n",
      "Average 5-Fold CV Score: 0.37028727031758824\n"
     ]
    }
   ],
   "source": [
    "from sklearn.model_selection import cross_val_score\n",
    "reg = clf\n",
    "# Compute 10-fold cross-validation scores: cv_scores\n",
    "\n",
    "cv_scores = cross_val_score(reg,X[X.columns[snp_list]],Y,cv=5)\n",
    "\n",
    "# Print the 5-fold cross-validation scores\n",
    "print(cv_scores)\n",
    "\n",
    "print(\"Average 5-Fold CV Score: {}\".format(np.mean(cv_scores)))"
   ]
  },
  {
   "cell_type": "markdown",
   "metadata": {},
   "source": [
    "## Mathine Learning for Yield"
   ]
  },
  {
   "cell_type": "code",
   "execution_count": 54,
   "metadata": {},
   "outputs": [],
   "source": [
    "p_yield=cleaned_t[['id','yield']]"
   ]
  },
  {
   "cell_type": "code",
   "execution_count": 55,
   "metadata": {},
   "outputs": [],
   "source": [
    "g_plus_py=pd.merge(df,p_yield, left_on=df.id, right_on=p_yield.id, how='inner')"
   ]
  },
  {
   "cell_type": "code",
   "execution_count": 56,
   "metadata": {},
   "outputs": [],
   "source": [
    "g_plus_py=g_plus_py.dropna()"
   ]
  },
  {
   "cell_type": "code",
   "execution_count": 57,
   "metadata": {},
   "outputs": [
    {
     "data": {
      "text/html": [
       "<div>\n",
       "<style scoped>\n",
       "    .dataframe tbody tr th:only-of-type {\n",
       "        vertical-align: middle;\n",
       "    }\n",
       "\n",
       "    .dataframe tbody tr th {\n",
       "        vertical-align: top;\n",
       "    }\n",
       "\n",
       "    .dataframe thead th {\n",
       "        text-align: right;\n",
       "    }\n",
       "</style>\n",
       "<table border=\"1\" class=\"dataframe\">\n",
       "  <thead>\n",
       "    <tr style=\"text-align: right;\">\n",
       "      <th></th>\n",
       "      <th>key_0</th>\n",
       "      <th>id_x</th>\n",
       "      <th>Unnamed: 0.1</th>\n",
       "      <th>2</th>\n",
       "      <th>3</th>\n",
       "      <th>4</th>\n",
       "      <th>5</th>\n",
       "      <th>6</th>\n",
       "      <th>7</th>\n",
       "      <th>8</th>\n",
       "      <th>...</th>\n",
       "      <th>35213</th>\n",
       "      <th>35214</th>\n",
       "      <th>35215</th>\n",
       "      <th>35216</th>\n",
       "      <th>35217</th>\n",
       "      <th>35218</th>\n",
       "      <th>35219</th>\n",
       "      <th>origin</th>\n",
       "      <th>id_y</th>\n",
       "      <th>yield</th>\n",
       "    </tr>\n",
       "  </thead>\n",
       "  <tbody>\n",
       "    <tr>\n",
       "      <th>0</th>\n",
       "      <td>PI253651A</td>\n",
       "      <td>PI253651A</td>\n",
       "      <td>1</td>\n",
       "      <td>0</td>\n",
       "      <td>0</td>\n",
       "      <td>0</td>\n",
       "      <td>0</td>\n",
       "      <td>0</td>\n",
       "      <td>0</td>\n",
       "      <td>0</td>\n",
       "      <td>...</td>\n",
       "      <td>0</td>\n",
       "      <td>0</td>\n",
       "      <td>0</td>\n",
       "      <td>0</td>\n",
       "      <td>0</td>\n",
       "      <td>0</td>\n",
       "      <td>0</td>\n",
       "      <td>0</td>\n",
       "      <td>PI253651A</td>\n",
       "      <td>2.43</td>\n",
       "    </tr>\n",
       "    <tr>\n",
       "      <th>1</th>\n",
       "      <td>PI347550A</td>\n",
       "      <td>PI347550A</td>\n",
       "      <td>2</td>\n",
       "      <td>0</td>\n",
       "      <td>0</td>\n",
       "      <td>0</td>\n",
       "      <td>0</td>\n",
       "      <td>0</td>\n",
       "      <td>0</td>\n",
       "      <td>0</td>\n",
       "      <td>...</td>\n",
       "      <td>0</td>\n",
       "      <td>0</td>\n",
       "      <td>0</td>\n",
       "      <td>0</td>\n",
       "      <td>2</td>\n",
       "      <td>0</td>\n",
       "      <td>2</td>\n",
       "      <td>0</td>\n",
       "      <td>PI347550A</td>\n",
       "      <td>3.29</td>\n",
       "    </tr>\n",
       "    <tr>\n",
       "      <th>2</th>\n",
       "      <td>PI408055A</td>\n",
       "      <td>PI408055A</td>\n",
       "      <td>3</td>\n",
       "      <td>0</td>\n",
       "      <td>0</td>\n",
       "      <td>0</td>\n",
       "      <td>0</td>\n",
       "      <td>0</td>\n",
       "      <td>0</td>\n",
       "      <td>0</td>\n",
       "      <td>...</td>\n",
       "      <td>0</td>\n",
       "      <td>0</td>\n",
       "      <td>0</td>\n",
       "      <td>0</td>\n",
       "      <td>0</td>\n",
       "      <td>0</td>\n",
       "      <td>0</td>\n",
       "      <td>0</td>\n",
       "      <td>PI408055A</td>\n",
       "      <td>2.41</td>\n",
       "    </tr>\n",
       "    <tr>\n",
       "      <th>4</th>\n",
       "      <td>PI408169A</td>\n",
       "      <td>PI408169A</td>\n",
       "      <td>5</td>\n",
       "      <td>2</td>\n",
       "      <td>2</td>\n",
       "      <td>2</td>\n",
       "      <td>0</td>\n",
       "      <td>2</td>\n",
       "      <td>0</td>\n",
       "      <td>2</td>\n",
       "      <td>...</td>\n",
       "      <td>0</td>\n",
       "      <td>0</td>\n",
       "      <td>0</td>\n",
       "      <td>0</td>\n",
       "      <td>0</td>\n",
       "      <td>0</td>\n",
       "      <td>0</td>\n",
       "      <td>0</td>\n",
       "      <td>PI408169A</td>\n",
       "      <td>1.93</td>\n",
       "    </tr>\n",
       "    <tr>\n",
       "      <th>6</th>\n",
       "      <td>PI416923</td>\n",
       "      <td>PI416923</td>\n",
       "      <td>7</td>\n",
       "      <td>0</td>\n",
       "      <td>0</td>\n",
       "      <td>0</td>\n",
       "      <td>0</td>\n",
       "      <td>0</td>\n",
       "      <td>0</td>\n",
       "      <td>0</td>\n",
       "      <td>...</td>\n",
       "      <td>0</td>\n",
       "      <td>0</td>\n",
       "      <td>0</td>\n",
       "      <td>0</td>\n",
       "      <td>0</td>\n",
       "      <td>0</td>\n",
       "      <td>0</td>\n",
       "      <td>0</td>\n",
       "      <td>PI416923</td>\n",
       "      <td>2.77</td>\n",
       "    </tr>\n",
       "  </tbody>\n",
       "</table>\n",
       "<p>5 rows × 35224 columns</p>\n",
       "</div>"
      ],
      "text/plain": [
       "       key_0       id_x  Unnamed: 0.1  2  3  4  5  6  7  8  ...  35213  35214  \\\n",
       "0  PI253651A  PI253651A             1  0  0  0  0  0  0  0  ...      0      0   \n",
       "1  PI347550A  PI347550A             2  0  0  0  0  0  0  0  ...      0      0   \n",
       "2  PI408055A  PI408055A             3  0  0  0  0  0  0  0  ...      0      0   \n",
       "4  PI408169A  PI408169A             5  2  2  2  0  2  0  2  ...      0      0   \n",
       "6   PI416923   PI416923             7  0  0  0  0  0  0  0  ...      0      0   \n",
       "\n",
       "   35215  35216  35217  35218  35219  origin       id_y  yield  \n",
       "0      0      0      0      0      0       0  PI253651A   2.43  \n",
       "1      0      0      2      0      2       0  PI347550A   3.29  \n",
       "2      0      0      0      0      0       0  PI408055A   2.41  \n",
       "4      0      0      0      0      0       0  PI408169A   1.93  \n",
       "6      0      0      0      0      0       0   PI416923   2.77  \n",
       "\n",
       "[5 rows x 35224 columns]"
      ]
     },
     "execution_count": 57,
     "metadata": {},
     "output_type": "execute_result"
    }
   ],
   "source": [
    "g_plus_py.head()"
   ]
  },
  {
   "cell_type": "code",
   "execution_count": 58,
   "metadata": {},
   "outputs": [],
   "source": [
    "X=g_plus_py.iloc[:,3:35221]"
   ]
  },
  {
   "cell_type": "code",
   "execution_count": 59,
   "metadata": {},
   "outputs": [],
   "source": [
    "Y=g_plus_py['yield']"
   ]
  },
  {
   "cell_type": "code",
   "execution_count": 60,
   "metadata": {},
   "outputs": [
    {
     "name": "stdout",
     "output_type": "stream",
     "text": [
      "(5632, 35218) (5632,)\n",
      "(1409, 35218) (1409,)\n"
     ]
    }
   ],
   "source": [
    " # first trait analyzed\n",
    "X_train, X_test, y_train, y_test = train_test_split(X, Y, test_size=0.2)\n",
    "print(X_train.shape, y_train.shape)\n",
    "print(X_test.shape, y_test.shape)"
   ]
  },
  {
   "cell_type": "code",
   "execution_count": 61,
   "metadata": {},
   "outputs": [
    {
     "name": "stdout",
     "output_type": "stream",
     "text": [
      "       min max mean sd\n",
      "Train: 0.03 4.958 2.2137421875000034 0.9844113921344034\n",
      "Test: 0.08 4.947 2.1698630234208656 0.9933125597259506\n"
     ]
    }
   ],
   "source": [
    "print('       min max mean sd')\n",
    "print('Train:', y_train.min(), y_train.max(), y_train.mean(), np.sqrt(y_train.var()))\n",
    "print('Test:', y_test.min(), y_test.max(), y_test.mean(), np.sqrt(y_test.var()))"
   ]
  },
  {
   "cell_type": "code",
   "execution_count": 62,
   "metadata": {
    "scrolled": false
   },
   "outputs": [
    {
     "data": {
      "image/png": "[encoded data removed]",
      "text/plain": [
       "<Figure size 432x288 with 1 Axes>"
      ]
     },
     "metadata": {
      "needs_background": "light"
     },
     "output_type": "display_data"
    }
   ],
   "source": [
    "plt.title('Train / test data')\n",
    "plt.hist(y_train, label='Train')\n",
    "plt.hist(y_test, label='Test')\n",
    "plt.legend(loc='best')\n",
    "plt.show()\n",
    "\n"
   ]
  },
  {
   "cell_type": "code",
   "execution_count": 63,
   "metadata": {},
   "outputs": [],
   "source": [
    "#  SNP preselection according to a simple GWAS\n",
    "pvals = []\n",
    "for i in range(X_train.shape[1]):\n",
    "    b, intercept, r_value, p_value, std_err = stats.linregress(np.asarray(X_train.iloc[:,i]), np.asarray(y_train))\n",
    "    pvals.append(-np.log10(p_value))\n",
    "pvals = np.array(pvals)"
   ]
  },
  {
   "cell_type": "code",
   "execution_count": 64,
   "metadata": {
    "scrolled": true
   },
   "outputs": [
    {
     "data": {
      "image/png": "[encoded data removed]",
      "text/plain": [
       "<Figure size 432x288 with 1 Axes>"
      ]
     },
     "metadata": {
      "needs_background": "light"
     },
     "output_type": "display_data"
    }
   ],
   "source": [
    "# plot GWAS\n",
    "plt.ylabel('-log10 P-value')\n",
    "plt.xlabel('SNP')\n",
    "plt.plot(pvals, marker='o')\n",
    "plt.show()\n",
    "\n",
    "# select by min_P_value\n",
    "min_P_value = 3 # P = 0.001\n",
    "snp_list = np.nonzero(pvals>min_P_value)\n",
    "\n",
    "# finally slice X\n",
    "X_train = X_train[X_train.columns[snp_list]] \n",
    "X_test = X_test[X_test.columns[snp_list]]"
   ]
  },
  {
   "cell_type": "code",
   "execution_count": 65,
   "metadata": {},
   "outputs": [
    {
     "name": "stdout",
     "output_type": "stream",
     "text": [
      "Tuned lasso alpha: {'alpha': 0.008222222222222221}\n",
      "Tuned lasso R squared: 0.7380375792869482\n",
      "Tuned lasso MSE: 0.25828697761825675\n"
     ]
    }
   ],
   "source": [
    "# Import necessary modules\n",
    "from sklearn.linear_model import Lasso\n",
    "from sklearn.metrics import mean_squared_error \n",
    "from sklearn.model_selection import GridSearchCV, train_test_split\n",
    "\n",
    "# Create the hyperparameter grid\n",
    "a = np.linspace(0, 0.037, 10)\n",
    "param_grid = {'alpha': a}\n",
    "\n",
    "# Instantiate the lasso regressor: elastic_net\n",
    "lasso = linear_model.Lasso()\n",
    "\n",
    "# Setup the GridSearchCV\n",
    "gm_cv=GridSearchCV(lasso,param_grid,cv=5)\n",
    "\n",
    "# Fit it to the training data\n",
    "gm_cv.fit(X_train,y_train)\n",
    "\n",
    "# Predict on the test set and compute metrics\n",
    "y_pred = gm_cv.predict(X_test)\n",
    "r2 = gm_cv.score(X_test, y_test)\n",
    "mse = mean_squared_error(y_test, y_pred)\n",
    "print(\"Tuned lasso alpha: {}\".format(gm_cv.best_params_))\n",
    "print(\"Tuned lasso R squared: {}\".format(r2))\n",
    "print(\"Tuned lasso MSE: {}\".format(mse))"
   ]
  },
  {
   "cell_type": "code",
   "execution_count": 66,
   "metadata": {
    "scrolled": false
   },
   "outputs": [
    {
     "name": "stdout",
     "output_type": "stream",
     "text": [
      "\n",
      "MSE in prediction = 0.25824271621629263\n",
      "\n",
      "Corr obs vs pred = 0.8594938992764674\n"
     ]
    },
    {
     "data": {
      "image/png": "[encoded data removed]",
      "text/plain": [
       "<Figure size 432x288 with 1 Axes>"
      ]
     },
     "metadata": {
      "needs_background": "light"
     },
     "output_type": "display_data"
    }
   ],
   "source": [
    "## Use the best parameter from the above grid-search, namely: 'alpha'= 0.008222\n",
    "# alpha is the regularization parameter\n",
    "lasso = linear_model.Lasso(alpha=0.0082)\n",
    "lasso.fit(X_train, y_train)\n",
    "y_hat = lasso.predict(X_test)\n",
    "\n",
    "# mean squared error\n",
    "mse = mean_squared_error(y_test, y_hat)\n",
    "print('\\nMSE in prediction =',mse)\n",
    "\n",
    "# correlation btw predicted and observed\n",
    "corr = np.corrcoef(y_test,y_hat)[0,1]\n",
    "print('\\nCorr obs vs pred =',corr)\n",
    "\n",
    "# plot observed vs. predicted targets\n",
    "plt.title('Lasso: Observed vs Predicted Y')\n",
    "plt.ylabel('Predicted')\n",
    "plt.xlabel('Observed')\n",
    "plt.scatter(y_test, y_hat, marker='o')\n",
    "plt.show()\n"
   ]
  },
  {
   "cell_type": "code",
   "execution_count": 68,
   "metadata": {},
   "outputs": [
    {
     "name": "stdout",
     "output_type": "stream",
     "text": [
      "[0.49986473 0.24506729 0.43588618 0.29439473 0.70027698]\n",
      "Average 5-Fold CV Score: 0.43509798182578185\n"
     ]
    }
   ],
   "source": [
    "from sklearn.model_selection import cross_val_score\n",
    "reg = lasso\n",
    "# Compute 5-fold cross-validation scores: cv_scores\n",
    "X=g_plus_py.iloc[:,3:35221]\n",
    "cv_scores = cross_val_score(reg,X[X.columns[snp_list]],Y,cv=5)\n",
    "\n",
    "# Print the 5-fold cross-validation scores\n",
    "print(cv_scores)\n",
    "\n",
    "print(\"Average 5-Fold CV Score: {}\".format(np.mean(cv_scores)))"
   ]
  },
  {
   "cell_type": "code",
   "execution_count": 69,
   "metadata": {},
   "outputs": [],
   "source": [
    "clf = RandomForestRegressor(100)"
   ]
  },
  {
   "cell_type": "code",
   "execution_count": 70,
   "metadata": {
    "scrolled": true
   },
   "outputs": [
    {
     "name": "stdout",
     "output_type": "stream",
     "text": [
      "\n",
      "MSE in prediction = 0.25321081240340665\n",
      "\n",
      "Corr obs vs pred = 0.8637830018481261\n"
     ]
    },
    {
     "data": {
      "image/png": "[encoded data removed]",
      "text/plain": [
       "<Figure size 432x288 with 1 Axes>"
      ]
     },
     "metadata": {
      "needs_background": "light"
     },
     "output_type": "display_data"
    }
   ],
   "source": [
    "clf.fit(X_train, y_train)\n",
    "y_hat = clf.predict(X_test)\n",
    "\n",
    "# mean squared error\n",
    "mse = sm.mean_squared_error(y_test, y_hat)\n",
    "print('\\nMSE in prediction =',mse)\n",
    "\n",
    "\n",
    "# correlation btw predicted and observed\n",
    "corr = np.corrcoef(y_test,y_hat)[0,1]\n",
    "print('\\nCorr obs vs pred =',corr)\n",
    "\n",
    "# plot observed vs. predicted targets\n",
    "plt.title('Random Forest: Observed vs Predicted Y')\n",
    "plt.ylabel('Predicted')\n",
    "plt.xlabel('Observed')\n",
    "plt.scatter(y_test, y_hat, marker='o')\n",
    "plt.show()"
   ]
  },
  {
   "cell_type": "code",
   "execution_count": 71,
   "metadata": {},
   "outputs": [
    {
     "name": "stdout",
     "output_type": "stream",
     "text": [
      "[0.49387147 0.24111418 0.39941971 0.21598326 0.52582469]\n",
      "Average 5-Fold CV Score: 0.37524266040600696\n"
     ]
    }
   ],
   "source": [
    "from sklearn.model_selection import cross_val_score\n",
    "reg = clf\n",
    "# Compute 10-fold cross-validation scores: cv_scores\n",
    "\n",
    "cv_scores = cross_val_score(reg,X[X.columns[snp_list]],Y,cv=5)\n",
    "\n",
    "# Print the 5-fold cross-validation scores\n",
    "print(cv_scores)\n",
    "\n",
    "print(\"Average 5-Fold CV Score: {}\".format(np.mean(cv_scores)))"
   ]
  },
  {
   "cell_type": "code",
   "execution_count": 72,
   "metadata": {},
   "outputs": [
    {
     "data": {
      "text/plain": [
       "<seaborn.axisgrid.FacetGrid at 0x1fe5ab70>"
      ]
     },
     "execution_count": 72,
     "metadata": {},
     "output_type": "execute_result"
    },
    {
     "data": {
      "image/png": "[encoded data removed]",
      "text/plain": [
       "<Figure size 1196.5x360 with 3 Axes>"
      ]
     },
     "metadata": {
      "needs_background": "light"
     },
     "output_type": "display_data"
    }
   ],
   "source": [
    "acc=pd.read_csv('3tt.csv')\n",
    "sns.catplot(x='Method',y='Accuracy',hue='Accuracy type',data=acc,col='Trait',kind='bar')"
   ]
  },
  {
   "cell_type": "markdown",
   "metadata": {},
   "source": [
    "## Random Forest method outperform linear model for all three traits"
   ]
  }
 ],
 "metadata": {
  "kernelspec": {
   "display_name": "Python 3",
   "language": "python",
   "name": "python3"
  },
  "language_info": {
   "codemirror_mode": {
    "name": "ipython",
    "version": 3
   },
   "file_extension": ".py",
   "mimetype": "text/x-python",
   "name": "python",
   "nbconvert_exporter": "python",
   "pygments_lexer": "ipython3",
   "version": "3.7.3"
  }
 },
 "nbformat": 4,
 "nbformat_minor": 2
}
